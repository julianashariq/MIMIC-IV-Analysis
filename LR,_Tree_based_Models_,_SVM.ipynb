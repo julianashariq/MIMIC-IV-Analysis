{
  "cells": [
    {
      "cell_type": "markdown",
      "metadata": {
        "id": "QgbHgvVlV0Z4"
      },
      "source": [
        "#### Import Libraries"
      ]
    },
    {
      "cell_type": "code",
      "execution_count": 1,
      "metadata": {
        "id": "rlyKUK4oV0Z5"
      },
      "outputs": [],
      "source": [
        "import pandas as pd\n",
        "import numpy as np\n",
        "import matplotlib.pyplot as plt\n",
        "import seaborn as sns\n",
        "from sklearn import preprocessing\n",
        "from google.colab.data_table import DataTable\n",
        "DataTable.max_columns = 60"
      ]
    },
    {
      "cell_type": "markdown",
      "metadata": {
        "id": "TbzA1QU_ZcqQ"
      },
      "source": [
        "# Logistic Regression\n",
        "\n",
        "*   Compare Logistic Regression (Vanilla), Logistic Regression with L1 Regularization and Logistic Regression with L2 Regularization (No feature selection)\n",
        "*   Compare logistic regression with and without feature selection (forward & backward)\n",
        "\n"
      ]
    },
    {
      "cell_type": "code",
      "execution_count": 23,
      "metadata": {
        "id": "I145DhjBZ2qZ"
      },
      "outputs": [],
      "source": [
        "# PyTorch package and submodules\n",
        "import torch\n",
        "import torch.nn as nn\n",
        "from torch.optim import SGD #gradient descent optimizer\n",
        "\n",
        "# Plotly plotting package\n",
        "import plotly.graph_objects as go\n",
        "import plotly.express as px\n",
        "\n",
        "# We use AUROC and average precision (AP) scores from sklearn\n",
        "from sklearn.metrics import roc_auc_score, average_precision_score"
      ]
    },
    {
      "cell_type": "code",
      "execution_count": 24,
      "metadata": {
        "id": "RShPcAr0aQIC"
      },
      "outputs": [],
      "source": [
        "# We convert dataframe to numpy array to PyTorch tensor datatype for training dataframe\n",
        "X_train = torch.tensor(X_df_SMOTE.to_numpy(),dtype=torch.float32)\n",
        "m,n = X_train.shape\n",
        "y_train = torch.tensor(y_df_SMOTE.to_numpy(),dtype=torch.float32).reshape(m,1)\n",
        "\n",
        "# for test dataframe\n",
        "X_test = torch.tensor(X_df_Test.to_numpy(),dtype=torch.float32)\n",
        "m,n = X_test.shape\n",
        "y_test = torch.tensor(y_df_Test.to_numpy(),dtype=torch.float32).reshape(m,1)"
      ]
    },
    {
      "cell_type": "markdown",
      "metadata": {
        "id": "aB8K8buFdT-9"
      },
      "source": [
        "We first fit an ordinary logistic regression model as a baseline. We will use AUROC and average precision (AP) scores to test model performance."
      ]
    },
    {
      "cell_type": "code",
      "execution_count": 25,
      "metadata": {
        "colab": {
          "base_uri": "https://localhost:8080/"
        },
        "id": "dRdb_oo8dWHW",
        "outputId": "a922320d-d956-4cb8-c585-6e2962e95d44"
      },
      "outputs": [
        {
          "output_type": "stream",
          "name": "stdout",
          "text": [
            "Iter 1: average BCE loss is 0.737\n",
            "Iter 500: average BCE loss is 0.568\n",
            "Iter 1000: average BCE loss is 0.560\n",
            "Iter 1500: average BCE loss is 0.559\n",
            "Iter 2000: average BCE loss is 0.559\n",
            "Iter 2500: average BCE loss is 0.559\n",
            "Iter 3000: average BCE loss is 0.559\n",
            "Iter 3500: average BCE loss is 0.559\n",
            "Iter 4000: average BCE loss is 0.559\n",
            "Iter 4500: average BCE loss is 0.559\n",
            "Iter 5000: average BCE loss is 0.559\n",
            "On test dataset: AUROC 0.731, AP 0.181\n"
          ]
        }
      ],
      "source": [
        "h = torch.nn.Linear(\n",
        "    in_features=n,\n",
        "    out_features=1,\n",
        "    bias=True\n",
        ")\n",
        "sigma = torch.nn.Sigmoid()\n",
        "\n",
        "# Logistic model is linear+sigmoid\n",
        "f = torch.nn.Sequential(\n",
        "    h,\n",
        "    sigma\n",
        ")\n",
        "\n",
        "J_BCE = torch.nn.BCELoss()\n",
        "# We use the Adam optimizer, which is a variant of gradient descent method with momentum.\n",
        "# Adam optimizer is a special gradient descent method with an automatic adaptation of learning rate\n",
        "# so it converges at a faster rate\n",
        "\n",
        "# parameters that they will optimize are all the parameters\n",
        "GD_optimizer = torch.optim.Adam(lr=0.01,params=f.parameters())\n",
        "\n",
        "nIter = 5000\n",
        "printInterval = 500\n",
        "\n",
        "for i in range(nIter):\n",
        "    GD_optimizer.zero_grad()\n",
        "    pred = f(X_train)\n",
        "    loss = J_BCE(pred,y_train)\n",
        "    loss.backward()\n",
        "    GD_optimizer.step()\n",
        "    if i == 0 or ((i+1)%printInterval) == 0:\n",
        "        print('Iter {}: average BCE loss is {:.3f}'.format(i+1,loss.item()))\n",
        "\n",
        "with torch.no_grad():\n",
        "    pred_test = f(X_test)\n",
        "\n",
        "auroc = roc_auc_score(y_test,pred_test)\n",
        "ap = average_precision_score(y_test,pred_test)\n",
        "print('On test dataset: AUROC {:.3f}, AP {:.3f}'.format(auroc,ap))"
      ]
    },
    {
      "cell_type": "code",
      "execution_count": 26,
      "metadata": {
        "id": "_VehZGE7iqfB"
      },
      "outputs": [],
      "source": [
        "weight = h.weight.detach().squeeze().clone()"
      ]
    },
    {
      "cell_type": "markdown",
      "metadata": {
        "id": "55tDohUKgFox"
      },
      "source": [
        "We will perform a logistic regression model with L2 regularization. We will use AUROC and average precision (AP) scores to test model performance.\n",
        "\n"
      ]
    },
    {
      "cell_type": "code",
      "execution_count": 27,
      "metadata": {
        "colab": {
          "base_uri": "https://localhost:8080/"
        },
        "id": "LxC2ZAdkgUHT",
        "outputId": "08d81508-a39c-4735-9e75-e6cc39c94791"
      },
      "outputs": [
        {
          "output_type": "stream",
          "name": "stdout",
          "text": [
            "Iter 1: average BCE loss is 0.715\n",
            "Iter 50: average BCE loss is 0.656\n",
            "Iter 100: average BCE loss is 0.644\n",
            "Iter 150: average BCE loss is 0.641\n",
            "Iter 200: average BCE loss is 0.640\n",
            "Iter 250: average BCE loss is 0.640\n",
            "Iter 300: average BCE loss is 0.640\n",
            "Iter 350: average BCE loss is 0.640\n",
            "Iter 400: average BCE loss is 0.640\n",
            "Iter 450: average BCE loss is 0.640\n",
            "Iter 500: average BCE loss is 0.640\n",
            "Iter 550: average BCE loss is 0.640\n",
            "Iter 600: average BCE loss is 0.640\n",
            "Iter 650: average BCE loss is 0.640\n",
            "Iter 700: average BCE loss is 0.640\n",
            "Iter 750: average BCE loss is 0.640\n",
            "Iter 800: average BCE loss is 0.640\n",
            "Iter 850: average BCE loss is 0.640\n",
            "Iter 900: average BCE loss is 0.640\n",
            "Iter 950: average BCE loss is 0.640\n",
            "Iter 1000: average BCE loss is 0.640\n",
            "On test dataset: AUROC 0.735, AP 0.201\n"
          ]
        }
      ],
      "source": [
        "h_L2 = torch.nn.Linear(\n",
        "    in_features=n,\n",
        "    out_features=1,\n",
        "    bias=True\n",
        ")\n",
        "sigma = torch.nn.Sigmoid()\n",
        "\n",
        "# Logistic model is linear+sigmoid (with regularization)\n",
        "f_L2 = torch.nn.Sequential(\n",
        "    h_L2,\n",
        "    sigma\n",
        ")\n",
        "\n",
        "J_BCE = torch.nn.BCELoss()\n",
        "\n",
        "# PyTorch optimizer support L2 regularization by\n",
        "# setting the weight_decay parameter, which corresponds to\n",
        "# the regularization strength\n",
        "GD_optimizer = torch.optim.Adam(lr=0.01,params=f_L2.parameters(),weight_decay=0.05)\n",
        "\n",
        "nIter = 1000\n",
        "printInterval = 50\n",
        "\n",
        "for i in range(nIter):\n",
        "    GD_optimizer.zero_grad()\n",
        "    pred = f_L2(X_train)\n",
        "    loss = J_BCE(pred,y_train)\n",
        "    loss.backward()\n",
        "    GD_optimizer.step()\n",
        "    if i == 0 or ((i+1)%printInterval) == 0:\n",
        "        print('Iter {}: average BCE loss is {:.3f}'.format(i+1,loss.item()))\n",
        "\n",
        "with torch.no_grad():\n",
        "    pred_test = f_L2(X_test)\n",
        "\n",
        "auroc = roc_auc_score(y_test,pred_test)\n",
        "ap = average_precision_score(y_test,pred_test)\n",
        "print('On test dataset: AUROC {:.3f}, AP {:.3f}'.format(auroc,ap))"
      ]
    },
    {
      "cell_type": "code",
      "execution_count": 28,
      "metadata": {
        "id": "yyfO2CUni1yY"
      },
      "outputs": [],
      "source": [
        "weight_L2 = h_L2.weight.detach().squeeze().clone()"
      ]
    },
    {
      "cell_type": "markdown",
      "metadata": {
        "id": "VJkfezVSguVz"
      },
      "source": [
        "We will perform a logistic regression model with L1 regularization. We will use AUROC and average precision (AP) scores to test model performance.\n",
        "\n"
      ]
    },
    {
      "cell_type": "code",
      "execution_count": 29,
      "metadata": {
        "colab": {
          "base_uri": "https://localhost:8080/"
        },
        "id": "5DmvS0g3gwI0",
        "outputId": "e04e5e21-017c-4674-85f0-f5dd1ac655c1"
      },
      "outputs": [
        {
          "output_type": "stream",
          "name": "stdout",
          "text": [
            "Iter 1: average BCE loss is 0.723\n",
            "Iter 50: average BCE loss is 0.672\n",
            "Iter 100: average BCE loss is 0.660\n",
            "Iter 150: average BCE loss is 0.652\n",
            "Iter 200: average BCE loss is 0.648\n",
            "Iter 250: average BCE loss is 0.646\n",
            "Iter 300: average BCE loss is 0.646\n",
            "Iter 350: average BCE loss is 0.646\n",
            "Iter 400: average BCE loss is 0.645\n",
            "Iter 450: average BCE loss is 0.646\n",
            "Iter 500: average BCE loss is 0.646\n",
            "Iter 550: average BCE loss is 0.646\n",
            "Iter 600: average BCE loss is 0.645\n",
            "Iter 650: average BCE loss is 0.646\n",
            "Iter 700: average BCE loss is 0.646\n",
            "Iter 750: average BCE loss is 0.645\n",
            "Iter 800: average BCE loss is 0.646\n",
            "Iter 850: average BCE loss is 0.646\n",
            "Iter 900: average BCE loss is 0.645\n",
            "Iter 950: average BCE loss is 0.645\n",
            "Iter 1000: average BCE loss is 0.646\n",
            "On test dataset: AUROC 0.703, AP 0.154\n"
          ]
        }
      ],
      "source": [
        "h_L1 = torch.nn.Linear(\n",
        "    in_features=n,\n",
        "    out_features=1,\n",
        "    bias=True\n",
        ")\n",
        "sigma = torch.nn.Sigmoid()\n",
        "\n",
        "# Logistic model is linear+sigmoid\n",
        "f_L1 = torch.nn.Sequential(\n",
        "    h_L1,\n",
        "    sigma\n",
        ")\n",
        "\n",
        "J_BCE = torch.nn.BCELoss()\n",
        "\n",
        "GD_optimizer = torch.optim.Adam(lr=0.01,params=f_L1.parameters())\n",
        "\n",
        "# Define L_1 regularization\n",
        "def L1_reg(model,lbd):\n",
        "    result = torch.tensor(0)\n",
        "    for param in model.parameters(): # iterate over all parameters of our model\n",
        "        result = result + param.abs().sum()\n",
        "\n",
        "    return lbd*result\n",
        "\n",
        "\n",
        "nIter = 1000\n",
        "printInterval = 50\n",
        "lbd = 0.03 # L1 reg strength\n",
        "\n",
        "for i in range(nIter):\n",
        "    GD_optimizer.zero_grad()\n",
        "    pred = f_L1(X_train)\n",
        "    loss = J_BCE(pred,y_train)\n",
        "    (loss+L1_reg(f_L1,lbd)).backward() #backward calculates differentiation\n",
        "    GD_optimizer.step()\n",
        "    if i == 0 or ((i+1)%printInterval) == 0:\n",
        "        print('Iter {}: average BCE loss is {:.3f}'.format(i+1,loss.item()))\n",
        "\n",
        "with torch.no_grad():\n",
        "    pred_test = f_L1(X_test)\n",
        "\n",
        "auroc = roc_auc_score(y_test,pred_test)\n",
        "ap = average_precision_score(y_test,pred_test)\n",
        "print('On test dataset: AUROC {:.3f}, AP {:.3f}'.format(auroc,ap))"
      ]
    },
    {
      "cell_type": "code",
      "execution_count": 30,
      "metadata": {
        "id": "1YYRmlfTi5qv"
      },
      "outputs": [],
      "source": [
        "weight_L1 = h_L1.weight.detach().squeeze().clone()"
      ]
    },
    {
      "cell_type": "markdown",
      "metadata": {
        "id": "WlxaaEA3jAAP"
      },
      "source": [
        "Let us now visualize and compare the weights of the three models."
      ]
    },
    {
      "cell_type": "code",
      "execution_count": 31,
      "metadata": {
        "colab": {
          "base_uri": "https://localhost:8080/",
          "height": 423
        },
        "id": "VyJmQwkljAze",
        "outputId": "a8e17890-b9a7-4667-940f-366c343518e3"
      },
      "outputs": [
        {
          "output_type": "execute_result",
          "data": {
            "text/plain": [
              "    variable     value\n",
              "0   Baseline -0.022154\n",
              "1   Baseline -0.270356\n",
              "2   Baseline  0.398880\n",
              "3   Baseline  0.688782\n",
              "4   Baseline -0.595731\n",
              "..       ...       ...\n",
              "64        L1  0.000752\n",
              "65        L1  0.003025\n",
              "66        L1 -0.000395\n",
              "67        L1  0.912685\n",
              "68        L1 -0.004386\n",
              "\n",
              "[69 rows x 2 columns]"
            ],
            "text/html": [
              "\n",
              "\n",
              "  <div id=\"df-3592d0d4-7bae-4822-8dca-558b0842846f\">\n",
              "    <div class=\"colab-df-container\">\n",
              "      <div>\n",
              "<style scoped>\n",
              "    .dataframe tbody tr th:only-of-type {\n",
              "        vertical-align: middle;\n",
              "    }\n",
              "\n",
              "    .dataframe tbody tr th {\n",
              "        vertical-align: top;\n",
              "    }\n",
              "\n",
              "    .dataframe thead th {\n",
              "        text-align: right;\n",
              "    }\n",
              "</style>\n",
              "<table border=\"1\" class=\"dataframe\">\n",
              "  <thead>\n",
              "    <tr style=\"text-align: right;\">\n",
              "      <th></th>\n",
              "      <th>variable</th>\n",
              "      <th>value</th>\n",
              "    </tr>\n",
              "  </thead>\n",
              "  <tbody>\n",
              "    <tr>\n",
              "      <th>0</th>\n",
              "      <td>Baseline</td>\n",
              "      <td>-0.022154</td>\n",
              "    </tr>\n",
              "    <tr>\n",
              "      <th>1</th>\n",
              "      <td>Baseline</td>\n",
              "      <td>-0.270356</td>\n",
              "    </tr>\n",
              "    <tr>\n",
              "      <th>2</th>\n",
              "      <td>Baseline</td>\n",
              "      <td>0.398880</td>\n",
              "    </tr>\n",
              "    <tr>\n",
              "      <th>3</th>\n",
              "      <td>Baseline</td>\n",
              "      <td>0.688782</td>\n",
              "    </tr>\n",
              "    <tr>\n",
              "      <th>4</th>\n",
              "      <td>Baseline</td>\n",
              "      <td>-0.595731</td>\n",
              "    </tr>\n",
              "    <tr>\n",
              "      <th>...</th>\n",
              "      <td>...</td>\n",
              "      <td>...</td>\n",
              "    </tr>\n",
              "    <tr>\n",
              "      <th>64</th>\n",
              "      <td>L1</td>\n",
              "      <td>0.000752</td>\n",
              "    </tr>\n",
              "    <tr>\n",
              "      <th>65</th>\n",
              "      <td>L1</td>\n",
              "      <td>0.003025</td>\n",
              "    </tr>\n",
              "    <tr>\n",
              "      <th>66</th>\n",
              "      <td>L1</td>\n",
              "      <td>-0.000395</td>\n",
              "    </tr>\n",
              "    <tr>\n",
              "      <th>67</th>\n",
              "      <td>L1</td>\n",
              "      <td>0.912685</td>\n",
              "    </tr>\n",
              "    <tr>\n",
              "      <th>68</th>\n",
              "      <td>L1</td>\n",
              "      <td>-0.004386</td>\n",
              "    </tr>\n",
              "  </tbody>\n",
              "</table>\n",
              "<p>69 rows × 2 columns</p>\n",
              "</div>\n",
              "      <button class=\"colab-df-convert\" onclick=\"convertToInteractive('df-3592d0d4-7bae-4822-8dca-558b0842846f')\"\n",
              "              title=\"Convert this dataframe to an interactive table.\"\n",
              "              style=\"display:none;\">\n",
              "\n",
              "  <svg xmlns=\"http://www.w3.org/2000/svg\" height=\"24px\"viewBox=\"0 0 24 24\"\n",
              "       width=\"24px\">\n",
              "    <path d=\"M0 0h24v24H0V0z\" fill=\"none\"/>\n",
              "    <path d=\"M18.56 5.44l.94 2.06.94-2.06 2.06-.94-2.06-.94-.94-2.06-.94 2.06-2.06.94zm-11 1L8.5 8.5l.94-2.06 2.06-.94-2.06-.94L8.5 2.5l-.94 2.06-2.06.94zm10 10l.94 2.06.94-2.06 2.06-.94-2.06-.94-.94-2.06-.94 2.06-2.06.94z\"/><path d=\"M17.41 7.96l-1.37-1.37c-.4-.4-.92-.59-1.43-.59-.52 0-1.04.2-1.43.59L10.3 9.45l-7.72 7.72c-.78.78-.78 2.05 0 2.83L4 21.41c.39.39.9.59 1.41.59.51 0 1.02-.2 1.41-.59l7.78-7.78 2.81-2.81c.8-.78.8-2.07 0-2.86zM5.41 20L4 18.59l7.72-7.72 1.47 1.35L5.41 20z\"/>\n",
              "  </svg>\n",
              "      </button>\n",
              "\n",
              "\n",
              "\n",
              "    <div id=\"df-e03ee85f-b28e-4047-bd68-a9d78c1a0530\">\n",
              "      <button class=\"colab-df-quickchart\" onclick=\"quickchart('df-e03ee85f-b28e-4047-bd68-a9d78c1a0530')\"\n",
              "              title=\"Suggest charts.\"\n",
              "              style=\"display:none;\">\n",
              "\n",
              "<svg xmlns=\"http://www.w3.org/2000/svg\" height=\"24px\"viewBox=\"0 0 24 24\"\n",
              "     width=\"24px\">\n",
              "    <g>\n",
              "        <path d=\"M19 3H5c-1.1 0-2 .9-2 2v14c0 1.1.9 2 2 2h14c1.1 0 2-.9 2-2V5c0-1.1-.9-2-2-2zM9 17H7v-7h2v7zm4 0h-2V7h2v10zm4 0h-2v-4h2v4z\"/>\n",
              "    </g>\n",
              "</svg>\n",
              "      </button>\n",
              "    </div>\n",
              "\n",
              "<style>\n",
              "  .colab-df-quickchart {\n",
              "    background-color: #E8F0FE;\n",
              "    border: none;\n",
              "    border-radius: 50%;\n",
              "    cursor: pointer;\n",
              "    display: none;\n",
              "    fill: #1967D2;\n",
              "    height: 32px;\n",
              "    padding: 0 0 0 0;\n",
              "    width: 32px;\n",
              "  }\n",
              "\n",
              "  .colab-df-quickchart:hover {\n",
              "    background-color: #E2EBFA;\n",
              "    box-shadow: 0px 1px 2px rgba(60, 64, 67, 0.3), 0px 1px 3px 1px rgba(60, 64, 67, 0.15);\n",
              "    fill: #174EA6;\n",
              "  }\n",
              "\n",
              "  [theme=dark] .colab-df-quickchart {\n",
              "    background-color: #3B4455;\n",
              "    fill: #D2E3FC;\n",
              "  }\n",
              "\n",
              "  [theme=dark] .colab-df-quickchart:hover {\n",
              "    background-color: #434B5C;\n",
              "    box-shadow: 0px 1px 3px 1px rgba(0, 0, 0, 0.15);\n",
              "    filter: drop-shadow(0px 1px 2px rgba(0, 0, 0, 0.3));\n",
              "    fill: #FFFFFF;\n",
              "  }\n",
              "</style>\n",
              "\n",
              "    <script>\n",
              "      async function quickchart(key) {\n",
              "        const containerElement = document.querySelector('#' + key);\n",
              "        const charts = await google.colab.kernel.invokeFunction(\n",
              "            'suggestCharts', [key], {});\n",
              "      }\n",
              "    </script>\n",
              "\n",
              "      <script>\n",
              "\n",
              "function displayQuickchartButton(domScope) {\n",
              "  let quickchartButtonEl =\n",
              "    domScope.querySelector('#df-e03ee85f-b28e-4047-bd68-a9d78c1a0530 button.colab-df-quickchart');\n",
              "  quickchartButtonEl.style.display =\n",
              "    google.colab.kernel.accessAllowed ? 'block' : 'none';\n",
              "}\n",
              "\n",
              "        displayQuickchartButton(document);\n",
              "      </script>\n",
              "      <style>\n",
              "    .colab-df-container {\n",
              "      display:flex;\n",
              "      flex-wrap:wrap;\n",
              "      gap: 12px;\n",
              "    }\n",
              "\n",
              "    .colab-df-convert {\n",
              "      background-color: #E8F0FE;\n",
              "      border: none;\n",
              "      border-radius: 50%;\n",
              "      cursor: pointer;\n",
              "      display: none;\n",
              "      fill: #1967D2;\n",
              "      height: 32px;\n",
              "      padding: 0 0 0 0;\n",
              "      width: 32px;\n",
              "    }\n",
              "\n",
              "    .colab-df-convert:hover {\n",
              "      background-color: #E2EBFA;\n",
              "      box-shadow: 0px 1px 2px rgba(60, 64, 67, 0.3), 0px 1px 3px 1px rgba(60, 64, 67, 0.15);\n",
              "      fill: #174EA6;\n",
              "    }\n",
              "\n",
              "    [theme=dark] .colab-df-convert {\n",
              "      background-color: #3B4455;\n",
              "      fill: #D2E3FC;\n",
              "    }\n",
              "\n",
              "    [theme=dark] .colab-df-convert:hover {\n",
              "      background-color: #434B5C;\n",
              "      box-shadow: 0px 1px 3px 1px rgba(0, 0, 0, 0.15);\n",
              "      filter: drop-shadow(0px 1px 2px rgba(0, 0, 0, 0.3));\n",
              "      fill: #FFFFFF;\n",
              "    }\n",
              "  </style>\n",
              "\n",
              "      <script>\n",
              "        const buttonEl =\n",
              "          document.querySelector('#df-3592d0d4-7bae-4822-8dca-558b0842846f button.colab-df-convert');\n",
              "        buttonEl.style.display =\n",
              "          google.colab.kernel.accessAllowed ? 'block' : 'none';\n",
              "\n",
              "        async function convertToInteractive(key) {\n",
              "          const element = document.querySelector('#df-3592d0d4-7bae-4822-8dca-558b0842846f');\n",
              "          const dataTable =\n",
              "            await google.colab.kernel.invokeFunction('convertToInteractive',\n",
              "                                                     [key], {});\n",
              "          if (!dataTable) return;\n",
              "\n",
              "          const docLinkHtml = 'Like what you see? Visit the ' +\n",
              "            '<a target=\"_blank\" href=https://colab.research.google.com/notebooks/data_table.ipynb>data table notebook</a>'\n",
              "            + ' to learn more about interactive tables.';\n",
              "          element.innerHTML = '';\n",
              "          dataTable['output_type'] = 'display_data';\n",
              "          await google.colab.output.renderOutput(dataTable, element);\n",
              "          const docLink = document.createElement('div');\n",
              "          docLink.innerHTML = docLinkHtml;\n",
              "          element.appendChild(docLink);\n",
              "        }\n",
              "      </script>\n",
              "    </div>\n",
              "  </div>\n"
            ]
          },
          "metadata": {},
          "execution_count": 31
        }
      ],
      "source": [
        "weight_df = pd.DataFrame(\n",
        "    {\n",
        "        'Baseline':weight,\n",
        "        'L2':weight_L2,\n",
        "        'L1':weight_L1\n",
        "    }\n",
        ").melt(id_vars=[],value_vars=['Baseline','L2','L1'])\n",
        "weight_df"
      ]
    },
    {
      "cell_type": "code",
      "execution_count": 32,
      "metadata": {
        "colab": {
          "base_uri": "https://localhost:8080/",
          "height": 542
        },
        "id": "ThMP6oZ6jNXV",
        "outputId": "9b0c2cbb-e221-4df5-af3b-fbd6232d02ff"
      },
      "outputs": [
        {
          "output_type": "display_data",
          "data": {
            "text/html": [
              "<html>\n",
              "<head><meta charset=\"utf-8\" /></head>\n",
              "<body>\n",
              "    <div>            <script src=\"https://cdnjs.cloudflare.com/ajax/libs/mathjax/2.7.5/MathJax.js?config=TeX-AMS-MML_SVG\"></script><script type=\"text/javascript\">if (window.MathJax && window.MathJax.Hub && window.MathJax.Hub.Config) {window.MathJax.Hub.Config({SVG: {font: \"STIX-Web\"}});}</script>                <script type=\"text/javascript\">window.PlotlyConfig = {MathJaxConfig: 'local'};</script>\n",
              "        <script charset=\"utf-8\" src=\"https://cdn.plot.ly/plotly-2.24.1.min.js\"></script>                <div id=\"b9d993c6-c8ed-44f4-9b4c-fd07d8f11ba8\" class=\"plotly-graph-div\" style=\"height:525px; width:100%;\"></div>            <script type=\"text/javascript\">                                    window.PLOTLYENV=window.PLOTLYENV || {};                                    if (document.getElementById(\"b9d993c6-c8ed-44f4-9b4c-fd07d8f11ba8\")) {                    Plotly.newPlot(                        \"b9d993c6-c8ed-44f4-9b4c-fd07d8f11ba8\",                        [{\"alignmentgroup\":\"True\",\"boxpoints\":\"all\",\"hovertemplate\":\"variable=Baseline\\u003cbr\\u003evalue=%{y}\\u003cextra\\u003e\\u003c\\u002fextra\\u003e\",\"legendgroup\":\"Baseline\",\"marker\":{\"color\":\"#636efa\"},\"name\":\"Baseline\",\"notched\":false,\"offsetgroup\":\"Baseline\",\"orientation\":\"v\",\"showlegend\":true,\"x0\":\" \",\"xaxis\":\"x\",\"y\":[-0.02215445227921009,-0.270355761051178,0.3988799750804901,0.688782274723053,-0.5957306027412415,0.9194860458374023,-0.8952119946479797,-1.6038504838943481,0.254921555519104,1.307233214378357,-0.5746259093284607,-0.3030754625797272,0.03249797597527504,2.085383892059326,1.219571828842163,0.8032637238502502,0.13178986310958862,-0.620187520980835,1.1044100522994995,1.33955717086792,0.08861897885799408,2.8659043312072754,1.3598625659942627],\"y0\":\" \",\"yaxis\":\"y\",\"type\":\"box\",\"jitter\":0.5},{\"alignmentgroup\":\"True\",\"boxpoints\":\"all\",\"hovertemplate\":\"variable=L2\\u003cbr\\u003evalue=%{y}\\u003cextra\\u003e\\u003c\\u002fextra\\u003e\",\"legendgroup\":\"L2\",\"marker\":{\"color\":\"#EF553B\"},\"name\":\"L2\",\"notched\":false,\"offsetgroup\":\"L2\",\"orientation\":\"v\",\"showlegend\":true,\"x0\":\" \",\"xaxis\":\"x2\",\"y\":[-0.10203103721141815,-0.18311628699302673,0.05176447331905365,0.0798453688621521,0.06730149686336517,-0.08126116544008255,-0.057572346180677414,-0.008862555958330631,-0.04551258683204651,0.012926406227052212,-0.013340788893401623,-0.026058761402964592,0.04806460440158844,0.05576164275407791,0.05984275043010712,0.13920702040195465,0.14024358987808228,-0.04682813957333565,0.13096794486045837,0.027426190674304962,-0.06184082850813866,0.7679280042648315,0.045615196228027344],\"y0\":\" \",\"yaxis\":\"y2\",\"type\":\"box\",\"jitter\":0.5},{\"alignmentgroup\":\"True\",\"boxpoints\":\"all\",\"hovertemplate\":\"variable=L1\\u003cbr\\u003evalue=%{y}\\u003cextra\\u003e\\u003c\\u002fextra\\u003e\",\"legendgroup\":\"L1\",\"marker\":{\"color\":\"#00cc96\"},\"name\":\"L1\",\"notched\":false,\"offsetgroup\":\"L1\",\"orientation\":\"v\",\"showlegend\":true,\"x0\":\" \",\"xaxis\":\"x3\",\"y\":[-0.0021217367611825466,-0.004125347826629877,0.0009222718654200435,-0.000764258555136621,-0.0020766127854585648,-0.0045682089403271675,-0.0001684417948126793,-0.0030267953407019377,-0.003605813253670931,-0.0021653426811099052,0.0011544462759047747,0.00021874933736398816,-0.0006329449824988842,0.0011127324542030692,-9.891594527289271e-05,-2.6760390028357506e-06,-0.0024910499341785908,0.00029483099933713675,0.0007515094475820661,0.0030248467810451984,-0.00039537964039482176,0.9126849174499512,-0.004385554697364569],\"y0\":\" \",\"yaxis\":\"y3\",\"type\":\"box\",\"jitter\":0.5}],                        {\"template\":{\"data\":{\"histogram2dcontour\":[{\"type\":\"histogram2dcontour\",\"colorbar\":{\"outlinewidth\":0,\"ticks\":\"\"},\"colorscale\":[[0.0,\"#0d0887\"],[0.1111111111111111,\"#46039f\"],[0.2222222222222222,\"#7201a8\"],[0.3333333333333333,\"#9c179e\"],[0.4444444444444444,\"#bd3786\"],[0.5555555555555556,\"#d8576b\"],[0.6666666666666666,\"#ed7953\"],[0.7777777777777778,\"#fb9f3a\"],[0.8888888888888888,\"#fdca26\"],[1.0,\"#f0f921\"]]}],\"choropleth\":[{\"type\":\"choropleth\",\"colorbar\":{\"outlinewidth\":0,\"ticks\":\"\"}}],\"histogram2d\":[{\"type\":\"histogram2d\",\"colorbar\":{\"outlinewidth\":0,\"ticks\":\"\"},\"colorscale\":[[0.0,\"#0d0887\"],[0.1111111111111111,\"#46039f\"],[0.2222222222222222,\"#7201a8\"],[0.3333333333333333,\"#9c179e\"],[0.4444444444444444,\"#bd3786\"],[0.5555555555555556,\"#d8576b\"],[0.6666666666666666,\"#ed7953\"],[0.7777777777777778,\"#fb9f3a\"],[0.8888888888888888,\"#fdca26\"],[1.0,\"#f0f921\"]]}],\"heatmap\":[{\"type\":\"heatmap\",\"colorbar\":{\"outlinewidth\":0,\"ticks\":\"\"},\"colorscale\":[[0.0,\"#0d0887\"],[0.1111111111111111,\"#46039f\"],[0.2222222222222222,\"#7201a8\"],[0.3333333333333333,\"#9c179e\"],[0.4444444444444444,\"#bd3786\"],[0.5555555555555556,\"#d8576b\"],[0.6666666666666666,\"#ed7953\"],[0.7777777777777778,\"#fb9f3a\"],[0.8888888888888888,\"#fdca26\"],[1.0,\"#f0f921\"]]}],\"heatmapgl\":[{\"type\":\"heatmapgl\",\"colorbar\":{\"outlinewidth\":0,\"ticks\":\"\"},\"colorscale\":[[0.0,\"#0d0887\"],[0.1111111111111111,\"#46039f\"],[0.2222222222222222,\"#7201a8\"],[0.3333333333333333,\"#9c179e\"],[0.4444444444444444,\"#bd3786\"],[0.5555555555555556,\"#d8576b\"],[0.6666666666666666,\"#ed7953\"],[0.7777777777777778,\"#fb9f3a\"],[0.8888888888888888,\"#fdca26\"],[1.0,\"#f0f921\"]]}],\"contourcarpet\":[{\"type\":\"contourcarpet\",\"colorbar\":{\"outlinewidth\":0,\"ticks\":\"\"}}],\"contour\":[{\"type\":\"contour\",\"colorbar\":{\"outlinewidth\":0,\"ticks\":\"\"},\"colorscale\":[[0.0,\"#0d0887\"],[0.1111111111111111,\"#46039f\"],[0.2222222222222222,\"#7201a8\"],[0.3333333333333333,\"#9c179e\"],[0.4444444444444444,\"#bd3786\"],[0.5555555555555556,\"#d8576b\"],[0.6666666666666666,\"#ed7953\"],[0.7777777777777778,\"#fb9f3a\"],[0.8888888888888888,\"#fdca26\"],[1.0,\"#f0f921\"]]}],\"surface\":[{\"type\":\"surface\",\"colorbar\":{\"outlinewidth\":0,\"ticks\":\"\"},\"colorscale\":[[0.0,\"#0d0887\"],[0.1111111111111111,\"#46039f\"],[0.2222222222222222,\"#7201a8\"],[0.3333333333333333,\"#9c179e\"],[0.4444444444444444,\"#bd3786\"],[0.5555555555555556,\"#d8576b\"],[0.6666666666666666,\"#ed7953\"],[0.7777777777777778,\"#fb9f3a\"],[0.8888888888888888,\"#fdca26\"],[1.0,\"#f0f921\"]]}],\"mesh3d\":[{\"type\":\"mesh3d\",\"colorbar\":{\"outlinewidth\":0,\"ticks\":\"\"}}],\"scatter\":[{\"fillpattern\":{\"fillmode\":\"overlay\",\"size\":10,\"solidity\":0.2},\"type\":\"scatter\"}],\"parcoords\":[{\"type\":\"parcoords\",\"line\":{\"colorbar\":{\"outlinewidth\":0,\"ticks\":\"\"}}}],\"scatterpolargl\":[{\"type\":\"scatterpolargl\",\"marker\":{\"colorbar\":{\"outlinewidth\":0,\"ticks\":\"\"}}}],\"bar\":[{\"error_x\":{\"color\":\"#2a3f5f\"},\"error_y\":{\"color\":\"#2a3f5f\"},\"marker\":{\"line\":{\"color\":\"#E5ECF6\",\"width\":0.5},\"pattern\":{\"fillmode\":\"overlay\",\"size\":10,\"solidity\":0.2}},\"type\":\"bar\"}],\"scattergeo\":[{\"type\":\"scattergeo\",\"marker\":{\"colorbar\":{\"outlinewidth\":0,\"ticks\":\"\"}}}],\"scatterpolar\":[{\"type\":\"scatterpolar\",\"marker\":{\"colorbar\":{\"outlinewidth\":0,\"ticks\":\"\"}}}],\"histogram\":[{\"marker\":{\"pattern\":{\"fillmode\":\"overlay\",\"size\":10,\"solidity\":0.2}},\"type\":\"histogram\"}],\"scattergl\":[{\"type\":\"scattergl\",\"marker\":{\"colorbar\":{\"outlinewidth\":0,\"ticks\":\"\"}}}],\"scatter3d\":[{\"type\":\"scatter3d\",\"line\":{\"colorbar\":{\"outlinewidth\":0,\"ticks\":\"\"}},\"marker\":{\"colorbar\":{\"outlinewidth\":0,\"ticks\":\"\"}}}],\"scattermapbox\":[{\"type\":\"scattermapbox\",\"marker\":{\"colorbar\":{\"outlinewidth\":0,\"ticks\":\"\"}}}],\"scatterternary\":[{\"type\":\"scatterternary\",\"marker\":{\"colorbar\":{\"outlinewidth\":0,\"ticks\":\"\"}}}],\"scattercarpet\":[{\"type\":\"scattercarpet\",\"marker\":{\"colorbar\":{\"outlinewidth\":0,\"ticks\":\"\"}}}],\"carpet\":[{\"aaxis\":{\"endlinecolor\":\"#2a3f5f\",\"gridcolor\":\"white\",\"linecolor\":\"white\",\"minorgridcolor\":\"white\",\"startlinecolor\":\"#2a3f5f\"},\"baxis\":{\"endlinecolor\":\"#2a3f5f\",\"gridcolor\":\"white\",\"linecolor\":\"white\",\"minorgridcolor\":\"white\",\"startlinecolor\":\"#2a3f5f\"},\"type\":\"carpet\"}],\"table\":[{\"cells\":{\"fill\":{\"color\":\"#EBF0F8\"},\"line\":{\"color\":\"white\"}},\"header\":{\"fill\":{\"color\":\"#C8D4E3\"},\"line\":{\"color\":\"white\"}},\"type\":\"table\"}],\"barpolar\":[{\"marker\":{\"line\":{\"color\":\"#E5ECF6\",\"width\":0.5},\"pattern\":{\"fillmode\":\"overlay\",\"size\":10,\"solidity\":0.2}},\"type\":\"barpolar\"}],\"pie\":[{\"automargin\":true,\"type\":\"pie\"}]},\"layout\":{\"autotypenumbers\":\"strict\",\"colorway\":[\"#636efa\",\"#EF553B\",\"#00cc96\",\"#ab63fa\",\"#FFA15A\",\"#19d3f3\",\"#FF6692\",\"#B6E880\",\"#FF97FF\",\"#FECB52\"],\"font\":{\"color\":\"#2a3f5f\"},\"hovermode\":\"closest\",\"hoverlabel\":{\"align\":\"left\"},\"paper_bgcolor\":\"white\",\"plot_bgcolor\":\"#E5ECF6\",\"polar\":{\"bgcolor\":\"#E5ECF6\",\"angularaxis\":{\"gridcolor\":\"white\",\"linecolor\":\"white\",\"ticks\":\"\"},\"radialaxis\":{\"gridcolor\":\"white\",\"linecolor\":\"white\",\"ticks\":\"\"}},\"ternary\":{\"bgcolor\":\"#E5ECF6\",\"aaxis\":{\"gridcolor\":\"white\",\"linecolor\":\"white\",\"ticks\":\"\"},\"baxis\":{\"gridcolor\":\"white\",\"linecolor\":\"white\",\"ticks\":\"\"},\"caxis\":{\"gridcolor\":\"white\",\"linecolor\":\"white\",\"ticks\":\"\"}},\"coloraxis\":{\"colorbar\":{\"outlinewidth\":0,\"ticks\":\"\"}},\"colorscale\":{\"sequential\":[[0.0,\"#0d0887\"],[0.1111111111111111,\"#46039f\"],[0.2222222222222222,\"#7201a8\"],[0.3333333333333333,\"#9c179e\"],[0.4444444444444444,\"#bd3786\"],[0.5555555555555556,\"#d8576b\"],[0.6666666666666666,\"#ed7953\"],[0.7777777777777778,\"#fb9f3a\"],[0.8888888888888888,\"#fdca26\"],[1.0,\"#f0f921\"]],\"sequentialminus\":[[0.0,\"#0d0887\"],[0.1111111111111111,\"#46039f\"],[0.2222222222222222,\"#7201a8\"],[0.3333333333333333,\"#9c179e\"],[0.4444444444444444,\"#bd3786\"],[0.5555555555555556,\"#d8576b\"],[0.6666666666666666,\"#ed7953\"],[0.7777777777777778,\"#fb9f3a\"],[0.8888888888888888,\"#fdca26\"],[1.0,\"#f0f921\"]],\"diverging\":[[0,\"#8e0152\"],[0.1,\"#c51b7d\"],[0.2,\"#de77ae\"],[0.3,\"#f1b6da\"],[0.4,\"#fde0ef\"],[0.5,\"#f7f7f7\"],[0.6,\"#e6f5d0\"],[0.7,\"#b8e186\"],[0.8,\"#7fbc41\"],[0.9,\"#4d9221\"],[1,\"#276419\"]]},\"xaxis\":{\"gridcolor\":\"white\",\"linecolor\":\"white\",\"ticks\":\"\",\"title\":{\"standoff\":15},\"zerolinecolor\":\"white\",\"automargin\":true,\"zerolinewidth\":2},\"yaxis\":{\"gridcolor\":\"white\",\"linecolor\":\"white\",\"ticks\":\"\",\"title\":{\"standoff\":15},\"zerolinecolor\":\"white\",\"automargin\":true,\"zerolinewidth\":2},\"scene\":{\"xaxis\":{\"backgroundcolor\":\"#E5ECF6\",\"gridcolor\":\"white\",\"linecolor\":\"white\",\"showbackground\":true,\"ticks\":\"\",\"zerolinecolor\":\"white\",\"gridwidth\":2},\"yaxis\":{\"backgroundcolor\":\"#E5ECF6\",\"gridcolor\":\"white\",\"linecolor\":\"white\",\"showbackground\":true,\"ticks\":\"\",\"zerolinecolor\":\"white\",\"gridwidth\":2},\"zaxis\":{\"backgroundcolor\":\"#E5ECF6\",\"gridcolor\":\"white\",\"linecolor\":\"white\",\"showbackground\":true,\"ticks\":\"\",\"zerolinecolor\":\"white\",\"gridwidth\":2}},\"shapedefaults\":{\"line\":{\"color\":\"#2a3f5f\"}},\"annotationdefaults\":{\"arrowcolor\":\"#2a3f5f\",\"arrowhead\":0,\"arrowwidth\":1},\"geo\":{\"bgcolor\":\"white\",\"landcolor\":\"#E5ECF6\",\"subunitcolor\":\"white\",\"showland\":true,\"showlakes\":true,\"lakecolor\":\"white\"},\"title\":{\"x\":0.05},\"mapbox\":{\"style\":\"light\"}}},\"xaxis\":{\"anchor\":\"y\",\"domain\":[0.0,0.31999999999999995]},\"yaxis\":{\"anchor\":\"x\",\"domain\":[0.0,1.0],\"title\":{\"text\":\"value\"},\"showticklabels\":true},\"xaxis2\":{\"anchor\":\"y2\",\"domain\":[0.33999999999999997,0.6599999999999999],\"matches\":\"x\"},\"yaxis2\":{\"anchor\":\"x2\",\"domain\":[0.0,1.0],\"showticklabels\":true},\"xaxis3\":{\"anchor\":\"y3\",\"domain\":[0.6799999999999999,0.9999999999999999],\"matches\":\"x\"},\"yaxis3\":{\"anchor\":\"x3\",\"domain\":[0.0,1.0],\"showticklabels\":true},\"annotations\":[{\"font\":{},\"showarrow\":false,\"text\":\"variable=Baseline\",\"x\":0.15999999999999998,\"xanchor\":\"center\",\"xref\":\"paper\",\"y\":1.0,\"yanchor\":\"bottom\",\"yref\":\"paper\"},{\"font\":{},\"showarrow\":false,\"text\":\"variable=L2\",\"x\":0.49999999999999994,\"xanchor\":\"center\",\"xref\":\"paper\",\"y\":1.0,\"yanchor\":\"bottom\",\"yref\":\"paper\"},{\"font\":{},\"showarrow\":false,\"text\":\"variable=L1\",\"x\":0.8399999999999999,\"xanchor\":\"center\",\"xref\":\"paper\",\"y\":1.0,\"yanchor\":\"bottom\",\"yref\":\"paper\"}],\"legend\":{\"title\":{\"text\":\"variable\"},\"tracegroupgap\":0},\"title\":{\"text\":\"Logistic Regression Weights Distributions\"},\"boxmode\":\"group\"},                        {\"responsive\": true}                    ).then(function(){\n",
              "                            \n",
              "var gd = document.getElementById('b9d993c6-c8ed-44f4-9b4c-fd07d8f11ba8');\n",
              "var x = new MutationObserver(function (mutations, observer) {{\n",
              "        var display = window.getComputedStyle(gd).display;\n",
              "        if (!display || display === 'none') {{\n",
              "            console.log([gd, 'removed!']);\n",
              "            Plotly.purge(gd);\n",
              "            observer.disconnect();\n",
              "        }}\n",
              "}});\n",
              "\n",
              "// Listen for the removal of the full notebook cells\n",
              "var notebookContainer = gd.closest('#notebook-container');\n",
              "if (notebookContainer) {{\n",
              "    x.observe(notebookContainer, {childList: true});\n",
              "}}\n",
              "\n",
              "// Listen for the clearing of the current output cell\n",
              "var outputEl = gd.closest('.output');\n",
              "if (outputEl) {{\n",
              "    x.observe(outputEl, {childList: true});\n",
              "}}\n",
              "\n",
              "                        })                };                            </script>        </div>\n",
              "</body>\n",
              "</html>"
            ]
          },
          "metadata": {}
        }
      ],
      "source": [
        "#scatter plot and box plot to show the distribution of the parameters\n",
        "# Baseline the parameters are bigger compared to the L2 and L1 regularization\n",
        "# L1 & L2 effectively reduced the range of the parameters\n",
        "\n",
        "fig = px.box(\n",
        "    weight_df,\n",
        "    y='value',\n",
        "    facet_col='variable',\n",
        "    color='variable',\n",
        "    points='all',\n",
        "    title='Logistic Regression Weights Distributions'\n",
        ")\n",
        "fig.update_yaxes(\n",
        "    matches=None,\n",
        "    showticklabels=True\n",
        ")\n",
        "fig.update_traces(jitter=0.5)"
      ]
    },
    {
      "cell_type": "markdown",
      "metadata": {
        "id": "zQE9Xv6alWXk"
      },
      "source": [
        "Feature Selection (Forward & Backward)\n"
      ]
    },
    {
      "cell_type": "code",
      "execution_count": 33,
      "metadata": {
        "id": "54WE_DXKmGM4"
      },
      "outputs": [],
      "source": [
        "from sklearn.linear_model import LogisticRegression as logit # use build-in logistic regression model in sklearn\n",
        "from sklearn.feature_selection import SequentialFeatureSelector as SFS\n",
        "from sklearn.metrics import roc_curve, precision_recall_curve, f1_score"
      ]
    },
    {
      "cell_type": "code",
      "execution_count": 34,
      "metadata": {
        "id": "i1Xm6dPXmJaQ"
      },
      "outputs": [],
      "source": [
        "#logit is the logistic regression model in sklearn that we imported, solver is how you want the model to be solved\n",
        "model = logit(solver='liblinear')\n",
        "\n",
        "# Forward feature selection. Inputs(model name,number of features to select, direction)\n",
        "forward_selection = SFS(\n",
        "    model, n_features_to_select=3, direction=\"forward\"\n",
        ").fit(X_df_SMOTE, np.ravel(y_df_SMOTE)) #fit on the training part of the dataset\n",
        "\n",
        "# Backward feature selection.\n",
        "backward_selection = SFS(\n",
        "    model, n_features_to_select=3, direction=\"backward\"\n",
        ").fit(X_df_SMOTE, np.ravel(y_df_SMOTE))\n",
        "\n"
      ]
    },
    {
      "cell_type": "code",
      "execution_count": 35,
      "metadata": {
        "colab": {
          "base_uri": "https://localhost:8080/"
        },
        "id": "tyguyESp2N_r",
        "outputId": "ef98950a-02b7-4192-908b-2a44336bce61"
      },
      "outputs": [
        {
          "output_type": "execute_result",
          "data": {
            "text/plain": [
              "array(['mbp_max', 'sofa_respiration', 'sofa_cns'], dtype=object)"
            ]
          },
          "metadata": {},
          "execution_count": 35
        }
      ],
      "source": [
        "forward_selection.get_feature_names_out() #check which features got selected"
      ]
    },
    {
      "cell_type": "code",
      "execution_count": 36,
      "metadata": {
        "colab": {
          "base_uri": "https://localhost:8080/"
        },
        "id": "oBrs2nn-2PQZ",
        "outputId": "2957a31e-d8f7-41fd-d082-9768756393ec"
      },
      "outputs": [
        {
          "output_type": "execute_result",
          "data": {
            "text/plain": [
              "array(['sofa_respiration', 'sofa_cns', 'charlson_comorbidity_index'],\n",
              "      dtype=object)"
            ]
          },
          "metadata": {},
          "execution_count": 36
        }
      ],
      "source": [
        "backward_selection.get_feature_names_out()"
      ]
    },
    {
      "cell_type": "code",
      "execution_count": 37,
      "metadata": {
        "id": "ARGW26aw4wzC"
      },
      "outputs": [],
      "source": [
        "#model with all features\n",
        "model.fit(X_df_SMOTE,np.ravel(y_df_SMOTE))\n",
        "y_pred_full = model.predict_proba(X_df_Test)\n",
        "\n",
        "# Model with forward selected features\n",
        "model.fit(forward_selection.transform(X_df_SMOTE),np.ravel(y_df_SMOTE))\n",
        "y_pred_FS = model.predict_proba(forward_selection.transform(X_df_Test))\n",
        "\n",
        "# Model with backward selected features\n",
        "model.fit(backward_selection.transform(X_df_SMOTE),np.ravel(y_df_SMOTE))\n",
        "y_pred_BS = model.predict_proba(backward_selection.transform(X_df_Test))"
      ]
    },
    {
      "cell_type": "code",
      "execution_count": 38,
      "metadata": {
        "colab": {
          "base_uri": "https://localhost:8080/"
        },
        "id": "KLkNxyVvKwpR",
        "outputId": "8e815d12-9451-4248-d714-3a4b531035b1"
      },
      "outputs": [
        {
          "output_type": "stream",
          "name": "stdout",
          "text": [
            "Model with all features on test dataset: AUROC 0.733, AP 0.183\n",
            "Model with FS features on test dataset: AUROC 0.715, AP 0.161\n",
            "Model with BS features on test dataset: AUROC 0.718, AP 0.160\n"
          ]
        }
      ],
      "source": [
        "auroc_full = roc_auc_score(y_df_Test,y_pred_full[:,1])\n",
        "auroc_FS = roc_auc_score(y_df_Test,y_pred_FS[:,1])\n",
        "auroc_BS = roc_auc_score(y_df_Test,y_pred_BS[:,1])\n",
        "\n",
        "ap_full = average_precision_score(y_df_Test,y_pred_full[:,1])\n",
        "ap_FS = average_precision_score(y_df_Test,y_pred_FS[:,1])\n",
        "ap_BS = average_precision_score(y_df_Test,y_pred_BS[:,1])\n",
        "\n",
        "print('Model with all features on test dataset: AUROC {:.3f}, AP {:.3f}'.format(auroc_full,ap_full))\n",
        "print('Model with FS features on test dataset: AUROC {:.3f}, AP {:.3f}'.format(auroc_FS,ap_FS))\n",
        "print('Model with BS features on test dataset: AUROC {:.3f}, AP {:.3f}'.format(auroc_BS,ap_BS))"
      ]
    },
    {
      "cell_type": "code",
      "execution_count": 39,
      "metadata": {
        "id": "woPzlcgg5NzY"
      },
      "outputs": [],
      "source": [
        "# PR-curve\n",
        "\n",
        "p_full, r_full, _ = precision_recall_curve(y_df_Test,y_pred_full[:,1])\n",
        "p_FS, r_FS, _ = precision_recall_curve(y_df_Test,y_pred_FS[:,1])\n",
        "p_BS, r_BS, _ = precision_recall_curve(y_df_Test,y_pred_BS[:,1])\n",
        "\n",
        "pr_df = pd.DataFrame(\n",
        "    {\n",
        "        'Precision':np.hstack([p_full,p_FS,p_BS]),\n",
        "        'Recall':np.hstack([r_full,r_FS,r_BS]),\n",
        "        'method':['Full Model']*len(p_full)+['Forward Selection']*len(p_FS)+['Backward Selection']*len(p_BS)\n",
        "    }\n",
        ")"
      ]
    },
    {
      "cell_type": "code",
      "source": [
        "# Visualize precision recall curve\n",
        "fig = px.line(pr_df,x='Recall',y='Precision',facet_col='method',color='method')\n",
        "fig"
      ],
      "metadata": {
        "colab": {
          "base_uri": "https://localhost:8080/",
          "height": 542
        },
        "id": "NfFwf3SV3g6F",
        "outputId": "552608c1-48aa-4edc-e472-3752f7bdb13e"
      },
      "execution_count": 40,
      "outputs": [
        {
          "output_type": "display_data",
          "data": {
            "text/html": [
              "<html>\n",
              "<head><meta charset=\"utf-8\" /></head>\n",
              "<body>\n",
              "    <div>            <script src=\"https://cdnjs.cloudflare.com/ajax/libs/mathjax/2.7.5/MathJax.js?config=TeX-AMS-MML_SVG\"></script><script type=\"text/javascript\">if (window.MathJax && window.MathJax.Hub && window.MathJax.Hub.Config) {window.MathJax.Hub.Config({SVG: {font: \"STIX-Web\"}});}</script>                <script type=\"text/javascript\">window.PlotlyConfig = {MathJaxConfig: 'local'};</script>\n",
              "        <script charset=\"utf-8\" src=\"https://cdn.plot.ly/plotly-2.24.1.min.js\"></script>                <div id=\"4b1176bf-2073-437a-98f8-f00140e71fbe\" class=\"plotly-graph-div\" style=\"height:525px; width:100%;\"></div>            <script type=\"text/javascript\">                                    window.PLOTLYENV=window.PLOTLYENV || {};                                    if (document.getElementById(\"4b1176bf-2073-437a-98f8-f00140e71fbe\")) {                    Plotly.newPlot(                        \"4b1176bf-2073-437a-98f8-f00140e71fbe\",                        [{\"hovertemplate\":\"method=Full Model\\u003cbr\\u003eRecall=%{x}\\u003cbr\\u003ePrecision=%{y}\\u003cextra\\u003e\\u003c\\u002fextra\\u003e\",\"legendgroup\":\"Full Model\",\"line\":{\"color\":\"#636efa\",\"dash\":\"solid\"},\"marker\":{\"symbol\":\"circle\"},\"mode\":\"lines\",\"name\":\"Full Model\",\"showlegend\":true,\"x\":[1.0,1.0,1.0,1.0,1.0,1.0,1.0,1.0,1.0,1.0,1.0,1.0,1.0,1.0,1.0,1.0,1.0,1.0,1.0,1.0,1.0,1.0,1.0,1.0,1.0,1.0,1.0,1.0,1.0,1.0,1.0,1.0,1.0,1.0,1.0,1.0,1.0,1.0,1.0,1.0,1.0,1.0,1.0,1.0,1.0,1.0,1.0,1.0,1.0,1.0,1.0,1.0,1.0,1.0,1.0,1.0,1.0,1.0,1.0,1.0,1.0,1.0,1.0,1.0,1.0,1.0,1.0,1.0,1.0,1.0,1.0,1.0,1.0,1.0,1.0,1.0,1.0,1.0,1.0,1.0,1.0,1.0,1.0,1.0,1.0,1.0,1.0,1.0,1.0,1.0,1.0,1.0,1.0,1.0,1.0,1.0,1.0,1.0,1.0,1.0,1.0,1.0,1.0,1.0,1.0,1.0,1.0,1.0,1.0,1.0,1.0,1.0,1.0,1.0,1.0,1.0,1.0,1.0,1.0,1.0,1.0,1.0,1.0,1.0,1.0,1.0,1.0,1.0,1.0,1.0,1.0,1.0,1.0,1.0,1.0,1.0,1.0,1.0,1.0,1.0,1.0,1.0,1.0,1.0,1.0,1.0,1.0,1.0,1.0,1.0,1.0,1.0,1.0,1.0,1.0,1.0,1.0,1.0,1.0,1.0,1.0,1.0,1.0,1.0,1.0,1.0,1.0,1.0,1.0,1.0,1.0,1.0,1.0,1.0,1.0,1.0,1.0,1.0,1.0,1.0,1.0,1.0,1.0,1.0,1.0,1.0,1.0,1.0,1.0,1.0,1.0,0.995260663507109,0.995260663507109,0.995260663507109,0.995260663507109,0.995260663507109,0.995260663507109,0.995260663507109,0.995260663507109,0.995260663507109,0.995260663507109,0.995260663507109,0.995260663507109,0.995260663507109,0.995260663507109,0.995260663507109,0.995260663507109,0.995260663507109,0.995260663507109,0.995260663507109,0.995260663507109,0.995260663507109,0.995260663507109,0.995260663507109,0.995260663507109,0.995260663507109,0.995260663507109,0.995260663507109,0.995260663507109,0.995260663507109,0.995260663507109,0.995260663507109,0.995260663507109,0.995260663507109,0.995260663507109,0.995260663507109,0.995260663507109,0.995260663507109,0.995260663507109,0.995260663507109,0.995260663507109,0.995260663507109,0.995260663507109,0.995260663507109,0.990521327014218,0.990521327014218,0.990521327014218,0.990521327014218,0.990521327014218,0.990521327014218,0.990521327014218,0.990521327014218,0.990521327014218,0.990521327014218,0.990521327014218,0.990521327014218,0.990521327014218,0.990521327014218,0.990521327014218,0.990521327014218,0.990521327014218,0.990521327014218,0.990521327014218,0.990521327014218,0.990521327014218,0.990521327014218,0.985781990521327,0.985781990521327,0.985781990521327,0.985781990521327,0.985781990521327,0.985781990521327,0.985781990521327,0.985781990521327,0.985781990521327,0.985781990521327,0.985781990521327,0.985781990521327,0.985781990521327,0.985781990521327,0.985781990521327,0.985781990521327,0.985781990521327,0.985781990521327,0.985781990521327,0.985781990521327,0.985781990521327,0.985781990521327,0.985781990521327,0.985781990521327,0.981042654028436,0.976303317535545,0.976303317535545,0.976303317535545,0.976303317535545,0.976303317535545,0.976303317535545,0.976303317535545,0.976303317535545,0.976303317535545,0.976303317535545,0.976303317535545,0.976303317535545,0.976303317535545,0.976303317535545,0.976303317535545,0.976303317535545,0.976303317535545,0.976303317535545,0.976303317535545,0.976303317535545,0.976303317535545,0.976303317535545,0.976303317535545,0.976303317535545,0.976303317535545,0.976303317535545,0.976303317535545,0.976303317535545,0.976303317535545,0.976303317535545,0.976303317535545,0.976303317535545,0.976303317535545,0.976303317535545,0.976303317535545,0.976303317535545,0.976303317535545,0.976303317535545,0.976303317535545,0.976303317535545,0.976303317535545,0.976303317535545,0.976303317535545,0.976303317535545,0.976303317535545,0.976303317535545,0.976303317535545,0.976303317535545,0.976303317535545,0.9715639810426541,0.9715639810426541,0.9715639810426541,0.9715639810426541,0.9715639810426541,0.9715639810426541,0.9715639810426541,0.9715639810426541,0.9715639810426541,0.9715639810426541,0.9715639810426541,0.9715639810426541,0.9715639810426541,0.9715639810426541,0.9715639810426541,0.9715639810426541,0.9715639810426541,0.9715639810426541,0.9715639810426541,0.9715639810426541,0.9715639810426541,0.9715639810426541,0.9715639810426541,0.9715639810426541,0.9715639810426541,0.9715639810426541,0.9715639810426541,0.9715639810426541,0.9715639810426541,0.9715639810426541,0.9715639810426541,0.9715639810426541,0.9715639810426541,0.9715639810426541,0.9715639810426541,0.9715639810426541,0.9715639810426541,0.9715639810426541,0.9715639810426541,0.9715639810426541,0.9715639810426541,0.9715639810426541,0.9715639810426541,0.9715639810426541,0.9715639810426541,0.9715639810426541,0.9715639810426541,0.9715639810426541,0.9715639810426541,0.9715639810426541,0.9715639810426541,0.9715639810426541,0.9715639810426541,0.9715639810426541,0.966824644549763,0.966824644549763,0.966824644549763,0.966824644549763,0.966824644549763,0.966824644549763,0.966824644549763,0.966824644549763,0.966824644549763,0.966824644549763,0.966824644549763,0.966824644549763,0.966824644549763,0.966824644549763,0.966824644549763,0.966824644549763,0.966824644549763,0.966824644549763,0.966824644549763,0.966824644549763,0.966824644549763,0.966824644549763,0.966824644549763,0.966824644549763,0.966824644549763,0.966824644549763,0.966824644549763,0.966824644549763,0.966824644549763,0.966824644549763,0.966824644549763,0.966824644549763,0.966824644549763,0.966824644549763,0.966824644549763,0.966824644549763,0.966824644549763,0.966824644549763,0.966824644549763,0.966824644549763,0.966824644549763,0.966824644549763,0.966824644549763,0.966824644549763,0.966824644549763,0.966824644549763,0.966824644549763,0.966824644549763,0.966824644549763,0.966824644549763,0.966824644549763,0.966824644549763,0.966824644549763,0.966824644549763,0.966824644549763,0.966824644549763,0.966824644549763,0.966824644549763,0.966824644549763,0.966824644549763,0.966824644549763,0.966824644549763,0.966824644549763,0.966824644549763,0.966824644549763,0.966824644549763,0.966824644549763,0.966824644549763,0.966824644549763,0.966824644549763,0.966824644549763,0.966824644549763,0.966824644549763,0.966824644549763,0.966824644549763,0.966824644549763,0.966824644549763,0.966824644549763,0.966824644549763,0.966824644549763,0.966824644549763,0.966824644549763,0.9620853080568721,0.9620853080568721,0.9620853080568721,0.9620853080568721,0.9620853080568721,0.9620853080568721,0.9620853080568721,0.9620853080568721,0.9620853080568721,0.9620853080568721,0.9620853080568721,0.9620853080568721,0.9620853080568721,0.9620853080568721,0.9620853080568721,0.9620853080568721,0.9620853080568721,0.9620853080568721,0.9620853080568721,0.9620853080568721,0.9620853080568721,0.9620853080568721,0.9620853080568721,0.9620853080568721,0.9620853080568721,0.9620853080568721,0.9620853080568721,0.9620853080568721,0.9620853080568721,0.9620853080568721,0.9620853080568721,0.9620853080568721,0.9620853080568721,0.9620853080568721,0.9620853080568721,0.9620853080568721,0.9620853080568721,0.9620853080568721,0.9620853080568721,0.9620853080568721,0.9620853080568721,0.9620853080568721,0.9620853080568721,0.9620853080568721,0.9620853080568721,0.9620853080568721,0.9620853080568721,0.9620853080568721,0.9620853080568721,0.9620853080568721,0.9620853080568721,0.9620853080568721,0.957345971563981,0.957345971563981,0.957345971563981,0.957345971563981,0.957345971563981,0.957345971563981,0.957345971563981,0.957345971563981,0.957345971563981,0.957345971563981,0.957345971563981,0.957345971563981,0.957345971563981,0.957345971563981,0.957345971563981,0.957345971563981,0.957345971563981,0.957345971563981,0.957345971563981,0.957345971563981,0.957345971563981,0.957345971563981,0.957345971563981,0.957345971563981,0.957345971563981,0.957345971563981,0.957345971563981,0.957345971563981,0.957345971563981,0.957345971563981,0.957345971563981,0.957345971563981,0.957345971563981,0.957345971563981,0.957345971563981,0.957345971563981,0.957345971563981,0.957345971563981,0.957345971563981,0.957345971563981,0.957345971563981,0.957345971563981,0.957345971563981,0.957345971563981,0.957345971563981,0.957345971563981,0.957345971563981,0.957345971563981,0.957345971563981,0.957345971563981,0.957345971563981,0.957345971563981,0.957345971563981,0.957345971563981,0.957345971563981,0.957345971563981,0.957345971563981,0.957345971563981,0.957345971563981,0.957345971563981,0.957345971563981,0.957345971563981,0.957345971563981,0.957345971563981,0.957345971563981,0.957345971563981,0.957345971563981,0.957345971563981,0.957345971563981,0.957345971563981,0.957345971563981,0.957345971563981,0.957345971563981,0.957345971563981,0.957345971563981,0.957345971563981,0.957345971563981,0.957345971563981,0.957345971563981,0.957345971563981,0.957345971563981,0.957345971563981,0.957345971563981,0.95260663507109,0.95260663507109,0.95260663507109,0.95260663507109,0.95260663507109,0.95260663507109,0.95260663507109,0.95260663507109,0.95260663507109,0.95260663507109,0.95260663507109,0.95260663507109,0.95260663507109,0.95260663507109,0.95260663507109,0.95260663507109,0.95260663507109,0.95260663507109,0.95260663507109,0.95260663507109,0.95260663507109,0.95260663507109,0.95260663507109,0.95260663507109,0.95260663507109,0.95260663507109,0.95260663507109,0.95260663507109,0.95260663507109,0.95260663507109,0.95260663507109,0.9478672985781991,0.9478672985781991,0.9478672985781991,0.9478672985781991,0.9478672985781991,0.9478672985781991,0.9478672985781991,0.9478672985781991,0.9478672985781991,0.9478672985781991,0.9478672985781991,0.9478672985781991,0.9478672985781991,0.9478672985781991,0.9478672985781991,0.9478672985781991,0.9478672985781991,0.9478672985781991,0.9478672985781991,0.9478672985781991,0.9478672985781991,0.9478672985781991,0.9478672985781991,0.9478672985781991,0.943127962085308,0.943127962085308,0.943127962085308,0.943127962085308,0.943127962085308,0.943127962085308,0.943127962085308,0.943127962085308,0.943127962085308,0.943127962085308,0.943127962085308,0.943127962085308,0.943127962085308,0.943127962085308,0.943127962085308,0.943127962085308,0.943127962085308,0.943127962085308,0.943127962085308,0.943127962085308,0.943127962085308,0.943127962085308,0.943127962085308,0.943127962085308,0.943127962085308,0.943127962085308,0.9383886255924171,0.9383886255924171,0.9383886255924171,0.9383886255924171,0.9383886255924171,0.9383886255924171,0.9383886255924171,0.9383886255924171,0.9383886255924171,0.9383886255924171,0.9383886255924171,0.9383886255924171,0.9383886255924171,0.9383886255924171,0.9383886255924171,0.9383886255924171,0.9383886255924171,0.9383886255924171,0.9383886255924171,0.9383886255924171,0.9383886255924171,0.9383886255924171,0.9383886255924171,0.9383886255924171,0.9383886255924171,0.9383886255924171,0.9383886255924171,0.9383886255924171,0.9383886255924171,0.9383886255924171,0.9383886255924171,0.9383886255924171,0.9383886255924171,0.9383886255924171,0.9383886255924171,0.9383886255924171,0.9383886255924171,0.9383886255924171,0.9383886255924171,0.9383886255924171,0.9383886255924171,0.9383886255924171,0.9383886255924171,0.9383886255924171,0.9383886255924171,0.9383886255924171,0.9383886255924171,0.9383886255924171,0.9383886255924171,0.9383886255924171,0.9383886255924171,0.9383886255924171,0.9383886255924171,0.9383886255924171,0.9383886255924171,0.9383886255924171,0.9383886255924171,0.9383886255924171,0.9383886255924171,0.9383886255924171,0.9383886255924171,0.9383886255924171,0.9383886255924171,0.9383886255924171,0.9383886255924171,0.9383886255924171,0.9383886255924171,0.9383886255924171,0.933649289099526,0.933649289099526,0.933649289099526,0.933649289099526,0.933649289099526,0.933649289099526,0.933649289099526,0.933649289099526,0.9289099526066351,0.9289099526066351,0.9289099526066351,0.9289099526066351,0.9289099526066351,0.9289099526066351,0.9289099526066351,0.9289099526066351,0.9289099526066351,0.9289099526066351,0.9289099526066351,0.9289099526066351,0.9289099526066351,0.9289099526066351,0.9289099526066351,0.9289099526066351,0.9289099526066351,0.9289099526066351,0.9289099526066351,0.9289099526066351,0.9241706161137441,0.9241706161137441,0.9241706161137441,0.9241706161137441,0.9241706161137441,0.9241706161137441,0.9241706161137441,0.9241706161137441,0.9241706161137441,0.9241706161137441,0.9241706161137441,0.9241706161137441,0.9241706161137441,0.9241706161137441,0.9241706161137441,0.9241706161137441,0.9241706161137441,0.9241706161137441,0.9241706161137441,0.9241706161137441,0.9241706161137441,0.9241706161137441,0.9241706161137441,0.9241706161137441,0.9241706161137441,0.9241706161137441,0.9241706161137441,0.9241706161137441,0.9241706161137441,0.9241706161137441,0.9241706161137441,0.919431279620853,0.919431279620853,0.919431279620853,0.919431279620853,0.919431279620853,0.919431279620853,0.919431279620853,0.919431279620853,0.919431279620853,0.919431279620853,0.919431279620853,0.919431279620853,0.919431279620853,0.919431279620853,0.919431279620853,0.919431279620853,0.919431279620853,0.919431279620853,0.919431279620853,0.919431279620853,0.919431279620853,0.919431279620853,0.919431279620853,0.919431279620853,0.919431279620853,0.919431279620853,0.919431279620853,0.919431279620853,0.919431279620853,0.919431279620853,0.919431279620853,0.919431279620853,0.919431279620853,0.919431279620853,0.919431279620853,0.919431279620853,0.919431279620853,0.9146919431279621,0.9146919431279621,0.9146919431279621,0.9146919431279621,0.9146919431279621,0.9146919431279621,0.9146919431279621,0.9146919431279621,0.9146919431279621,0.9146919431279621,0.9146919431279621,0.9146919431279621,0.9146919431279621,0.9146919431279621,0.9146919431279621,0.9146919431279621,0.9146919431279621,0.9146919431279621,0.9146919431279621,0.9146919431279621,0.9146919431279621,0.9146919431279621,0.909952606635071,0.909952606635071,0.909952606635071,0.909952606635071,0.9052132701421801,0.9052132701421801,0.9052132701421801,0.9052132701421801,0.9052132701421801,0.9052132701421801,0.9052132701421801,0.9052132701421801,0.9052132701421801,0.9052132701421801,0.9052132701421801,0.9052132701421801,0.9004739336492891,0.9004739336492891,0.9004739336492891,0.9004739336492891,0.9004739336492891,0.9004739336492891,0.9004739336492891,0.9004739336492891,0.9004739336492891,0.9004739336492891,0.9004739336492891,0.9004739336492891,0.9004739336492891,0.9004739336492891,0.9004739336492891,0.9004739336492891,0.9004739336492891,0.9004739336492891,0.9004739336492891,0.8957345971563981,0.8957345971563981,0.8957345971563981,0.8909952606635071,0.8909952606635071,0.8909952606635071,0.8909952606635071,0.8909952606635071,0.8909952606635071,0.8909952606635071,0.8909952606635071,0.8909952606635071,0.8909952606635071,0.8909952606635071,0.8909952606635071,0.8909952606635071,0.8909952606635071,0.8909952606635071,0.8909952606635071,0.8909952606635071,0.8909952606635071,0.8909952606635071,0.8909952606635071,0.8909952606635071,0.8909952606635071,0.8909952606635071,0.8909952606635071,0.8909952606635071,0.8909952606635071,0.8909952606635071,0.8862559241706162,0.8862559241706162,0.8862559241706162,0.8862559241706162,0.8862559241706162,0.8862559241706162,0.8862559241706162,0.8862559241706162,0.8862559241706162,0.8862559241706162,0.8862559241706162,0.8862559241706162,0.8862559241706162,0.8862559241706162,0.8862559241706162,0.8862559241706162,0.8862559241706162,0.8862559241706162,0.8862559241706162,0.8862559241706162,0.8862559241706162,0.8862559241706162,0.8862559241706162,0.8862559241706162,0.8862559241706162,0.8862559241706162,0.8862559241706162,0.8862559241706162,0.8862559241706162,0.8862559241706162,0.8862559241706162,0.8862559241706162,0.8862559241706162,0.8862559241706162,0.8862559241706162,0.8862559241706162,0.8862559241706162,0.8862559241706162,0.8862559241706162,0.8862559241706162,0.8862559241706162,0.8862559241706162,0.8862559241706162,0.8862559241706162,0.8862559241706162,0.8862559241706162,0.8862559241706162,0.8862559241706162,0.8862559241706162,0.8862559241706162,0.8862559241706162,0.8862559241706162,0.8862559241706162,0.8862559241706162,0.8862559241706162,0.8862559241706162,0.8862559241706162,0.8862559241706162,0.8862559241706162,0.8862559241706162,0.8862559241706162,0.8862559241706162,0.8862559241706162,0.8862559241706162,0.8862559241706162,0.8862559241706162,0.8862559241706162,0.8862559241706162,0.8862559241706162,0.8862559241706162,0.8862559241706162,0.8862559241706162,0.8862559241706162,0.8862559241706162,0.8862559241706162,0.8862559241706162,0.8862559241706162,0.8862559241706162,0.8862559241706162,0.8862559241706162,0.8862559241706162,0.8862559241706162,0.8862559241706162,0.8815165876777251,0.8815165876777251,0.8815165876777251,0.8815165876777251,0.8815165876777251,0.8815165876777251,0.8815165876777251,0.8815165876777251,0.8815165876777251,0.8815165876777251,0.8815165876777251,0.8815165876777251,0.8815165876777251,0.8815165876777251,0.8815165876777251,0.8815165876777251,0.8815165876777251,0.8815165876777251,0.8815165876777251,0.8815165876777251,0.8767772511848341,0.8767772511848341,0.8767772511848341,0.8767772511848341,0.8767772511848341,0.8767772511848341,0.8767772511848341,0.8767772511848341,0.8767772511848341,0.8767772511848341,0.8767772511848341,0.8767772511848341,0.8767772511848341,0.8767772511848341,0.8767772511848341,0.8767772511848341,0.8767772511848341,0.8767772511848341,0.8767772511848341,0.8767772511848341,0.8767772511848341,0.8767772511848341,0.8767772511848341,0.8767772511848341,0.8767772511848341,0.8767772511848341,0.8767772511848341,0.8767772511848341,0.8767772511848341,0.8767772511848341,0.8767772511848341,0.8767772511848341,0.8767772511848341,0.8767772511848341,0.8767772511848341,0.8767772511848341,0.8767772511848341,0.8767772511848341,0.8767772511848341,0.8767772511848341,0.8767772511848341,0.8767772511848341,0.8767772511848341,0.8767772511848341,0.8767772511848341,0.8767772511848341,0.8767772511848341,0.8767772511848341,0.8767772511848341,0.8767772511848341,0.8767772511848341,0.8767772511848341,0.8767772511848341,0.8767772511848341,0.8767772511848341,0.8767772511848341,0.8767772511848341,0.8767772511848341,0.8767772511848341,0.8767772511848341,0.8767772511848341,0.8767772511848341,0.8767772511848341,0.8767772511848341,0.8767772511848341,0.8767772511848341,0.8720379146919431,0.8720379146919431,0.8720379146919431,0.8720379146919431,0.8720379146919431,0.8720379146919431,0.8720379146919431,0.8720379146919431,0.8720379146919431,0.8720379146919431,0.8720379146919431,0.8720379146919431,0.8720379146919431,0.8720379146919431,0.8720379146919431,0.8720379146919431,0.8720379146919431,0.8672985781990521,0.8672985781990521,0.8672985781990521,0.8672985781990521,0.8672985781990521,0.8672985781990521,0.8672985781990521,0.8672985781990521,0.8672985781990521,0.8625592417061612,0.8625592417061612,0.8625592417061612,0.8625592417061612,0.8625592417061612,0.8625592417061612,0.8625592417061612,0.8625592417061612,0.8625592417061612,0.8625592417061612,0.8625592417061612,0.8625592417061612,0.8625592417061612,0.8625592417061612,0.8625592417061612,0.8625592417061612,0.8625592417061612,0.8625592417061612,0.8625592417061612,0.8578199052132701,0.8578199052132701,0.8578199052132701,0.8578199052132701,0.8578199052132701,0.8578199052132701,0.8578199052132701,0.8530805687203792,0.8530805687203792,0.8530805687203792,0.8530805687203792,0.8530805687203792,0.8530805687203792,0.8530805687203792,0.8530805687203792,0.8530805687203792,0.8530805687203792,0.8530805687203792,0.8530805687203792,0.8530805687203792,0.8530805687203792,0.8530805687203792,0.8530805687203792,0.8530805687203792,0.8530805687203792,0.8530805687203792,0.8530805687203792,0.8483412322274881,0.8483412322274881,0.8483412322274881,0.8483412322274881,0.8483412322274881,0.8483412322274881,0.8483412322274881,0.8483412322274881,0.8483412322274881,0.8483412322274881,0.8483412322274881,0.8483412322274881,0.8483412322274881,0.8483412322274881,0.8483412322274881,0.8483412322274881,0.8483412322274881,0.8483412322274881,0.8483412322274881,0.8483412322274881,0.8483412322274881,0.8483412322274881,0.8483412322274881,0.8483412322274881,0.8483412322274881,0.8483412322274881,0.8483412322274881,0.8483412322274881,0.8483412322274881,0.8483412322274881,0.8483412322274881,0.8483412322274881,0.8483412322274881,0.8483412322274881,0.8483412322274881,0.8483412322274881,0.8483412322274881,0.8436018957345972,0.8436018957345972,0.8436018957345972,0.8436018957345972,0.8436018957345972,0.8436018957345972,0.8436018957345972,0.8436018957345972,0.8436018957345972,0.8436018957345972,0.8436018957345972,0.8436018957345972,0.8436018957345972,0.8436018957345972,0.8436018957345972,0.8436018957345972,0.8436018957345972,0.8436018957345972,0.8436018957345972,0.8436018957345972,0.8436018957345972,0.8436018957345972,0.8436018957345972,0.8436018957345972,0.8436018957345972,0.8436018957345972,0.8436018957345972,0.8436018957345972,0.8436018957345972,0.8436018957345972,0.8436018957345972,0.8436018957345972,0.8436018957345972,0.8436018957345972,0.8436018957345972,0.8436018957345972,0.8436018957345972,0.8436018957345972,0.8436018957345972,0.8388625592417062,0.8388625592417062,0.8388625592417062,0.8388625592417062,0.8388625592417062,0.8388625592417062,0.8388625592417062,0.8388625592417062,0.8388625592417062,0.8388625592417062,0.8388625592417062,0.8388625592417062,0.8388625592417062,0.8388625592417062,0.8388625592417062,0.8388625592417062,0.8388625592417062,0.8388625592417062,0.8388625592417062,0.8388625592417062,0.8388625592417062,0.8388625592417062,0.8388625592417062,0.8388625592417062,0.8388625592417062,0.8341232227488151,0.8341232227488151,0.8341232227488151,0.8341232227488151,0.8341232227488151,0.8341232227488151,0.8341232227488151,0.8341232227488151,0.8341232227488151,0.8341232227488151,0.8341232227488151,0.8341232227488151,0.8341232227488151,0.8341232227488151,0.8341232227488151,0.8341232227488151,0.8341232227488151,0.8341232227488151,0.8341232227488151,0.8293838862559242,0.8293838862559242,0.8293838862559242,0.8293838862559242,0.8293838862559242,0.8293838862559242,0.8293838862559242,0.8293838862559242,0.8246445497630331,0.8246445497630331,0.8246445497630331,0.8246445497630331,0.8246445497630331,0.8246445497630331,0.8246445497630331,0.8246445497630331,0.8246445497630331,0.8246445497630331,0.8246445497630331,0.8246445497630331,0.8246445497630331,0.8246445497630331,0.8246445497630331,0.8199052132701422,0.8199052132701422,0.8199052132701422,0.8199052132701422,0.8199052132701422,0.8199052132701422,0.8199052132701422,0.8199052132701422,0.8199052132701422,0.8199052132701422,0.8199052132701422,0.8199052132701422,0.8199052132701422,0.8199052132701422,0.8151658767772512,0.8151658767772512,0.8151658767772512,0.8151658767772512,0.8151658767772512,0.8151658767772512,0.8151658767772512,0.8151658767772512,0.8151658767772512,0.8151658767772512,0.8151658767772512,0.8151658767772512,0.8151658767772512,0.8151658767772512,0.8151658767772512,0.8151658767772512,0.8151658767772512,0.8151658767772512,0.8151658767772512,0.8151658767772512,0.8151658767772512,0.8151658767772512,0.8151658767772512,0.8151658767772512,0.8151658767772512,0.8151658767772512,0.8151658767772512,0.8151658767772512,0.8151658767772512,0.8151658767772512,0.8151658767772512,0.8151658767772512,0.8151658767772512,0.8151658767772512,0.8151658767772512,0.8151658767772512,0.8151658767772512,0.8151658767772512,0.8151658767772512,0.8151658767772512,0.8151658767772512,0.8104265402843602,0.8104265402843602,0.8104265402843602,0.8104265402843602,0.8104265402843602,0.8104265402843602,0.8104265402843602,0.8104265402843602,0.8104265402843602,0.8104265402843602,0.8104265402843602,0.8104265402843602,0.8104265402843602,0.8104265402843602,0.8104265402843602,0.8104265402843602,0.8104265402843602,0.8104265402843602,0.8104265402843602,0.8104265402843602,0.8104265402843602,0.8104265402843602,0.8104265402843602,0.8104265402843602,0.8104265402843602,0.8056872037914692,0.8056872037914692,0.8056872037914692,0.8056872037914692,0.8056872037914692,0.8056872037914692,0.8056872037914692,0.8056872037914692,0.8056872037914692,0.8056872037914692,0.8056872037914692,0.8056872037914692,0.8056872037914692,0.8056872037914692,0.8056872037914692,0.8056872037914692,0.8056872037914692,0.8056872037914692,0.8056872037914692,0.8056872037914692,0.8056872037914692,0.8056872037914692,0.8056872037914692,0.8056872037914692,0.8056872037914692,0.8056872037914692,0.8056872037914692,0.8009478672985783,0.8009478672985783,0.8009478672985783,0.8009478672985783,0.8009478672985783,0.8009478672985783,0.8009478672985783,0.8009478672985783,0.8009478672985783,0.8009478672985783,0.8009478672985783,0.8009478672985783,0.8009478672985783,0.8009478672985783,0.8009478672985783,0.8009478672985783,0.8009478672985783,0.8009478672985783,0.7962085308056872,0.7962085308056872,0.7962085308056872,0.7962085308056872,0.7962085308056872,0.7962085308056872,0.7962085308056872,0.7962085308056872,0.7962085308056872,0.7962085308056872,0.7914691943127962,0.7914691943127962,0.7914691943127962,0.7914691943127962,0.7914691943127962,0.7914691943127962,0.7914691943127962,0.7914691943127962,0.7914691943127962,0.7914691943127962,0.7914691943127962,0.7914691943127962,0.7914691943127962,0.7914691943127962,0.7914691943127962,0.7914691943127962,0.7914691943127962,0.7914691943127962,0.7914691943127962,0.7914691943127962,0.7914691943127962,0.7914691943127962,0.7914691943127962,0.7914691943127962,0.7914691943127962,0.7914691943127962,0.7914691943127962,0.7914691943127962,0.7914691943127962,0.7914691943127962,0.7914691943127962,0.7914691943127962,0.7914691943127962,0.7914691943127962,0.7914691943127962,0.7914691943127962,0.7914691943127962,0.7914691943127962,0.7914691943127962,0.7914691943127962,0.7914691943127962,0.7914691943127962,0.7914691943127962,0.7914691943127962,0.7914691943127962,0.7914691943127962,0.7914691943127962,0.7914691943127962,0.7914691943127962,0.7914691943127962,0.7914691943127962,0.7914691943127962,0.7914691943127962,0.7914691943127962,0.7914691943127962,0.7914691943127962,0.7914691943127962,0.7914691943127962,0.7914691943127962,0.7914691943127962,0.7914691943127962,0.7914691943127962,0.7914691943127962,0.7914691943127962,0.7867298578199052,0.7867298578199052,0.7867298578199052,0.7867298578199052,0.7867298578199052,0.7867298578199052,0.7867298578199052,0.7867298578199052,0.7867298578199052,0.7867298578199052,0.7867298578199052,0.7867298578199052,0.7867298578199052,0.7867298578199052,0.7867298578199052,0.7867298578199052,0.7867298578199052,0.7867298578199052,0.7867298578199052,0.7867298578199052,0.7867298578199052,0.7867298578199052,0.7819905213270142,0.7819905213270142,0.7819905213270142,0.7819905213270142,0.7819905213270142,0.7819905213270142,0.7819905213270142,0.7819905213270142,0.7819905213270142,0.7819905213270142,0.7819905213270142,0.7819905213270142,0.7819905213270142,0.7819905213270142,0.7819905213270142,0.7819905213270142,0.7819905213270142,0.7819905213270142,0.7819905213270142,0.7819905213270142,0.7819905213270142,0.7819905213270142,0.7819905213270142,0.7819905213270142,0.7819905213270142,0.7819905213270142,0.7819905213270142,0.7819905213270142,0.7819905213270142,0.7819905213270142,0.7819905213270142,0.7819905213270142,0.7819905213270142,0.7819905213270142,0.7819905213270142,0.7819905213270142,0.7819905213270142,0.7819905213270142,0.7819905213270142,0.7819905213270142,0.7819905213270142,0.7819905213270142,0.7819905213270142,0.7819905213270142,0.7819905213270142,0.7819905213270142,0.7819905213270142,0.7819905213270142,0.7819905213270142,0.7819905213270142,0.7819905213270142,0.7819905213270142,0.7819905213270142,0.7819905213270142,0.7819905213270142,0.7819905213270142,0.7819905213270142,0.7772511848341233,0.7772511848341233,0.7772511848341233,0.7772511848341233,0.7772511848341233,0.7772511848341233,0.7772511848341233,0.7772511848341233,0.7725118483412322,0.7725118483412322,0.7725118483412322,0.7725118483412322,0.7725118483412322,0.7725118483412322,0.7725118483412322,0.7725118483412322,0.7725118483412322,0.7725118483412322,0.7725118483412322,0.7725118483412322,0.7725118483412322,0.7725118483412322,0.7725118483412322,0.7725118483412322,0.7725118483412322,0.7725118483412322,0.7725118483412322,0.7725118483412322,0.7677725118483413,0.7677725118483413,0.7677725118483413,0.7677725118483413,0.7677725118483413,0.7677725118483413,0.7677725118483413,0.7677725118483413,0.7677725118483413,0.7677725118483413,0.7677725118483413,0.7677725118483413,0.7677725118483413,0.7630331753554502,0.7630331753554502,0.7630331753554502,0.7630331753554502,0.7630331753554502,0.7630331753554502,0.7630331753554502,0.7630331753554502,0.7630331753554502,0.7582938388625592,0.7582938388625592,0.7582938388625592,0.7535545023696683,0.7535545023696683,0.7535545023696683,0.7535545023696683,0.7535545023696683,0.7535545023696683,0.7535545023696683,0.7535545023696683,0.7535545023696683,0.7535545023696683,0.7535545023696683,0.7535545023696683,0.7535545023696683,0.7535545023696683,0.7535545023696683,0.7535545023696683,0.7535545023696683,0.7535545023696683,0.7535545023696683,0.7535545023696683,0.7535545023696683,0.7535545023696683,0.7535545023696683,0.7535545023696683,0.7535545023696683,0.7535545023696683,0.7535545023696683,0.7535545023696683,0.7535545023696683,0.7535545023696683,0.7535545023696683,0.7535545023696683,0.7535545023696683,0.7535545023696683,0.7535545023696683,0.7535545023696683,0.7535545023696683,0.7535545023696683,0.7535545023696683,0.7535545023696683,0.7535545023696683,0.7535545023696683,0.7535545023696683,0.7535545023696683,0.7535545023696683,0.7535545023696683,0.7535545023696683,0.7535545023696683,0.7535545023696683,0.7535545023696683,0.7535545023696683,0.7535545023696683,0.7535545023696683,0.7535545023696683,0.7535545023696683,0.7535545023696683,0.7535545023696683,0.7535545023696683,0.7535545023696683,0.7535545023696683,0.7535545023696683,0.7535545023696683,0.7535545023696683,0.7535545023696683,0.7535545023696683,0.7535545023696683,0.7535545023696683,0.7488151658767772,0.7488151658767772,0.7440758293838863,0.7440758293838863,0.7440758293838863,0.7440758293838863,0.7440758293838863,0.7440758293838863,0.7440758293838863,0.7393364928909952,0.7393364928909952,0.7393364928909952,0.7393364928909952,0.7345971563981043,0.7345971563981043,0.7345971563981043,0.7298578199052133,0.7298578199052133,0.7298578199052133,0.7298578199052133,0.7298578199052133,0.7298578199052133,0.7298578199052133,0.7298578199052133,0.7298578199052133,0.7298578199052133,0.7298578199052133,0.7298578199052133,0.7298578199052133,0.7298578199052133,0.7298578199052133,0.7298578199052133,0.7298578199052133,0.7298578199052133,0.7298578199052133,0.7298578199052133,0.7251184834123223,0.7251184834123223,0.7251184834123223,0.7251184834123223,0.7251184834123223,0.7251184834123223,0.7203791469194313,0.7203791469194313,0.7203791469194313,0.7203791469194313,0.7203791469194313,0.7203791469194313,0.7203791469194313,0.7203791469194313,0.7203791469194313,0.7203791469194313,0.7203791469194313,0.7203791469194313,0.7203791469194313,0.7203791469194313,0.7203791469194313,0.7203791469194313,0.7203791469194313,0.7203791469194313,0.7203791469194313,0.7203791469194313,0.7203791469194313,0.7203791469194313,0.7203791469194313,0.7203791469194313,0.7203791469194313,0.7203791469194313,0.7156398104265402,0.7156398104265402,0.7156398104265402,0.7156398104265402,0.7109004739336493,0.7109004739336493,0.7109004739336493,0.7061611374407583,0.7061611374407583,0.7061611374407583,0.7061611374407583,0.7061611374407583,0.7061611374407583,0.7061611374407583,0.7061611374407583,0.7061611374407583,0.7061611374407583,0.7061611374407583,0.7061611374407583,0.7014218009478673,0.7014218009478673,0.7014218009478673,0.7014218009478673,0.7014218009478673,0.7014218009478673,0.7014218009478673,0.7014218009478673,0.7014218009478673,0.7014218009478673,0.7014218009478673,0.7014218009478673,0.7014218009478673,0.7014218009478673,0.7014218009478673,0.7014218009478673,0.7014218009478673,0.7014218009478673,0.7014218009478673,0.7014218009478673,0.7014218009478673,0.7014218009478673,0.7014218009478673,0.7014218009478673,0.7014218009478673,0.7014218009478673,0.7014218009478673,0.7014218009478673,0.7014218009478673,0.6966824644549763,0.6966824644549763,0.6966824644549763,0.6919431279620853,0.6919431279620853,0.6919431279620853,0.6919431279620853,0.6919431279620853,0.6919431279620853,0.6919431279620853,0.6919431279620853,0.6919431279620853,0.6919431279620853,0.6919431279620853,0.6919431279620853,0.6919431279620853,0.6919431279620853,0.6919431279620853,0.6919431279620853,0.6919431279620853,0.6919431279620853,0.6919431279620853,0.6919431279620853,0.6919431279620853,0.6919431279620853,0.6919431279620853,0.6872037914691943,0.6872037914691943,0.6872037914691943,0.6872037914691943,0.6872037914691943,0.6872037914691943,0.6872037914691943,0.6872037914691943,0.6872037914691943,0.6872037914691943,0.6872037914691943,0.6872037914691943,0.6872037914691943,0.6824644549763034,0.6824644549763034,0.6824644549763034,0.6824644549763034,0.6824644549763034,0.6824644549763034,0.6777251184834123,0.6777251184834123,0.6777251184834123,0.6777251184834123,0.6777251184834123,0.6777251184834123,0.6777251184834123,0.6777251184834123,0.6777251184834123,0.6777251184834123,0.6777251184834123,0.6777251184834123,0.6777251184834123,0.6777251184834123,0.6777251184834123,0.6777251184834123,0.6777251184834123,0.6777251184834123,0.6777251184834123,0.6777251184834123,0.6777251184834123,0.6777251184834123,0.6777251184834123,0.6729857819905213,0.6729857819905213,0.6729857819905213,0.6729857819905213,0.6729857819905213,0.6729857819905213,0.6729857819905213,0.6729857819905213,0.6729857819905213,0.6729857819905213,0.6729857819905213,0.6729857819905213,0.6729857819905213,0.6729857819905213,0.6729857819905213,0.6729857819905213,0.6729857819905213,0.6729857819905213,0.6729857819905213,0.6729857819905213,0.6729857819905213,0.6729857819905213,0.6729857819905213,0.6729857819905213,0.6682464454976303,0.6682464454976303,0.6682464454976303,0.6682464454976303,0.6682464454976303,0.6682464454976303,0.6682464454976303,0.6682464454976303,0.6682464454976303,0.6682464454976303,0.6682464454976303,0.6682464454976303,0.6635071090047393,0.6635071090047393,0.6635071090047393,0.6635071090047393,0.6635071090047393,0.6635071090047393,0.6635071090047393,0.6635071090047393,0.6587677725118484,0.6587677725118484,0.6540284360189573,0.6540284360189573,0.6540284360189573,0.6540284360189573,0.6540284360189573,0.6540284360189573,0.6540284360189573,0.6540284360189573,0.6540284360189573,0.6540284360189573,0.6540284360189573,0.6540284360189573,0.6492890995260664,0.6445497630331753,0.6445497630331753,0.6398104265402843,0.6398104265402843,0.6398104265402843,0.6350710900473934,0.6350710900473934,0.6350710900473934,0.6350710900473934,0.6350710900473934,0.6350710900473934,0.6350710900473934,0.6350710900473934,0.6350710900473934,0.6303317535545023,0.6303317535545023,0.6303317535545023,0.6303317535545023,0.6303317535545023,0.6303317535545023,0.6303317535545023,0.6303317535545023,0.6303317535545023,0.6303317535545023,0.6303317535545023,0.6303317535545023,0.6303317535545023,0.6303317535545023,0.6303317535545023,0.6303317535545023,0.6303317535545023,0.6303317535545023,0.6303317535545023,0.6303317535545023,0.6303317535545023,0.6303317535545023,0.6303317535545023,0.6303317535545023,0.6303317535545023,0.6303317535545023,0.6303317535545023,0.6303317535545023,0.6303317535545023,0.6303317535545023,0.6303317535545023,0.6303317535545023,0.6303317535545023,0.6303317535545023,0.6303317535545023,0.6303317535545023,0.6303317535545023,0.6303317535545023,0.6303317535545023,0.6255924170616114,0.6255924170616114,0.6208530805687204,0.6208530805687204,0.6161137440758294,0.6161137440758294,0.6161137440758294,0.6161137440758294,0.6161137440758294,0.6161137440758294,0.6161137440758294,0.6161137440758294,0.6161137440758294,0.6161137440758294,0.6161137440758294,0.6161137440758294,0.6161137440758294,0.6161137440758294,0.6161137440758294,0.6161137440758294,0.6161137440758294,0.6161137440758294,0.6161137440758294,0.6161137440758294,0.6113744075829384,0.6113744075829384,0.6113744075829384,0.6113744075829384,0.6113744075829384,0.6113744075829384,0.6113744075829384,0.6113744075829384,0.6113744075829384,0.6113744075829384,0.6066350710900474,0.6066350710900474,0.6066350710900474,0.6066350710900474,0.6066350710900474,0.6066350710900474,0.6066350710900474,0.6066350710900474,0.6066350710900474,0.6066350710900474,0.6066350710900474,0.6066350710900474,0.6066350710900474,0.6018957345971564,0.6018957345971564,0.6018957345971564,0.6018957345971564,0.5971563981042654,0.5971563981042654,0.5971563981042654,0.5971563981042654,0.5971563981042654,0.5924170616113744,0.5924170616113744,0.5924170616113744,0.5924170616113744,0.5924170616113744,0.5924170616113744,0.5924170616113744,0.5924170616113744,0.5924170616113744,0.5924170616113744,0.5924170616113744,0.5924170616113744,0.5924170616113744,0.5924170616113744,0.5924170616113744,0.5924170616113744,0.5924170616113744,0.5924170616113744,0.5924170616113744,0.5924170616113744,0.5924170616113744,0.5924170616113744,0.5876777251184834,0.5876777251184834,0.5829383886255924,0.5829383886255924,0.5829383886255924,0.5781990521327014,0.5781990521327014,0.5781990521327014,0.5781990521327014,0.5781990521327014,0.5781990521327014,0.5781990521327014,0.5781990521327014,0.5781990521327014,0.5781990521327014,0.5781990521327014,0.5781990521327014,0.5781990521327014,0.5781990521327014,0.5781990521327014,0.5781990521327014,0.5781990521327014,0.5734597156398105,0.5734597156398105,0.5734597156398105,0.5734597156398105,0.5734597156398105,0.5734597156398105,0.5734597156398105,0.5734597156398105,0.5734597156398105,0.5734597156398105,0.5734597156398105,0.5734597156398105,0.5734597156398105,0.5734597156398105,0.5734597156398105,0.5734597156398105,0.5734597156398105,0.5734597156398105,0.5687203791469194,0.5687203791469194,0.5687203791469194,0.5639810426540285,0.5639810426540285,0.5639810426540285,0.5592417061611374,0.5592417061611374,0.5545023696682464,0.5545023696682464,0.5497630331753555,0.5497630331753555,0.5497630331753555,0.5497630331753555,0.5497630331753555,0.5497630331753555,0.5497630331753555,0.5497630331753555,0.5497630331753555,0.5497630331753555,0.5497630331753555,0.5497630331753555,0.5497630331753555,0.5497630331753555,0.5497630331753555,0.5497630331753555,0.5497630331753555,0.5497630331753555,0.5497630331753555,0.5497630331753555,0.5497630331753555,0.5497630331753555,0.5497630331753555,0.5497630331753555,0.5497630331753555,0.5497630331753555,0.5497630331753555,0.5497630331753555,0.5497630331753555,0.5497630331753555,0.5497630331753555,0.5497630331753555,0.5497630331753555,0.5497630331753555,0.5497630331753555,0.5497630331753555,0.5497630331753555,0.5497630331753555,0.5497630331753555,0.5497630331753555,0.5497630331753555,0.5497630331753555,0.5497630331753555,0.5497630331753555,0.5450236966824644,0.5450236966824644,0.5450236966824644,0.5450236966824644,0.5402843601895735,0.5402843601895735,0.5355450236966824,0.5355450236966824,0.5355450236966824,0.5355450236966824,0.5355450236966824,0.5355450236966824,0.5355450236966824,0.5355450236966824,0.5355450236966824,0.5355450236966824,0.5355450236966824,0.5355450236966824,0.5355450236966824,0.5355450236966824,0.5355450236966824,0.5308056872037915,0.5308056872037915,0.5308056872037915,0.5308056872037915,0.5308056872037915,0.5308056872037915,0.5308056872037915,0.5308056872037915,0.5308056872037915,0.5308056872037915,0.5260663507109005,0.5260663507109005,0.5260663507109005,0.5260663507109005,0.5260663507109005,0.5260663507109005,0.5260663507109005,0.5260663507109005,0.5260663507109005,0.5260663507109005,0.5260663507109005,0.5260663507109005,0.5213270142180095,0.5213270142180095,0.5213270142180095,0.5213270142180095,0.5213270142180095,0.5213270142180095,0.5213270142180095,0.5165876777251185,0.5165876777251185,0.5165876777251185,0.5165876777251185,0.5165876777251185,0.5165876777251185,0.5118483412322274,0.5118483412322274,0.5118483412322274,0.5118483412322274,0.5118483412322274,0.5118483412322274,0.5118483412322274,0.5118483412322274,0.5118483412322274,0.5118483412322274,0.5118483412322274,0.5118483412322274,0.5118483412322274,0.5118483412322274,0.5118483412322274,0.5118483412322274,0.5118483412322274,0.5118483412322274,0.5118483412322274,0.5118483412322274,0.5118483412322274,0.5118483412322274,0.5071090047393365,0.5071090047393365,0.5071090047393365,0.5023696682464455,0.5023696682464455,0.5023696682464455,0.5023696682464455,0.5023696682464455,0.5023696682464455,0.5023696682464455,0.5023696682464455,0.5023696682464455,0.5023696682464455,0.5023696682464455,0.5023696682464455,0.5023696682464455,0.5023696682464455,0.5023696682464455,0.4976303317535545,0.4976303317535545,0.4976303317535545,0.4976303317535545,0.4976303317535545,0.4976303317535545,0.4976303317535545,0.4976303317535545,0.4976303317535545,0.4928909952606635,0.4928909952606635,0.4928909952606635,0.4928909952606635,0.4928909952606635,0.4928909952606635,0.4928909952606635,0.4928909952606635,0.4928909952606635,0.4928909952606635,0.4928909952606635,0.4928909952606635,0.4928909952606635,0.4928909952606635,0.4928909952606635,0.4928909952606635,0.4881516587677725,0.4881516587677725,0.4834123222748815,0.4834123222748815,0.4834123222748815,0.4834123222748815,0.4834123222748815,0.4834123222748815,0.4834123222748815,0.4834123222748815,0.4834123222748815,0.4834123222748815,0.4834123222748815,0.4786729857819905,0.47393364928909953,0.47393364928909953,0.47393364928909953,0.46919431279620855,0.46919431279620855,0.46445497630331756,0.4597156398104265,0.4597156398104265,0.4549763033175355,0.4549763033175355,0.45023696682464454,0.45023696682464454,0.45023696682464454,0.45023696682464454,0.44549763033175355,0.44549763033175355,0.44549763033175355,0.44549763033175355,0.44549763033175355,0.44549763033175355,0.44549763033175355,0.44549763033175355,0.44549763033175355,0.44549763033175355,0.44549763033175355,0.44549763033175355,0.44075829383886256,0.44075829383886256,0.44075829383886256,0.44075829383886256,0.44075829383886256,0.44075829383886256,0.44075829383886256,0.44075829383886256,0.44075829383886256,0.44075829383886256,0.44075829383886256,0.44075829383886256,0.44075829383886256,0.44075829383886256,0.44075829383886256,0.44075829383886256,0.44075829383886256,0.44075829383886256,0.44075829383886256,0.44075829383886256,0.44075829383886256,0.44075829383886256,0.43601895734597157,0.43601895734597157,0.43601895734597157,0.4312796208530806,0.4312796208530806,0.4312796208530806,0.4312796208530806,0.4312796208530806,0.4312796208530806,0.4312796208530806,0.4265402843601896,0.4218009478672986,0.4218009478672986,0.4218009478672986,0.4218009478672986,0.4218009478672986,0.4218009478672986,0.41706161137440756,0.41706161137440756,0.41706161137440756,0.41232227488151657,0.41232227488151657,0.41232227488151657,0.41232227488151657,0.4075829383886256,0.4075829383886256,0.4075829383886256,0.4028436018957346,0.4028436018957346,0.4028436018957346,0.3981042654028436,0.3981042654028436,0.3933649289099526,0.3933649289099526,0.3933649289099526,0.3933649289099526,0.3933649289099526,0.3933649289099526,0.3886255924170616,0.38388625592417064,0.38388625592417064,0.38388625592417064,0.38388625592417064,0.3791469194312796,0.3791469194312796,0.3791469194312796,0.3791469194312796,0.3791469194312796,0.3791469194312796,0.3791469194312796,0.3791469194312796,0.3791469194312796,0.3744075829383886,0.3744075829383886,0.3744075829383886,0.3696682464454976,0.3696682464454976,0.3696682464454976,0.3696682464454976,0.3696682464454976,0.3696682464454976,0.3696682464454976,0.3696682464454976,0.3696682464454976,0.3696682464454976,0.36492890995260663,0.36492890995260663,0.36492890995260663,0.36492890995260663,0.36492890995260663,0.36492890995260663,0.36492890995260663,0.36018957345971564,0.36018957345971564,0.36018957345971564,0.36018957345971564,0.36018957345971564,0.36018957345971564,0.36018957345971564,0.36018957345971564,0.36018957345971564,0.36018957345971564,0.36018957345971564,0.35545023696682465,0.35545023696682465,0.35071090047393366,0.35071090047393366,0.35071090047393366,0.35071090047393366,0.35071090047393366,0.35071090047393366,0.35071090047393366,0.35071090047393366,0.35071090047393366,0.35071090047393366,0.35071090047393366,0.35071090047393366,0.35071090047393366,0.35071090047393366,0.35071090047393366,0.35071090047393366,0.35071090047393366,0.35071090047393366,0.35071090047393366,0.35071090047393366,0.35071090047393366,0.35071090047393366,0.35071090047393366,0.35071090047393366,0.35071090047393366,0.35071090047393366,0.35071090047393366,0.35071090047393366,0.35071090047393366,0.35071090047393366,0.35071090047393366,0.35071090047393366,0.3459715639810427,0.3459715639810427,0.3412322274881517,0.3412322274881517,0.3412322274881517,0.3412322274881517,0.3412322274881517,0.3412322274881517,0.3412322274881517,0.3412322274881517,0.3412322274881517,0.3412322274881517,0.3412322274881517,0.33649289099526064,0.33649289099526064,0.33649289099526064,0.33649289099526064,0.33649289099526064,0.33175355450236965,0.33175355450236965,0.33175355450236965,0.33175355450236965,0.33175355450236965,0.32701421800947866,0.32701421800947866,0.32701421800947866,0.32701421800947866,0.32701421800947866,0.32701421800947866,0.3222748815165877,0.3222748815165877,0.3222748815165877,0.3222748815165877,0.3222748815165877,0.3175355450236967,0.3175355450236967,0.3175355450236967,0.3175355450236967,0.3175355450236967,0.3175355450236967,0.3175355450236967,0.3175355450236967,0.3127962085308057,0.3127962085308057,0.3127962085308057,0.3127962085308057,0.3080568720379147,0.3080568720379147,0.3080568720379147,0.3080568720379147,0.3080568720379147,0.3033175355450237,0.3033175355450237,0.3033175355450237,0.3033175355450237,0.3033175355450237,0.3033175355450237,0.3033175355450237,0.2985781990521327,0.2985781990521327,0.2985781990521327,0.2938388625592417,0.2938388625592417,0.2938388625592417,0.2938388625592417,0.2938388625592417,0.2938388625592417,0.2938388625592417,0.2938388625592417,0.2938388625592417,0.2938388625592417,0.2938388625592417,0.2938388625592417,0.2938388625592417,0.2890995260663507,0.2890995260663507,0.2843601895734597,0.2843601895734597,0.2843601895734597,0.2843601895734597,0.2796208530805687,0.2796208530805687,0.2796208530805687,0.2796208530805687,0.2796208530805687,0.2796208530805687,0.2796208530805687,0.2796208530805687,0.2796208530805687,0.2796208530805687,0.2796208530805687,0.2796208530805687,0.2796208530805687,0.2796208530805687,0.2796208530805687,0.2796208530805687,0.2796208530805687,0.2796208530805687,0.2796208530805687,0.2796208530805687,0.2796208530805687,0.2796208530805687,0.2796208530805687,0.2796208530805687,0.2796208530805687,0.2796208530805687,0.2796208530805687,0.2796208530805687,0.2796208530805687,0.2796208530805687,0.2796208530805687,0.2796208530805687,0.2796208530805687,0.2796208530805687,0.2796208530805687,0.2796208530805687,0.2796208530805687,0.2796208530805687,0.2796208530805687,0.27488151658767773,0.27488151658767773,0.27488151658767773,0.27488151658767773,0.27014218009478674,0.27014218009478674,0.27014218009478674,0.26540284360189575,0.26066350710900477,0.26066350710900477,0.26066350710900477,0.26066350710900477,0.2559241706161137,0.25118483412322273,0.25118483412322273,0.24644549763033174,0.24644549763033174,0.24644549763033174,0.24170616113744076,0.24170616113744076,0.24170616113744076,0.24170616113744076,0.23696682464454977,0.23696682464454977,0.23696682464454977,0.23696682464454977,0.23696682464454977,0.23696682464454977,0.23696682464454977,0.23696682464454977,0.23696682464454977,0.23696682464454977,0.23696682464454977,0.23696682464454977,0.23222748815165878,0.23222748815165878,0.23222748815165878,0.22748815165876776,0.22748815165876776,0.22274881516587677,0.22274881516587677,0.22274881516587677,0.22274881516587677,0.22274881516587677,0.22274881516587677,0.22274881516587677,0.22274881516587677,0.22274881516587677,0.22274881516587677,0.22274881516587677,0.22274881516587677,0.22274881516587677,0.22274881516587677,0.22274881516587677,0.22274881516587677,0.22274881516587677,0.22274881516587677,0.22274881516587677,0.22274881516587677,0.22274881516587677,0.22274881516587677,0.22274881516587677,0.22274881516587677,0.21800947867298578,0.21800947867298578,0.2132701421800948,0.20853080568720378,0.20853080568720378,0.20853080568720378,0.2037914691943128,0.2037914691943128,0.2037914691943128,0.2037914691943128,0.2037914691943128,0.2037914691943128,0.2037914691943128,0.2037914691943128,0.2037914691943128,0.2037914691943128,0.2037914691943128,0.2037914691943128,0.2037914691943128,0.2037914691943128,0.2037914691943128,0.2037914691943128,0.2037914691943128,0.2037914691943128,0.2037914691943128,0.1990521327014218,0.1990521327014218,0.1943127962085308,0.1943127962085308,0.1943127962085308,0.1943127962085308,0.1943127962085308,0.1943127962085308,0.1943127962085308,0.1943127962085308,0.1895734597156398,0.1895734597156398,0.1895734597156398,0.1895734597156398,0.1895734597156398,0.1895734597156398,0.1895734597156398,0.1895734597156398,0.1848341232227488,0.1848341232227488,0.1848341232227488,0.1848341232227488,0.18009478672985782,0.18009478672985782,0.18009478672985782,0.18009478672985782,0.18009478672985782,0.18009478672985782,0.17535545023696683,0.17535545023696683,0.17061611374407584,0.17061611374407584,0.17061611374407584,0.17061611374407584,0.17061611374407584,0.17061611374407584,0.17061611374407584,0.17061611374407584,0.17061611374407584,0.17061611374407584,0.17061611374407584,0.17061611374407584,0.17061611374407584,0.17061611374407584,0.16587677725118483,0.16587677725118483,0.16113744075829384,0.16113744075829384,0.16113744075829384,0.16113744075829384,0.15639810426540285,0.15639810426540285,0.15639810426540285,0.15165876777251186,0.15165876777251186,0.15165876777251186,0.15165876777251186,0.15165876777251186,0.15165876777251186,0.15165876777251186,0.14691943127962084,0.14218009478672985,0.13744075829383887,0.13744075829383887,0.13744075829383887,0.13744075829383887,0.13744075829383887,0.13270142180094788,0.13270142180094788,0.12796208530805686,0.12796208530805686,0.12796208530805686,0.12796208530805686,0.12796208530805686,0.12796208530805686,0.12796208530805686,0.12796208530805686,0.12796208530805686,0.12796208530805686,0.12322274881516587,0.12322274881516587,0.12322274881516587,0.12322274881516587,0.12322274881516587,0.12322274881516587,0.12322274881516587,0.12322274881516587,0.12322274881516587,0.11848341232227488,0.11848341232227488,0.11848341232227488,0.11374407582938388,0.11374407582938388,0.11374407582938388,0.11374407582938388,0.11374407582938388,0.11374407582938388,0.11374407582938388,0.11374407582938388,0.11374407582938388,0.11374407582938388,0.11374407582938388,0.10900473933649289,0.10900473933649289,0.10426540284360189,0.0995260663507109,0.0995260663507109,0.0995260663507109,0.0995260663507109,0.0995260663507109,0.0995260663507109,0.0947867298578199,0.0947867298578199,0.09004739336492891,0.09004739336492891,0.09004739336492891,0.09004739336492891,0.09004739336492891,0.09004739336492891,0.09004739336492891,0.09004739336492891,0.09004739336492891,0.09004739336492891,0.08530805687203792,0.08530805687203792,0.08056872037914692,0.08056872037914692,0.08056872037914692,0.07582938388625593,0.07582938388625593,0.07582938388625593,0.07109004739336493,0.06635071090047394,0.061611374407582936,0.05687203791469194,0.05687203791469194,0.052132701421800945,0.052132701421800945,0.052132701421800945,0.052132701421800945,0.04739336492890995,0.04739336492890995,0.04739336492890995,0.04739336492890995,0.04265402843601896,0.04265402843601896,0.04265402843601896,0.037914691943127965,0.037914691943127965,0.037914691943127965,0.037914691943127965,0.037914691943127965,0.037914691943127965,0.037914691943127965,0.03317535545023697,0.03317535545023697,0.03317535545023697,0.03317535545023697,0.02843601895734597,0.02843601895734597,0.02843601895734597,0.023696682464454975,0.023696682464454975,0.023696682464454975,0.023696682464454975,0.023696682464454975,0.023696682464454975,0.018957345971563982,0.018957345971563982,0.014218009478672985,0.014218009478672985,0.014218009478672985,0.014218009478672985,0.014218009478672985,0.014218009478672985,0.009478672985781991,0.004739336492890996,0.004739336492890996,0.004739336492890996,0.004739336492890996,0.0],\"xaxis\":\"x\",\"y\":[0.0735191637630662,0.07354478912513071,0.07357043235704323,0.07359609347750262,0.07362177250523377,0.07364746945898779,0.0736731843575419,0.07369891721969962,0.0737246680642907,0.07375043691017127,0.07377622377622378,0.07380202868135712,0.07382785164450664,0.07385369268463424,0.07387955182072829,0.07390542907180385,0.07393132445690259,0.07395723799509288,0.07398316970546985,0.07400911960715538,0.07403508771929825,0.07406107406107407,0.07408707865168539,0.07411310151036178,0.0741391426563598,0.07416520210896309,0.07419127988748242,0.07421737601125572,0.07424349049964814,0.07426962337205209,0.07429577464788732,0.07432194434660092,0.07434813248766738,0.07437433909058865,0.07440056417489421,0.07442680776014109,0.0744530698659139,0.07447935051182492,0.07450564971751412,0.07453196750264925,0.07455830388692579,0.07458465889006716,0.0746110325318246,0.07463742483197736,0.07466383581033263,0.07469026548672567,0.07471671388101983,0.07474318101310662,0.07476966690290573,0.07479617157036512,0.07482269503546099,0.07484923731819794,0.07487579843860895,0.07490237841675541,0.07492897727272728,0.07495559502664298,0.0749822316986496,0.07500888730892286,0.07503556187766713,0.07506225542511562,0.07508896797153025,0.07511569953720185,0.07514245014245015,0.0751692198076238,0.0751960085531005,0.07522281639928699,0.07524964336661912,0.0752764894755619,0.07530335474660957,0.07533023920028561,0.07535714285714286,0.07538406573776349,0.07541100786275912,0.07543796925277083,0.07546494992846924,0.07549194991055456,0.07551896921975662,0.07554600787683495,0.0755730659025788,0.07560014331780723,0.07562724014336918,0.07565435640014342,0.07568149210903874,0.0757086472909939,0.07573582196697774,0.07576301615798922,0.07579022988505747,0.07581746316924183,0.07584471603163193,0.07587198849334771,0.07589928057553957,0.07592659229938827,0.07595392368610511,0.07598127475693194,0.07600864553314121,0.07603603603603604,0.07606344628695025,0.07609087630724846,0.07611832611832611,0.07614579574160953,0.07617328519855596,0.07620079451065366,0.07622832369942197,0.07625587278641127,0.07628344179320318,0.07631103074141049,0.07633863965267727,0.07636626854867898,0.07639391745112238,0.07642158638174575,0.07644927536231884,0.07647698441464298,0.07650471356055112,0.07653246282190787,0.07656023222060958,0.0765880217785844,0.0766158315177923,0.07664366146022521,0.07667151162790697,0.07669938204289349,0.07672727272727273,0.07675518370316478,0.07678311499272197,0.07681106661812886,0.07683903860160234,0.07686703096539162,0.07689504373177843,0.07692307692307693,0.07695113056163384,0.07697920466982854,0.07700729927007299,0.07703541438481197,0.07706355003652302,0.07709170624771648,0.07711988304093567,0.07714808043875686,0.07717629846378932,0.07720453713867545,0.07723279648609077,0.07726107652874405,0.07728937728937729,0.07731769879076585,0.07734604105571848,0.07737440410707737,0.07740278796771827,0.07743119266055046,0.07745961820851689,0.07748806463459419,0.0775165319617928,0.07754502021315693,0.07757352941176471,0.0776020595807282,0.07763061074319352,0.07765918292234082,0.07768777614138439,0.07771639042357274,0.07774502579218866,0.0777736822705492,0.0778023598820059,0.07783105864994468,0.07785977859778598,0.07788851974898486,0.07791728212703102,0.07794606575544884,0.07797487065779748,0.07800369685767097,0.07803254437869822,0.0780614132445431,0.07809030347890451,0.07811921510551648,0.07814814814814815,0.07817710263060393,0.0782060785767235,0.0782350760103819,0.07826409495548961,0.07829313543599258,0.07832219747587231,0.07835128109914594,0.07838038632986627,0.07840951319212189,0.07843866171003717,0.0784678319077724,0.07849702380952381,0.07852623743952364,0.07855547282204021,0.07858472998137803,0.0786140089418778,0.07864330972791651,0.07867263236390754,0.07870197687430064,0.07873134328358208,0.07838745800671892,0.07841672890216579,0.07844602166604409,0.07847533632286996,0.07850467289719626,0.07853403141361257,0.07856341189674523,0.07859281437125748,0.07862223886184949,0.07865168539325842,0.07868115399025852,0.07871064467766117,0.07874015748031496,0.07876969242310577,0.07879924953095685,0.07882882882882883,0.07885843034171987,0.07888805409466566,0.07891770011273957,0.07894736842105263,0.07897705904475366,0.07900677200902935,0.07903650733910425,0.07906626506024096,0.07909604519774012,0.07912584777694047,0.079155672823219,0.07918552036199095,0.07921539041870992,0.07924528301886792,0.07927519818799547,0.07930513595166164,0.07933509633547413,0.07936507936507936,0.07939508506616257,0.0794251134644478,0.07945516458569807,0.07948523845571537,0.07951533510034078,0.07954545454545454,0.07957559681697612,0.07960576194086429,0.07963594994311718,0.07928679817905918,0.0793168880455408,0.07934700075930144,0.07937713634637296,0.07940729483282674,0.07943747624477385,0.07946768060836502,0.0794979079497908,0.07952815829528158,0.07955843167110772,0.07958872810357959,0.07961904761904762,0.07964939024390244,0.07967975600457491,0.07971014492753623,0.07974055703929797,0.07977099236641222,0.07980145093547156,0.07983193277310924,0.07986243790599924,0.07989296636085627,0.07992351816443595,0.07957153787299158,0.07960199004975124,0.07963246554364471,0.07966296438146304,0.07969348659003832,0.07972403219624377,0.07975460122699386,0.07978519370924435,0.07981580966999233,0.07984644913627639,0.07987711213517665,0.07990779869381483,0.07993850883935434,0.07996924259900039,0.08,0.08003078106964218,0.0800615858352579,0.08009241432422025,0.08012326656394453,0.08015414258188824,0.08018504240555127,0.0802159660624759,0.08024691358024691,0.0802778849864917,0.07992277992277992,0.07956740054074933,0.07959814528593509,0.07962891379976807,0.07965970610982212,0.07969052224371373,0.07972136222910217,0.07975222609368951,0.07978311386522076,0.07981402557148393,0.07984496124031008,0.07987592089957347,0.07990690457719161,0.07993791230112533,0.07996894409937888,0.08,0.08003108003108003,0.08006218422075398,0.08009331259720062,0.08012446518864255,0.08015564202334631,0.08018684312962242,0.08021806853582554,0.0802493182703545,0.08028059236165237,0.08031189083820663,0.08034321372854915,0.08037456106125634,0.08040593286494926,0.08043732916829363,0.08046875,0.08050019538882376,0.08053166536356529,0.08056315995307001,0.08059467918622848,0.08062622309197652,0.08065779169929523,0.08068938503721113,0.08072100313479624,0.08075264602116818,0.08078431372549019,0.08081600627697136,0.08084772370486656,0.08087946603847664,0.08091123330714847,0.08094302554027505,0.0809748427672956,0.08100668501769563,0.08103855232100708,0.08107044470680834,0.08070866141732283,0.08074044899566758,0.08077226162332546,0.08080409932991722,0.08083596214511041,0.08086785009861933,0.08089976322020521,0.08093170153967627,0.08096366508688783,0.08099565389174239,0.08102766798418973,0.08105970739422697,0.08109177215189874,0.08112386228729719,0.08115597783056215,0.08118811881188119,0.0812202852614897,0.08125247720967102,0.08128469468675655,0.08131693772312575,0.08134920634920635,0.0813815005954744,0.08141382049245433,0.08144616607071911,0.08147853736089031,0.08151093439363817,0.08154335719968178,0.0815758058097891,0.08160828025477707,0.08164078056551174,0.08167330677290836,0.08170585890793144,0.0817384370015949,0.08177104108496211,0.08180367118914605,0.08183632734530938,0.08186900958466453,0.08190171793847383,0.08193445243804956,0.08196721311475409,0.082,0.0820328131252501,0.08206565252201761,0.08209851822186624,0.08213141025641026,0.08216432865731463,0.08219727345629511,0.08223024468511833,0.08226324237560192,0.08229626655961461,0.0823293172690763,0.08236239453595821,0.08239549839228295,0.08242862887012464,0.08205953338696702,0.08209255533199195,0.0821256038647343,0.08215867901731776,0.0821917808219178,0.08222490931076179,0.08225806451612903,0.08229124647035095,0.08232445520581114,0.08235769075494549,0.08239095315024232,0.08242424242424243,0.08245755860953921,0.08249090173877881,0.0825242718446602,0.08255766895993524,0.0825910931174089,0.08262454434993925,0.08265802269043761,0.08269152817186867,0.0827250608272506,0.08275862068965517,0.08279220779220779,0.0828258221680877,0.08285946385052803,0.08289313287281593,0.08292682926829269,0.0829605530703538,0.08299430431244914,0.08302808302808302,0.08306188925081433,0.08309572301425662,0.08312958435207823,0.08316347329800244,0.08319738988580751,0.0832313341493268,0.08326530612244898,0.083299305839118,0.08333333333333333,0.08336738863914998,0.08340147179067865,0.0834355828220859,0.08346972176759411,0.08350388866148178,0.08353808353808354,0.08357230643179026,0.08360655737704918,0.08364083640836409,0.08367514356029532,0.08370947886746,0.08374384236453201,0.0837782340862423,0.0838126540673788,0.08384710234278668,0.08388157894736842,0.08391608391608392,0.08395061728395062,0.08398517908604364,0.08401976935749589,0.08405438813349815,0.08408903544929926,0.08412371134020619,0.08415841584158416,0.08419314898885678,0.08422791081750619,0.08426270136307311,0.08429752066115702,0.08433236874741629,0.08436724565756824,0.08440215142738933,0.08443708609271523,0.084472049689441,0.08450704225352113,0.08454206382096975,0.0845771144278607,0.08461219411032767,0.08464730290456432,0.08468244084682441,0.08471760797342193,0.0847528043207312,0.08478802992518704,0.08482328482328483,0.08444259567387687,0.08447773616312942,0.08451290591174021,0.08454810495626822,0.08458333333333333,0.0846185910796165,0.08465387823185988,0.08468919482686692,0.0847245409015025,0.08475991649269311,0.0847953216374269,0.08483075637275386,0.08486622073578595,0.08490171476369719,0.08493723849372385,0.0849727919631645,0.08500837520938023,0.08504398826979472,0.08507963118189438,0.08511530398322852,0.08515100671140939,0.08518673940411246,0.0852225020990764,0.08525829483410331,0.08529411764705883,0.08532997057587222,0.08536585365853659,0.08540176693310896,0.08543771043771044,0.08547368421052631,0.08550968828980623,0.0855457227138643,0.08558178752107926,0.08561788274989456,0.08565400843881857,0.08569016462642465,0.08572635135135136,0.08576256865230249,0.08579881656804733,0.08583509513742071,0.08587140439932318,0.08590774439272111,0.0859441151566469,0.08598051673019907,0.08601694915254238,0.08605341246290801,0.08608990670059373,0.08612643190496394,0.08616298811544991,0.08619957537154989,0.08623619371282923,0.08627284317892053,0.0858843537414966,0.08592088472990217,0.08595744680851064,0.08599404001702853,0.08603066439522998,0.08606731998295697,0.08610400682011936,0.0861407249466951,0.08617747440273038,0.08621425522833974,0.08625106746370624,0.08628791114908159,0.08632478632478632,0.08636169303120991,0.08639863130881095,0.08643560119811725,0.08647260273972603,0.08650963597430407,0.08654670094258783,0.08658379768538363,0.08662092624356775,0.08665808665808666,0.08669527896995709,0.08673250322026621,0.08676975945017182,0.08680704770090245,0.08684436801375753,0.08688172043010753,0.08691910499139414,0.08695652173913043,0.08699397071490095,0.08703145196036191,0.08706896551724137,0.08710651142733937,0.08714408973252805,0.08718170047475184,0.08721934369602763,0.08725701943844492,0.08729472774416594,0.08733246865542585,0.08737024221453288,0.08740804846386846,0.08744588744588745,0.08748375920311824,0.08752166377816291,0.08755960121369745,0.08759757155247182,0.0876355748373102,0.0876736111111111,0.08771168041684758,0.08774978279756733,0.08778791829639288,0.08782608695652173,0.08786428882122663,0.08790252393385553,0.08794079233783196,0.08797909407665505,0.08801742919389978,0.08805579773321709,0.08809419973833406,0.0881326352530541,0.08817110432125709,0.08820960698689956,0.08824814329401486,0.08828671328671328,0.08832531700918234,0.08836395450568679,0.08840262582056893,0.08844133099824869,0.08848007008322382,0.08851884312007012,0.08855765015344147,0.08859649122807017,0.088635366388767,0.08867427568042142,0.08871321914800176,0.08875219683655536,0.08879120879120879,0.08883025505716799,0.08886933567971843,0.08890845070422536,0.08894760017613386,0.08898678414096917,0.0885852798589687,0.08862433862433862,0.0886634318482576,0.08870255957634599,0.08874172185430464,0.0887809187279152,0.08882015024304021,0.08885941644562334,0.08889871738168952,0.08893805309734513,0.08897742363877822,0.08901682905225863,0.08905626938413824,0.08909574468085106,0.08913525498891353,0.08917480035492457,0.08921438082556592,0.08925399644760214,0.08929364726788094,0.08933333333333333,0.08937305469097377,0.08941281138790036,0.08945260347129506,0.08949243098842387,0.08953229398663697,0.08957219251336898,0.0896121266161391,0.0896520963425513,0.08969210174029452,0.08973214285714286,0.08977221974095578,0.08936550491510277,0.08940545373267769,0.08944543828264759,0.0894854586129754,0.08952551477170993,0.08956560680698612,0.08960573476702509,0.08964589870013447,0.08968609865470852,0.08972633467922836,0.08976660682226212,0.0898069151324652,0.08984725965858041,0.0898876404494382,0.08992805755395683,0.0899685110211426,0.09000900090009001,0.090049527239982,0.09009009009009009,0.09013068949977468,0.09017132551848513,0.09021199819576003,0.09025270758122744,0.09029345372460497,0.08988256549232158,0.08992318120198825,0.08996383363471971,0.09000452284034374,0.09004524886877828,0.09008601177003168,0.0901268115942029,0.09016764839148166,0.09020852221214869,0.09024943310657596,0.09029038112522686,0.09033136631865638,0.09037238873751136,0.09041344843253067,0.09045454545454545,0.0904956798544793,0.0905368516833485,0.09057806099226218,0.09061930783242259,0.09066059225512528,0.09070191431175935,0.09074327405380757,0.09078467153284671,0.0908261068005477,0.0908675799086758,0.09090909090909091,0.09049360146252285,0.09053497942386832,0.09057639524245197,0.09061784897025171,0.09065934065934066,0.09070087036188731,0.09074243813015583,0.0907840440165062,0.0908256880733945,0.09086737035337311,0.09090909090909091,0.09095084979329353,0.09099264705882353,0.0910344827586207,0.09107635694572216,0.09111826967326277,0.09116022099447514,0.09120221096269,0.0912442396313364,0.0912863070539419,0.09132841328413284,0.09137055837563451,0.09141274238227147,0.09145496535796767,0.09149722735674677,0.09153952843273232,0.09158186864014801,0.09162424803331791,0.09166666666666666,0.09170912459471978,0.0917516218721038,0.0917941585535466,0.09183673469387756,0.09187935034802784,0.09192200557103064,0.09196470041802136,0.09200743494423792,0.09205020920502092,0.09209302325581395,0.0921358771521638,0.09217877094972067,0.09222170470423847,0.09226467847157502,0.09230769230769231,0.09235074626865672,0.09239384041063929,0.09243697478991597,0.09248014946286783,0.09252336448598131,0.09256661991584852,0.09260991580916744,0.09265325222274216,0.09269662921348315,0.09274004683840749,0.09278350515463918,0.09282700421940929,0.09287054409005628,0.09291412482402628,0.09295774647887324,0.09300140911225928,0.09304511278195489,0.0930888575458392,0.09313264346190028,0.09317647058823529,0.09322033898305085,0.09326424870466321,0.09330819981149858,0.09335219236209336,0.09292452830188679,0.09296838131193959,0.09301227573182247,0.0930562116202173,0.09310018903591682,0.09314420803782505,0.09318826868495743,0.09323237103644108,0.0928030303030303,0.09284699194694458,0.09289099526066351,0.09293504030346135,0.09297912713472485,0.09302325581395349,0.09306742640075974,0.09311163895486936,0.09315589353612168,0.0932001902044698,0.09324452901998097,0.09328891004283675,0.09333333333333334,0.09337779895188185,0.09342230695900858,0.09346685741535526,0.09351145038167939,0.09355608591885442,0.0936007640878701,0.09364548494983277,0.09321223709369025,0.09325681492109039,0.09330143540669857,0.09334609861177597,0.09339080459770115,0.09343555342597029,0.0934803451581975,0.09352517985611511,0.0935700575815739,0.09361497839654345,0.0936599423631124,0.09370494954348871,0.09375,0.09379509379509379,0.09384023099133783,0.09388541165142032,0.09393063583815028,0.09397590361445783,0.0940212150433944,0.09406657018813314,0.09411196911196912,0.09415741187831965,0.09420289855072464,0.09424842919284679,0.09429400386847195,0.09433962264150944,0.09438528557599225,0.09443099273607748,0.09447674418604651,0.09452253999030538,0.09456838021338507,0.09412906356137797,0.0941747572815534,0.09422049538610976,0.09426627793974733,0.09431210500729217,0.0943579766536965,0.09440389294403893,0.09444985394352483,0.0944958597174866,0.09454191033138401,0.09458800585080449,0.09463414634146342,0.09468033186920449,0.0947265625,0.09477283829995115,0.09481915933528837,0.09486552567237164,0.0949119373776908,0.09495839451786588,0.09500489715964741,0.0950514453699167,0.09509803921568627,0.09514467876410004,0.09519136408243375,0.09523809523809523,0.09528487229862476,0.09533169533169533,0.09537856440511308,0.0954254795868175,0.09547244094488189,0.09551944854751354,0.09556650246305419,0.09561360275998028,0.09566074950690336,0.0957079427725703,0.09575518262586377,0.09580246913580247,0.09535573122529645,0.0954028670291646,0.09545004945598418,0.09549727857496289,0.09554455445544555,0.09559187716691431,0.09563924677898909,0.09568666336142786,0.09573412698412699,0.09578163771712159,0.0958291956305859,0.09587680079483359,0.0959244532803181,0.09597215315763302,0.09601990049751244,0.09606769537083126,0.09611553784860558,0.09616342800199303,0.09621136590229312,0.09625935162094763,0.09630738522954092,0.0963554667998003,0.0959040959040959,0.095952023988006,0.096,0.096048024012006,0.09559559559559559,0.09564346519779669,0.09569138276553106,0.09573934837092732,0.09578736208625878,0.0958354239839438,0.09588353413654618,0.09593169261677549,0.09597989949748743,0.09602815485168427,0.0960764587525151,0.0961248112732763,0.09566968781470292,0.09571788413098237,0.09576612903225806,0.09581442259203228,0.0958627648839556,0.09591115598182735,0.09595959595959595,0.09600808489135927,0.09605662285136501,0.09610520991401113,0.09615384615384616,0.09620253164556962,0.09625126646403243,0.0963000506842372,0.09634888438133875,0.09639776763064434,0.09644670050761421,0.09649568308786186,0.09654471544715447,0.09608540925266904,0.09613428280773144,0.09618320610687023,0.09572301425661914,0.09577177789098319,0.09582059123343527,0.0958694543600204,0.09591836734693877,0.0959673302705462,0.09601634320735444,0.09606540623403168,0.09611451942740286,0.09616368286445012,0.09621289662231321,0.09626216077828981,0.09631147540983606,0.09636084059456688,0.09641025641025641,0.09645972293483839,0.09650924024640657,0.09655880842321521,0.09660842754367935,0.09665809768637532,0.09670781893004116,0.09675759135357695,0.09680741503604531,0.09685729005667182,0.09690721649484536,0.09695719443011862,0.09700722394220847,0.09654104284976768,0.09659090909090909,0.09664082687338502,0.09669079627714582,0.09674081738230729,0.09679089026915114,0.09684101501812532,0.09689119170984456,0.09694142042509073,0.09699170124481328,0.09704203425012974,0.09709241952232607,0.09714285714285714,0.0971933471933472,0.09724388975559023,0.09729448491155047,0.09734513274336283,0.09739583333333333,0.09744658676393955,0.09749739311783108,0.09754825247782994,0.0975991649269311,0.09765013054830288,0.09770114942528736,0.09775222164140095,0.09780334728033473,0.09785452642595499,0.09790575916230367,0.09795704557359874,0.0980083857442348,0.09805977975878342,0.09811122770199371,0.09816272965879265,0.09821428571428571,0.09826589595375723,0.09831756046267087,0.09836927932667017,0.09842105263157895,0.09847288046340179,0.09852476290832456,0.09857670005271481,0.09862869198312237,0.09868073878627968,0.09873284054910243,0.09878499735868991,0.09883720930232558,0.09888947646747752,0.09894179894179894,0.09899417681312864,0.09904661016949153,0.0990990990990991,0.09915164369034994,0.09920424403183024,0.09925690021231423,0.09930961232076474,0.09936238044633369,0.09941520467836257,0.09946808510638298,0.09952102182011709,0.09957401490947816,0.09962706446457112,0.09968017057569296,0.09973333333333333,0.09978655282817503,0.0998398291510945,0.0998931623931624,0.09994655264564405,0.1,0.10005350454788657,0.10010706638115632,0.1001606855918586,0.10021436227224008,0.1002680965147453,0.10032188841201717,0.10037573805689748,0.1004296455424275,0.10048361096184846,0.10053763440860215,0.10059171597633136,0.10064585575888052,0.10070005385029618,0.10075431034482758,0.10080862533692722,0.10032362459546926,0.10037776578521317,0.10043196544276457,0.10048622366288493,0.10054054054054054,0.10059491617090319,0.10064935064935066,0.10070384407146725,0.10075839653304441,0.1008130081300813,0.10086767895878525,0.10092240911557243,0.10097719869706841,0.10103204780010863,0.10108695652173913,0.10114192495921696,0.10119695321001088,0.10125204137180185,0.10130718954248366,0.10136239782016349,0.10087241003271538,0.10092744135297327,0.1009825327510917,0.1010376843255052,0.10109289617486339,0.10114816839803172,0.1012035010940919,0.10125889436234264,0.10131434830230011,0.10136986301369863,0.10142543859649122,0.10148107515085025,0.10153677277716795,0.1015925315760571,0.10164835164835165,0.1017042330951072,0.10176017601760176,0.10181618051733626,0.10187224669603524,0.10192837465564739,0.1019845644983462,0.10204081632653061,0.1020971302428256,0.10215350635008283,0.10220994475138122,0.10226644555002765,0.10232300884955753,0.10237963475373547,0.10243632336655592,0.10249307479224377,0.10254988913525499,0.10260676650027732,0.10266370699223086,0.10272071071626875,0.10277777777777777,0.1028349082823791,0.10289210233592881,0.10294936004451864,0.10300668151447662,0.10306406685236769,0.10312151616499443,0.10317902955939766,0.10323660714285714,0.10329424902289223,0.10335195530726257,0.1034097261039687,0.10346756152125279,0.10352546166759932,0.10358342665173573,0.10364145658263306,0.10369955156950672,0.10375771172181716,0.10381593714927048,0.10387422796181921,0.10393258426966293,0.10399100618324901,0.10404949381327334,0.10410804727068092,0.10416666666666667,0.10422535211267606,0.10428410372040586,0.10434292160180485,0.1044018058690745,0.10446075663466968,0.10451977401129943,0.10457885811192764,0.10407239819004525,0.1041312959818902,0.10419026047565119,0.10424929178470255,0.10430839002267574,0.10436755530346001,0.10442678774120318,0.10448608745031232,0.10454545454545454,0.1046048891415577,0.10466439135381114,0.10472396129766648,0.10478359908883828,0.10484330484330484,0.10490307867730901,0.10496292070735881,0.1050228310502283,0.10451170759565963,0.10457142857142857,0.10463121783876501,0.10469107551487414,0.10475100171722954,0.10481099656357389,0.10487106017191977,0.10493119266055045,0.10499139414802065,0.1044776119402985,0.10453762205628948,0.10459770114942529,0.1046578493387004,0.1047180667433832,0.1047783534830167,0.10483870967741936,0.10489913544668587,0.104959630911188,0.10502019619157531,0.10508083140877598,0.10514153668399769,0.10520231213872833,0.10526315789473684,0.10532407407407407,0.10538506079907353,0.10544611819235226,0.1055072463768116,0.10556844547563805,0.10504933255948927,0.10511033681765389,0.10517141196978501,0.10523255813953489,0.10529377545084351,0.10535506402793947,0.10541642399534071,0.1048951048951049,0.10495626822157435,0.10501750291715285,0.10507880910683012,0.10514018691588785,0.10520163646990065,0.10526315789473684,0.1053247513165594,0.1053864168618267,0.1054481546572935,0.10550996483001172,0.10557184750733138,0.1056338028169014,0.10569583088667057,0.10575793184488837,0.10582010582010581,0.10588235294117647,0.10594467333725721,0.10600706713780919,0.1060695344725987,0.10554245283018868,0.1056047197640118,0.10566706021251476,0.10572947430596574,0.1057919621749409,0.10585452395032525,0.1059171597633136,0.10597986974541149,0.10604265402843602,0.10610551274451689,0.10616844602609728,0.10623145400593471,0.10629453681710213,0.10635769459298872,0.10642092746730084,0.10648423557406306,0.10654761904761904,0.10661107802263252,0.1066746126340882,0.10673822301729279,0.10680190930787589,0.10686567164179105,0.10692951015531661,0.10699342498505679,0.10705741626794259,0.10712148414123279,0.10718562874251497,0.10724985020970641,0.10731414868105515,0.10737852429514097,0.10744297719087635,0.10750750750750751,0.10757211538461539,0.10763680096211665,0.10770156438026474,0.10776640577965081,0.10783132530120482,0.10729355033152502,0.10735826296743065,0.10742305371152686,0.10748792270531402,0.10755287009063444,0.10761789600967352,0.10768300060496068,0.10774818401937046,0.10781344639612356,0.10787878787878788,0.10794420861127957,0.10800970873786407,0.10807528840315725,0.10814094775212636,0.10820668693009118,0.10827250608272507,0.10833840535605599,0.10840438489646773,0.10847044485070079,0.10853658536585366,0.10860280658938377,0.10866910866910867,0.10873549175320708,0.10880195599022005,0.10886850152905199,0.10893512851897184,0.10900183710961421,0.1090686274509804,0.10913549969343961,0.10920245398773006,0.1092694904849601,0.10933660933660934,0.10940381069452981,0.10947109471094711,0.10953846153846154,0.10960591133004927,0.10967344423906346,0.10974106041923551,0.10980876002467613,0.10925925925925926,0.10932674490426189,0.10939431396786156,0.10946196660482375,0.10952970297029703,0.10959752321981424,0.10966542750929369,0.1097334159950403,0.1098014888337469,0.10986964618249534,0.10993788819875776,0.11000621504039776,0.11007462686567164,0.11014312383322962,0.11021170610211706,0.1102803738317757,0.11034912718204488,0.11041796631316282,0.1104868913857678,0.11055590256089944,0.110625,0.11069418386491557,0.11076345431789737,0.110832811521603,0.11090225563909774,0.1103448275862069,0.11041405269761606,0.11048336472065286,0.11055276381909548,0.11062225015713388,0.11069182389937107,0.11076148521082442,0.11083123425692695,0.11090107120352867,0.11097099621689786,0.1110410094637224,0.1111111111111111,0.11118130132659507,0.11125158027812895,0.11132194813409235,0.11139240506329114,0.11146295123495883,0.11153358681875793,0.11160431198478123,0.11104060913705584,0.1111111111111111,0.11118170266836086,0.11125238397965671,0.11132315521628498,0.11139401654996817,0.11146496815286625,0.11153601019757807,0.11096938775510204,0.11104020421186982,0.1111111111111111,0.11118210862619808,0.11125319693094629,0.11132437619961612,0.11139564660691421,0.11146700832799487,0.11153846153846154,0.11161000641436819,0.1116816431322208,0.11175337186897881,0.11182519280205655,0.11189710610932475,0.11196911196911197,0.11139729555698648,0.11146907216494846,0.11154094132817537,0.11161290322580646,0.11168495803744351,0.11175710594315245,0.11182934712346478,0.11190168175937905,0.11197411003236246,0.11204663212435233,0.11211924821775761,0.11219195849546044,0.11226476314081765,0.11233766233766233,0.11176088369070825,0.11183355006501951,0.11190631099544568,0.11197916666666667,0.11205211726384365,0.1121251629726206,0.11219830397912589,0.1122715404699739,0.11234487263226649,0.11241830065359477,0.11249182472204054,0.112565445026178,0.11263916175507531,0.1127129750982962,0.11278688524590164,0.11286089238845144,0.11293499671700591,0.11300919842312747,0.11308349769888232,0.11315789473684211,0.11323238973008558,0.11330698287220026,0.1133816743572841,0.11345646437994723,0.11353135313531353,0.11360634081902246,0.11368142762723067,0.11375661375661375,0.11383189940436797,0.11390728476821192,0.11398277004638833,0.11405835543766578,0.11413404114134042,0.11420982735723771,0.11428571428571428,0.11436170212765957,0.11443779108449767,0.11451398135818908,0.1145902731512325,0.11466666666666667,0.11474316210807205,0.11415220293724966,0.11422845691382766,0.1143048128342246,0.11438127090301003,0.1144578313253012,0.1145344943067649,0.1146112600536193,0.11468812877263582,0.11476510067114094,0.11484217595701814,0.11491935483870967,0.11499663752521856,0.11507402422611036,0.11515151515151516,0.11522911051212938,0.1153068105192178,0.11538461538461539,0.11546252532072923,0.11554054054054054,0.11561866125760649,0.11569688768606225,0.11577522004062288,0.11585365853658537,0.11593220338983051,0.11601085481682497,0.11541072640868975,0.11548913043478261,0.11556764106050306,0.11564625850340136,0.11572498298162015,0.11580381471389646,0.11588275391956374,0.11596180081855388,0.11604095563139932,0.11612021857923498,0.11619958988380041,0.11627906976744186,0.1163586584531143,0.11643835616438356,0.11651816312542837,0.11659807956104253,0.11667810569663692,0.11675824175824176,0.11683848797250859,0.11691884456671252,0.1169993117687543,0.11707988980716254,0.1171605789110958,0.11724137931034483,0.11732229123533472,0.11740331491712708,0.11748445058742225,0.11687413554633472,0.11695501730103806,0.11703601108033242,0.11711711711711711,0.11719833564493759,0.11727966689798751,0.11736111111111111,0.11744266851980542,0.11752433936022254,0.11760612386917188,0.11768802228412256,0.11777003484320557,0.11785216178521618,0.11793440334961619,0.1180167597765363,0.11809923130677848,0.11818181818181818,0.11826452064380685,0.11764705882352941,0.11772950245269796,0.11781206171107994,0.11789473684210526,0.11797752808988764,0.11806043569922699,0.11814345991561181,0.11822660098522167,0.11830985915492957,0.11839323467230443,0.11777150916784203,0.11785462244177841,0.11793785310734463,0.11802120141342756,0.1181046676096181,0.11818825194621373,0.11827195467422097,0.11835577604535791,0.11843971631205674,0.1185237757274663,0.11860795454545454,0.11869225302061123,0.11877667140825035,0.11886120996441281,0.11894586894586895,0.11903064861012116,0.11911554921540657,0.1192005710206995,0.11928571428571429,0.11937097927090778,0.11945636623748211,0.11954187544738726,0.11962750716332378,0.11971326164874552,0.11979913916786226,0.1198851399856425,0.11997126436781609,0.12005751258087707,0.12014388489208633,0.12023038156947444,0.12031700288184438,0.12040374909877433,0.1204906204906205,0.12057761732851986,0.12066473988439307,0.12075198843094721,0.12083936324167872,0.12092686459087618,0.12101449275362319,0.1211022480058013,0.12119013062409288,0.12127814088598403,0.12136627906976744,0.12145454545454545,0.1215429403202329,0.12163146394756008,0.1217201166180758,0.12180889861415026,0.12189781021897811,0.12198685171658144,0.12207602339181287,0.12216532553035844,0.12225475841874085,0.12234432234432234,0.12243401759530792,0.12252384446074835,0.12261380323054331,0.12270389419544453,0.12279411764705882,0.12288447387785136,0.12297496318114874,0.12306558585114223,0.12315634218289086,0.12324723247232472,0.12259970457902511,0.12269031781226904,0.1227810650887574,0.1228719467061436,0.12296296296296297,0.12305411415863603,0.12314540059347182,0.12323682256867112,0.12332838038632987,0.12342007434944238,0.12351190476190477,0.12360387192851824,0.12369597615499255,0.12378821774794929,0.12388059701492538,0.1239731142643764,0.12406576980568013,0.12415856394913986,0.12425149700598802,0.12434456928838951,0.12443778110944528,0.1245311327831958,0.12387387387387387,0.12396694214876033,0.12406015037593984,0.12415349887133183,0.12424698795180723,0.12434061793519216,0.1244343891402715,0.12452830188679245,0.12462235649546828,0.12471655328798185,0.12481089258698941,0.12490537471612415,0.125,0.12509476876421532,0.1251896813353566,0.1252847380410023,0.12537993920972645,0.12547528517110265,0.12557077625570776,0.12566641279512566,0.12576219512195122,0.12585812356979406,0.12595419847328243,0.12605042016806722,0.12614678899082568,0.1262433052792655,0.12633996937212863,0.12643678160919541,0.12653374233128833,0.12663085188027629,0.12672811059907835,0.12682551883166795,0.12692307692307692,0.12702078521939955,0.1271186440677966,0.1272166538164996,0.12731481481481483,0.1274131274131274,0.1275115919629057,0.12761020881670534,0.12770897832817338,0.12780790085205268,0.12790697674418605,0.12800620636152055,0.1281055900621118,0.1282051282051282,0.12830482115085537,0.12840466926070038,0.12850467289719625,0.12860483242400625,0.12870514820592824,0.1288056206088993,0.12890625,0.12900703674745895,0.12910798122065728,0.12920908379013313,0.12931034482758622,0.12862745098039216,0.12872841444270017,0.12882953652788687,0.1289308176100629,0.12903225806451613,0.12913385826771653,0.12923561859732072,0.12933753943217666,0.1286503551696922,0.1287519747235387,0.12885375494071147,0.12895569620253164,0.1290577988915281,0.12916006339144215,0.12926249008723237,0.12936507936507938,0.12946783161239078,0.12957074721780604,0.12967382657120127,0.12977707006369427,0.1298804780876494,0.12998405103668262,0.1300877893056664,0.13019169329073482,0.13029576338928858,0.1304,0.13050440352281825,0.13060897435897437,0.12991178829190056,0.13001605136436598,0.13012048192771083,0.1302250803858521,0.13032984714400644,0.13043478260869565,0.1305398871877518,0.13064516129032258,0.13075060532687652,0.1308562197092084,0.13096200485044462,0.13106796116504854,0.1311740890688259,0.13047001620745544,0.1305758313057583,0.13068181818181818,0.13078797725426483,0.13089430894308943,0.13100081366965013,0.13110749185667753,0.13121434392828035,0.13132137030995106,0.1306122448979592,0.13071895424836602,0.13082583810302534,0.13011456628477905,0.13022113022113022,0.130327868852459,0.13043478260869565,0.13054187192118227,0.1306491372226787,0.13075657894736842,0.1308641975308642,0.13097199341021418,0.13107996702390767,0.1311881188118812,0.13129644921552436,0.13140495867768595,0.1315136476426799,0.1316225165562914,0.13173156586578294,0.1318407960199005,0.13195020746887967,0.13205980066445183,0.13216957605985039,0.13227953410981697,0.13238967527060783,0.1325,0.13261050875729774,0.1327212020033389,0.13283208020050125,0.13294314381270902,0.13305439330543933,0.13316582914572864,0.13327745180217937,0.13338926174496643,0.13350125944584382,0.13361344537815126,0.13372582001682085,0.13383838383838384,0.13395113732097724,0.13406408094435077,0.1341772151898734,0.13429054054054054,0.13440405748098055,0.13451776649746192,0.13463166807790009,0.13474576271186442,0.13486005089058525,0.13497453310696095,0.135089209855565,0.13520408163265307,0.13531914893617022,0.1354344122657581,0.13554987212276215,0.1356655290102389,0.13578138343296328,0.1358974358974359,0.1360136869118905,0.13613013698630136,0.13624678663239073,0.13636363636363635,0.13648068669527896,0.13659793814432988,0.13671539122957868,0.1368330464716007,0.13695090439276486,0.13706896551724138,0.1371872303710095,0.13730569948186527,0.13742437337942956,0.1375432525951557,0.1367965367965368,0.1369150779896014,0.13616652211621855,0.1362847222222222,0.1364031277150304,0.13652173913043478,0.13664055700609226,0.1367595818815331,0.13687881429816914,0.13612565445026178,0.13624454148471615,0.13636363636363635,0.13648293963254593,0.13572679509632224,0.13584574934268187,0.13596491228070176,0.13520632133450394,0.13532513181019332,0.13544415127528583,0.13556338028169015,0.1356828193832599,0.13580246913580246,0.13592233009708737,0.13604240282685512,0.1361626878868258,0.13628318584070798,0.13640389725420726,0.13652482269503546,0.13664596273291926,0.13676731793960922,0.1368888888888889,0.13701067615658363,0.1371326803205699,0.13725490196078433,0.13737734165923282,0.1375,0.13672922252010725,0.1368515205724508,0.1369740376007162,0.13709677419354838,0.13721973094170403,0.13734290843806105,0.13656783468104222,0.1366906474820144,0.13681368136813682,0.13693693693693693,0.13706041478809738,0.1371841155234657,0.13730803974706413,0.13743218806509946,0.13755656108597286,0.13768115942028986,0.13780598368087035,0.13793103448275862,0.13805631244323344,0.13818181818181818,0.13830755232029118,0.1384335154826958,0.13855970829535097,0.1386861313868613,0.13881278538812786,0.13893967093235832,0.13906678865507777,0.1391941391941392,0.13932172318973418,0.13944954128440368,0.13957759412304868,0.13970588235294118,0.1389144434222631,0.13904235727440148,0.1391705069124424,0.1392988929889299,0.13850415512465375,0.13863216266173753,0.13876040703052728,0.13796296296296295,0.1380908248378128,0.13821892393320964,0.13834726090993502,0.13847583643122677,0.1386046511627907,0.1387337057728119,0.13886300093196646,0.13899253731343283,0.13912231559290383,0.13925233644859814,0.13938260056127222,0.13857677902621723,0.1387066541705717,0.13883677298311445,0.13896713615023473,0.13909774436090225,0.13922859830667922,0.1393596986817326,0.13949104618284638,0.13962264150943396,0.1397544853635505,0.13988657844990549,0.1400189214758751,0.14015151515151514,0.14028436018957346,0.14041745730550284,0.14055080721747387,0.14068441064638784,0.14081826831588962,0.14095238095238094,0.14108674928503337,0.14122137404580154,0.1413562559694365,0.14149139579349904,0.1416267942583732,0.1417624521072797,0.14189837008628955,0.1420345489443378,0.14217098943323728,0.1423076923076923,0.14148219441770934,0.1416184971098266,0.14175506268081003,0.14092664092664092,0.14106280193236714,0.14119922630560927,0.14133591481122942,0.14147286821705427,0.14161008729388944,0.141747572815534,0.14188532555879493,0.14202334630350194,0.14216163583252192,0.14230019493177387,0.1424390243902439,0.142578125,0.14271749755620725,0.14285714285714285,0.14299706170421156,0.14313725490196078,0.14327772325809618,0.14341846758349705,0.14355948869223206,0.1437007874015748,0.1438423645320197,0.14398422090729784,0.14313919052319843,0.1432806324110672,0.1434223541048467,0.14356435643564355,0.14370664023785926,0.14384920634920634,0.14399205561072492,0.1441351888667992,0.14427860696517414,0.14442231075697212,0.14456630109670987,0.14471057884231536,0.14485514485514486,0.144,0.14414414414414414,0.14428857715430862,0.1444332998996991,0.14457831325301204,0.14472361809045226,0.14386317907444668,0.14400805639476336,0.14415322580645162,0.1442986881937437,0.14444444444444443,0.14459049544994945,0.14473684210526316,0.14488348530901723,0.14503042596348883,0.14517766497461929,0.14532520325203252,0.14547304170905392,0.14562118126272913,0.145769622833843,0.14591836734693878,0.14606741573033707,0.14621676891615543,0.14636642784032752,0.14651639344262296,0.14666666666666667,0.14681724845995894,0.14696813977389517,0.147119341563786,0.1462409886714727,0.1463917525773196,0.14654282765737875,0.14669421487603307,0.1468459152016546,0.14699792960662525,0.14715025906735751,0.14730290456431536,0.1474558670820353,0.14760914760914762,0.14776274713839752,0.14791666666666667,0.1480709071949948,0.14822546972860126,0.148380355276907,0.14853556485355648,0.1486910994764398,0.1488469601677149,0.14900314795383002,0.14915966386554622,0.14931650893796003,0.14947368421052631,0.14963119072708114,0.14978902953586498,0.14889123548046462,0.14904862579281183,0.1492063492063492,0.149364406779661,0.14952279957582185,0.14968152866242038,0.14984059511158343,0.15,0.1501597444089457,0.15031982942430705,0.15048025613660618,0.15064102564102563,0.1497326203208556,0.14989293361884368,0.15005359056806003,0.15021459227467812,0.15037593984962405,0.15053763440860216,0.15069967707212056,0.15086206896551724,0.1499460625674218,0.15010799136069114,0.1491891891891892,0.14935064935064934,0.1495124593716143,0.14967462039045554,0.1498371335504886,0.15,0.1501632208922742,0.1503267973856209,0.1504907306434024,0.15065502183406113,0.15081967213114755,0.15098468271334792,0.15005476451259583,0.14912280701754385,0.14928649835345773,0.14835164835164835,0.1485148514851485,0.1486784140969163,0.14773980154355015,0.1479028697571744,0.14806629834254142,0.14823008849557523,0.14839424141749724,0.14855875831485588,0.14872364039955605,0.14888888888888888,0.14905450500556172,0.14810690423162584,0.14827201783723523,0.1484375,0.14860335195530727,0.1487695749440716,0.14893617021276595,0.1491031390134529,0.14927048260381592,0.149438202247191,0.14960629921259844,0.14977477477477477,0.14994363021420518,0.15011286681715574,0.15028248587570622,0.1504524886877828,0.1506228765571914,0.15079365079365079,0.15096481271282633,0.15113636363636362,0.15130830489192265,0.15148063781321183,0.1516533637400228,0.15182648401826485,0.152,0.15217391304347827,0.15234822451317298,0.15252293577981652,0.15269804822043628,0.1528735632183908,0.15304948216340622,0.1532258064516129,0.15340253748558247,0.1535796766743649,0.15375722543352602,0.15393518518518517,0.1541135573580533,0.154292343387471,0.15447154471544716,0.15465116279069768,0.15366705471478465,0.15384615384615385,0.1528588098016336,0.1530373831775701,0.15204678362573099,0.1522248243559719,0.15240328253223914,0.15258215962441316,0.15276145710928318,0.15294117647058825,0.15312131919905772,0.15330188679245282,0.15348288075560804,0.1536643026004728,0.15384615384615385,0.15402843601895735,0.1542111506524318,0.1543942992874109,0.1545778834720571,0.15476190476190477,0.15494636471990464,0.15513126491646778,0.15531660692951016,0.15550239234449761,0.15449101796407186,0.15467625899280577,0.15486194477791115,0.15504807692307693,0.1552346570397112,0.15542168674698795,0.15560916767189384,0.15579710144927536,0.15598548972188633,0.15617433414043583,0.15515151515151515,0.1553398058252427,0.15552855407047386,0.15571776155717762,0.1559074299634592,0.15609756097560976,0.1562881562881563,0.15647921760391198,0.15667074663402691,0.1568627450980392,0.1570552147239264,0.15724815724815724,0.15744157441574416,0.1564039408866995,0.15659679408138102,0.15679012345679014,0.15698393077873918,0.15594059405940594,0.15613382899628253,0.15632754342431762,0.1565217391304348,0.15671641791044777,0.15566625155666253,0.15586034912718205,0.1560549313358302,0.15625,0.15644555694618273,0.15664160401002505,0.15683814303638646,0.157035175879397,0.15723270440251572,0.1574307304785894,0.15762925598991173,0.15782828282828282,0.15802781289506954,0.15822784810126583,0.15842839036755388,0.15862944162436549,0.1588310038119441,0.15903307888040713,0.1592356687898089,0.15943877551020408,0.15964240102171137,0.159846547314578,0.1587708066581306,0.15897435897435896,0.15789473684210525,0.15809768637532134,0.1583011583011583,0.15721649484536082,0.15741935483870967,0.15762273901808785,0.15782664941785252,0.15803108808290156,0.1582360570687419,0.15844155844155844,0.15864759427828348,0.15885416666666666,0.1590612777053455,0.15926892950391644,0.15947712418300652,0.15968586387434555,0.1598951507208388,0.16010498687664043,0.16031537450722733,0.16052631578947368,0.15942028985507245,0.15963060686015831,0.15984147952443858,0.16005291005291006,0.16026490066225166,0.16047745358090185,0.16069057104913678,0.16090425531914893,0.1611185086551265,0.16133333333333333,0.16154873164218958,0.16176470588235295,0.16198125836680052,0.16219839142091153,0.16241610738255033,0.16263440860215053,0.16285329744279947,0.16307277628032346,0.16194331983805668,0.16216216216216217,0.16238159675236807,0.16124661246612465,0.1614654002713704,0.16168478260869565,0.16054421768707483,0.16076294277929154,0.15961800818553887,0.1598360655737705,0.15868673050615595,0.1589041095890411,0.15912208504801098,0.15934065934065933,0.15955983493810177,0.15977961432506887,0.16,0.16022099447513813,0.16044260027662519,0.16066481994459833,0.1608876560332871,0.16111111111111112,0.16133518776077885,0.1615598885793872,0.16178521617852162,0.16201117318435754,0.16223776223776223,0.16246498599439776,0.16269284712482468,0.16292134831460675,0.1631504922644163,0.16338028169014085,0.16361071932299012,0.1638418079096045,0.16407355021216408,0.1643059490084986,0.16453900709219857,0.16477272727272727,0.16500711237553342,0.16524216524216523,0.16547788873038516,0.1657142857142857,0.1659513590844063,0.166189111747851,0.16642754662840745,0.16666666666666666,0.1669064748201439,0.16714697406340057,0.1673881673881674,0.1676300578034682,0.1678726483357453,0.1681159420289855,0.1683599419448476,0.1686046511627907,0.16739446870451238,0.16763848396501457,0.1678832116788321,0.16812865497076024,0.16691068814055637,0.16715542521994134,0.16593245227606462,0.1661764705882353,0.16642120765832105,0.16666666666666666,0.16691285081240767,0.16715976331360946,0.1674074074074074,0.16765578635014836,0.16790490341753342,0.16815476190476192,0.16840536512667661,0.16865671641791044,0.16890881913303438,0.1691616766467066,0.16941529235382308,0.16816816816816818,0.16842105263157894,0.1686746987951807,0.1689291101055807,0.1691842900302115,0.16944024205748864,0.1696969696969697,0.16995447647951442,0.1702127659574468,0.1704718417047184,0.16920731707317074,0.16946564885496182,0.16972477064220184,0.16998468606431852,0.17024539877300612,0.17050691244239632,0.17076923076923076,0.17103235747303544,0.1712962962962963,0.17156105100463678,0.17182662538699692,0.17209302325581396,0.17080745341614906,0.17107309486780714,0.17133956386292834,0.17160686427457097,0.171875,0.17214397496087636,0.1724137931034483,0.17111459968602827,0.17138364779874213,0.17165354330708663,0.1719242902208202,0.1721958925750395,0.17246835443037975,0.17115689381933438,0.17142857142857143,0.17170111287758347,0.17197452229299362,0.1722488038277512,0.17252396166134185,0.1728,0.17307692307692307,0.17335473515248795,0.17363344051446947,0.17391304347826086,0.17419354838709677,0.17447495961227788,0.17475728155339806,0.17504051863857376,0.17532467532467533,0.17560975609756097,0.1758957654723127,0.1761827079934747,0.17647058823529413,0.176759410801964,0.17704918032786884,0.17569786535303777,0.17598684210526316,0.17627677100494235,0.17491749174917492,0.17520661157024794,0.17549668874172186,0.175787728026534,0.1760797342192691,0.17637271214642264,0.17666666666666667,0.17696160267111852,0.17725752508361203,0.17755443886097153,0.17785234899328858,0.1781512605042017,0.17845117845117844,0.178752107925801,0.17905405405405406,0.17766497461928935,0.17796610169491525,0.17826825127334464,0.17857142857142858,0.1788756388415673,0.17918088737201365,0.1794871794871795,0.1797945205479452,0.18010291595197256,0.17869415807560138,0.17900172117039587,0.1793103448275862,0.17962003454231434,0.17993079584775087,0.18024263431542462,0.18055555555555555,0.1808695652173913,0.18118466898954705,0.18150087260034903,0.18181818181818182,0.18213660245183888,0.1824561403508772,0.1827768014059754,0.18309859154929578,0.18342151675485008,0.18197879858657243,0.18230088495575222,0.18085106382978725,0.1811722912966252,0.18149466192170818,0.18181818181818182,0.18214285714285713,0.18246869409660108,0.1827956989247312,0.18312387791741472,0.18345323741007194,0.1837837837837838,0.18411552346570398,0.18264014466546113,0.18115942028985507,0.18148820326678766,0.18181818181818182,0.18032786885245902,0.18065693430656934,0.17915904936014626,0.17765567765567766,0.1779816513761468,0.17647058823529413,0.17679558011049723,0.1752767527675277,0.1756007393715342,0.17592592592592593,0.17625231910946196,0.17472118959107807,0.1750465549348231,0.17537313432835822,0.17570093457943925,0.1760299625468165,0.17636022514071295,0.17669172932330826,0.17702448210922786,0.17735849056603772,0.1776937618147448,0.17803030303030304,0.17836812144212524,0.17680608365019013,0.17714285714285713,0.17748091603053434,0.17782026768642448,0.1781609195402299,0.1785028790786948,0.17884615384615385,0.1791907514450867,0.17953667953667954,0.17988394584139264,0.18023255813953487,0.18058252427184465,0.18093385214007782,0.18128654970760233,0.181640625,0.18199608610567514,0.18235294117647058,0.18271119842829076,0.1830708661417323,0.1834319526627219,0.18379446640316205,0.18415841584158416,0.18253968253968253,0.18290258449304175,0.18326693227091634,0.18163672654690619,0.182,0.18236472945891782,0.1827309236947791,0.18309859154929578,0.18346774193548387,0.18383838383838383,0.18218623481781376,0.18052738336713997,0.18089430894308944,0.18126272912423624,0.1816326530612245,0.18200408997955012,0.18237704918032788,0.1806981519507187,0.18106995884773663,0.18144329896907216,0.1797520661157025,0.18012422360248448,0.18049792531120332,0.18087318087318088,0.17916666666666667,0.17954070981210857,0.1799163179916318,0.17819706498951782,0.17857142857142858,0.17894736842105263,0.17721518987341772,0.17758985200845667,0.17584745762711865,0.1762208067940552,0.17659574468085107,0.17697228144989338,0.17735042735042736,0.1777301927194861,0.1759656652360515,0.17419354838709677,0.17456896551724138,0.17494600431965443,0.17532467532467533,0.1735357917570499,0.17391304347826086,0.17429193899782136,0.17467248908296942,0.175054704595186,0.17543859649122806,0.17582417582417584,0.1762114537444934,0.17660044150110377,0.1747787610619469,0.17516629711751663,0.17555555555555555,0.17371937639198218,0.17410714285714285,0.174496644295302,0.17488789237668162,0.1752808988764045,0.17567567567567569,0.17607223476297967,0.17647058823529413,0.17687074829931973,0.17727272727272728,0.17539863325740318,0.17579908675799086,0.17620137299771166,0.17660550458715596,0.17701149425287357,0.1774193548387097,0.17782909930715934,0.17592592592592593,0.17633410672853828,0.17674418604651163,0.17715617715617715,0.17757009345794392,0.17798594847775176,0.1784037558685446,0.17882352941176471,0.1792452830188679,0.17966903073286053,0.18009478672985782,0.17814726840855108,0.17857142857142858,0.1766109785202864,0.17703349282296652,0.1774580335731415,0.1778846153846154,0.1783132530120482,0.178743961352657,0.1791767554479419,0.1796116504854369,0.18004866180048662,0.18048780487804877,0.18092909535452323,0.18137254901960784,0.18181818181818182,0.18226600985221675,0.18271604938271604,0.18316831683168316,0.18362282878411912,0.18407960199004975,0.18453865336658354,0.185,0.18546365914786966,0.18592964824120603,0.18639798488664988,0.18686868686868688,0.18734177215189873,0.18781725888324874,0.18829516539440203,0.18877551020408162,0.18925831202046037,0.18974358974358974,0.19023136246786632,0.19072164948453607,0.18863049095607234,0.18911917098445596,0.18701298701298702,0.1875,0.18798955613577023,0.18848167539267016,0.1889763779527559,0.18947368421052632,0.18997361477572558,0.19047619047619047,0.1909814323607427,0.19148936170212766,0.192,0.18983957219251338,0.1903485254691689,0.19086021505376344,0.19137466307277629,0.1918918918918919,0.1897018970189702,0.19021739130434784,0.1907356948228883,0.1912568306010929,0.1917808219178082,0.18956043956043955,0.19008264462809918,0.19060773480662985,0.19113573407202217,0.19166666666666668,0.19220055710306408,0.18994413407821228,0.19047619047619047,0.19101123595505617,0.19154929577464788,0.192090395480226,0.18980169971671387,0.1903409090909091,0.1908831908831909,0.19142857142857142,0.19197707736389685,0.1925287356321839,0.1930835734870317,0.1936416184971098,0.19130434782608696,0.19186046511627908,0.1924198250728863,0.19298245614035087,0.1906158357771261,0.19117647058823528,0.19174041297935104,0.19230769230769232,0.19287833827893175,0.19047619047619047,0.191044776119403,0.19161676646706588,0.1921921921921922,0.1927710843373494,0.1933534743202417,0.19393939393939394,0.19148936170212766,0.19207317073170732,0.1926605504587156,0.1901840490797546,0.19076923076923077,0.19135802469135801,0.19195046439628483,0.19254658385093168,0.19314641744548286,0.19375,0.19435736677115986,0.1949685534591195,0.19558359621451105,0.1962025316455696,0.19682539682539682,0.19745222929936307,0.19488817891373802,0.1955128205128205,0.19292604501607716,0.1935483870967742,0.1941747572815534,0.19480519480519481,0.19218241042345277,0.19281045751633988,0.19344262295081968,0.19407894736842105,0.19471947194719472,0.19536423841059603,0.19601328903654486,0.19666666666666666,0.19732441471571907,0.19798657718120805,0.19865319865319866,0.19932432432432431,0.2,0.20068027210884354,0.20136518771331058,0.20205479452054795,0.2027491408934708,0.20344827586206896,0.2041522491349481,0.2048611111111111,0.20557491289198607,0.2062937062937063,0.20701754385964913,0.20774647887323944,0.20848056537102475,0.20921985815602837,0.2099644128113879,0.21071428571428572,0.2114695340501792,0.21223021582733814,0.21299638989169675,0.213768115942029,0.21454545454545454,0.21532846715328466,0.21611721611721613,0.21691176470588236,0.2177121771217712,0.21851851851851853,0.21933085501858737,0.21641791044776118,0.21722846441947566,0.21804511278195488,0.2188679245283019,0.2159090909090909,0.21673003802281368,0.21755725190839695,0.21455938697318008,0.21153846153846154,0.21235521235521235,0.2131782945736434,0.2140077821011673,0.2109375,0.20784313725490197,0.20866141732283464,0.20553359683794467,0.20634920634920634,0.20717131474103587,0.204,0.20481927710843373,0.2056451612903226,0.20647773279352227,0.2032520325203252,0.20408163265306123,0.20491803278688525,0.205761316872428,0.2066115702479339,0.2074688796680498,0.20833333333333334,0.20920502092050208,0.21008403361344538,0.2109704641350211,0.211864406779661,0.2127659574468085,0.2094017094017094,0.21030042918454936,0.21120689655172414,0.2077922077922078,0.20869565217391303,0.2052401746724891,0.20614035087719298,0.20704845814977973,0.2079646017699115,0.2088888888888889,0.20982142857142858,0.21076233183856502,0.21171171171171171,0.21266968325791855,0.21363636363636362,0.2146118721461187,0.21559633027522937,0.21658986175115208,0.2175925925925926,0.2186046511627907,0.21962616822429906,0.22065727699530516,0.22169811320754718,0.22274881516587677,0.22380952380952382,0.22488038277511962,0.22596153846153846,0.22705314009661837,0.22815533980582525,0.22439024390243903,0.22549019607843138,0.22167487684729065,0.21782178217821782,0.21890547263681592,0.22,0.21608040201005024,0.21717171717171718,0.2182741116751269,0.2193877551020408,0.2205128205128205,0.22164948453608246,0.22279792746113988,0.22395833333333334,0.225130890052356,0.22631578947368422,0.2275132275132275,0.22872340425531915,0.22994652406417113,0.23118279569892472,0.23243243243243245,0.23369565217391305,0.23497267759562843,0.23626373626373626,0.23756906077348067,0.23333333333333334,0.2346368715083799,0.2303370786516854,0.23163841807909605,0.23295454545454544,0.2342857142857143,0.23563218390804597,0.23699421965317918,0.23837209302325582,0.23976608187134502,0.23529411764705882,0.23668639053254437,0.23809523809523808,0.23952095808383234,0.24096385542168675,0.24242424242424243,0.24390243902439024,0.24539877300613497,0.24074074074074073,0.2422360248447205,0.24375,0.24528301886792453,0.24050632911392406,0.24203821656050956,0.24358974358974358,0.24516129032258063,0.24675324675324675,0.24836601307189543,0.24342105263157895,0.24503311258278146,0.24,0.24161073825503357,0.24324324324324326,0.24489795918367346,0.2465753424657534,0.2482758620689655,0.25,0.2517482517482518,0.2535211267605634,0.2553191489361702,0.2571428571428571,0.2589928057553957,0.2608695652173913,0.26277372262773724,0.25735294117647056,0.25925925925925924,0.2537313432835821,0.2556390977443609,0.25757575757575757,0.2595419847328244,0.25384615384615383,0.2558139534883721,0.2578125,0.25196850393700787,0.25396825396825395,0.256,0.25806451612903225,0.2601626016260163,0.26229508196721313,0.2644628099173554,0.25833333333333336,0.25210084033613445,0.2457627118644068,0.24786324786324787,0.25,0.25217391304347825,0.2543859649122807,0.24778761061946902,0.25,0.24324324324324326,0.24545454545454545,0.24770642201834864,0.25,0.2523364485981308,0.25471698113207547,0.2571428571428571,0.25961538461538464,0.2621359223300971,0.2647058823529412,0.25742574257425743,0.26,0.26262626262626265,0.2653061224489796,0.26804123711340205,0.2708333333333333,0.2736842105263158,0.2765957446808511,0.27956989247311825,0.2717391304347826,0.27472527472527475,0.2777777777777778,0.2696629213483146,0.2727272727272727,0.27586206896551724,0.27906976744186046,0.2823529411764706,0.2857142857142857,0.2891566265060241,0.2926829268292683,0.2962962962962963,0.3,0.3037974683544304,0.2948717948717949,0.2987012987012987,0.2894736842105263,0.28,0.28378378378378377,0.2876712328767123,0.2916666666666667,0.29577464788732394,0.3,0.2898550724637681,0.29411764705882354,0.2835820895522388,0.2878787878787879,0.2923076923076923,0.296875,0.30158730158730157,0.3064516129032258,0.3114754098360656,0.31666666666666665,0.3220338983050847,0.3275862068965517,0.3157894736842105,0.32142857142857145,0.3090909090909091,0.3148148148148148,0.32075471698113206,0.3076923076923077,0.3137254901960784,0.32,0.30612244897959184,0.2916666666666667,0.2765957446808511,0.2608695652173913,0.26666666666666666,0.25,0.2558139534883721,0.2619047619047619,0.2682926829268293,0.25,0.2564102564102564,0.2631578947368421,0.2702702702702703,0.25,0.2571428571428571,0.2647058823529412,0.24242424242424243,0.25,0.25806451612903225,0.26666666666666666,0.27586206896551724,0.2857142857142857,0.2962962962962963,0.2692307692307692,0.28,0.2916666666666667,0.30434782608695654,0.2727272727272727,0.2857142857142857,0.3,0.2631578947368421,0.2777777777777778,0.29411764705882354,0.3125,0.3333333333333333,0.35714285714285715,0.3076923076923077,0.3333333333333333,0.2727272727272727,0.3,0.3333333333333333,0.375,0.42857142857142855,0.5,0.4,0.25,0.3333333333333333,0.5,1.0,1.0],\"yaxis\":\"y\",\"type\":\"scattergl\"},{\"hovertemplate\":\"method=Forward Selection\\u003cbr\\u003eRecall=%{x}\\u003cbr\\u003ePrecision=%{y}\\u003cextra\\u003e\\u003c\\u002fextra\\u003e\",\"legendgroup\":\"Forward Selection\",\"line\":{\"color\":\"#EF553B\",\"dash\":\"solid\"},\"marker\":{\"symbol\":\"circle\"},\"mode\":\"lines\",\"name\":\"Forward Selection\",\"showlegend\":true,\"x\":[1.0,1.0,1.0,1.0,1.0,1.0,1.0,1.0,1.0,1.0,0.995260663507109,0.995260663507109,0.995260663507109,0.995260663507109,0.995260663507109,0.995260663507109,0.995260663507109,0.995260663507109,0.995260663507109,0.995260663507109,0.995260663507109,0.995260663507109,0.995260663507109,0.995260663507109,0.995260663507109,0.995260663507109,0.995260663507109,0.995260663507109,0.995260663507109,0.995260663507109,0.995260663507109,0.995260663507109,0.995260663507109,0.995260663507109,0.995260663507109,0.995260663507109,0.995260663507109,0.995260663507109,0.995260663507109,0.995260663507109,0.995260663507109,0.995260663507109,0.995260663507109,0.995260663507109,0.995260663507109,0.995260663507109,0.995260663507109,0.995260663507109,0.990521327014218,0.990521327014218,0.990521327014218,0.990521327014218,0.990521327014218,0.990521327014218,0.990521327014218,0.990521327014218,0.990521327014218,0.990521327014218,0.985781990521327,0.985781990521327,0.985781990521327,0.985781990521327,0.985781990521327,0.985781990521327,0.985781990521327,0.985781990521327,0.985781990521327,0.985781990521327,0.985781990521327,0.985781990521327,0.985781990521327,0.985781990521327,0.985781990521327,0.985781990521327,0.985781990521327,0.985781990521327,0.985781990521327,0.981042654028436,0.976303317535545,0.976303317535545,0.976303317535545,0.976303317535545,0.976303317535545,0.976303317535545,0.976303317535545,0.976303317535545,0.976303317535545,0.976303317535545,0.9715639810426541,0.9715639810426541,0.966824644549763,0.966824644549763,0.966824644549763,0.966824644549763,0.966824644549763,0.966824644549763,0.966824644549763,0.966824644549763,0.966824644549763,0.966824644549763,0.966824644549763,0.966824644549763,0.9620853080568721,0.9620853080568721,0.9620853080568721,0.9620853080568721,0.9620853080568721,0.9620853080568721,0.9620853080568721,0.9620853080568721,0.9620853080568721,0.9620853080568721,0.9620853080568721,0.9620853080568721,0.9620853080568721,0.9620853080568721,0.9620853080568721,0.9620853080568721,0.9620853080568721,0.9620853080568721,0.9620853080568721,0.9620853080568721,0.9620853080568721,0.9620853080568721,0.9620853080568721,0.9620853080568721,0.9620853080568721,0.9620853080568721,0.9620853080568721,0.9620853080568721,0.9620853080568721,0.9620853080568721,0.9620853080568721,0.9620853080568721,0.9620853080568721,0.9620853080568721,0.9620853080568721,0.9620853080568721,0.9620853080568721,0.9620853080568721,0.957345971563981,0.957345971563981,0.957345971563981,0.95260663507109,0.95260663507109,0.95260663507109,0.95260663507109,0.95260663507109,0.9478672985781991,0.9478672985781991,0.9478672985781991,0.9383886255924171,0.933649289099526,0.9289099526066351,0.9289099526066351,0.9241706161137441,0.9241706161137441,0.9241706161137441,0.919431279620853,0.919431279620853,0.9146919431279621,0.9004739336492891,0.9004739336492891,0.9004739336492891,0.9004739336492891,0.9004739336492891,0.8957345971563981,0.8957345971563981,0.8957345971563981,0.8957345971563981,0.8909952606635071,0.8909952606635071,0.8862559241706162,0.8862559241706162,0.8815165876777251,0.8815165876777251,0.8815165876777251,0.8767772511848341,0.8767772511848341,0.8767772511848341,0.8720379146919431,0.8672985781990521,0.8672985781990521,0.8672985781990521,0.8672985781990521,0.8672985781990521,0.8672985781990521,0.8672985781990521,0.8672985781990521,0.8672985781990521,0.8672985781990521,0.8672985781990521,0.8672985781990521,0.8672985781990521,0.8672985781990521,0.8672985781990521,0.8672985781990521,0.8672985781990521,0.8672985781990521,0.8672985781990521,0.8625592417061612,0.8625592417061612,0.8625592417061612,0.8625592417061612,0.8625592417061612,0.8625592417061612,0.8625592417061612,0.8625592417061612,0.8625592417061612,0.8578199052132701,0.8578199052132701,0.8578199052132701,0.8578199052132701,0.8578199052132701,0.8578199052132701,0.8530805687203792,0.8530805687203792,0.8530805687203792,0.8483412322274881,0.8483412322274881,0.8483412322274881,0.8483412322274881,0.8483412322274881,0.8483412322274881,0.8483412322274881,0.8483412322274881,0.8483412322274881,0.8483412322274881,0.8483412322274881,0.8483412322274881,0.8483412322274881,0.8483412322274881,0.8483412322274881,0.8483412322274881,0.8483412322274881,0.8483412322274881,0.8483412322274881,0.8483412322274881,0.8436018957345972,0.8436018957345972,0.8436018957345972,0.8436018957345972,0.8436018957345972,0.8436018957345972,0.8436018957345972,0.8436018957345972,0.8436018957345972,0.8388625592417062,0.8388625592417062,0.8388625592417062,0.8388625592417062,0.8388625592417062,0.8388625592417062,0.8388625592417062,0.8388625592417062,0.8388625592417062,0.8388625592417062,0.8388625592417062,0.8388625592417062,0.8388625592417062,0.8388625592417062,0.8388625592417062,0.8341232227488151,0.8341232227488151,0.8341232227488151,0.8341232227488151,0.8341232227488151,0.8341232227488151,0.8341232227488151,0.8341232227488151,0.8341232227488151,0.8341232227488151,0.8341232227488151,0.8341232227488151,0.8341232227488151,0.8341232227488151,0.8341232227488151,0.8341232227488151,0.8341232227488151,0.8341232227488151,0.8341232227488151,0.8341232227488151,0.8341232227488151,0.8341232227488151,0.8341232227488151,0.8341232227488151,0.8341232227488151,0.8341232227488151,0.8341232227488151,0.8341232227488151,0.8341232227488151,0.8341232227488151,0.8341232227488151,0.8341232227488151,0.8341232227488151,0.8341232227488151,0.8246445497630331,0.8246445497630331,0.8246445497630331,0.8151658767772512,0.8151658767772512,0.8151658767772512,0.8151658767772512,0.8104265402843602,0.8104265402843602,0.8056872037914692,0.8009478672985783,0.7914691943127962,0.7867298578199052,0.7819905213270142,0.7772511848341233,0.7630331753554502,0.7535545023696683,0.7488151658767772,0.7488151658767772,0.7488151658767772,0.7393364928909952,0.7393364928909952,0.7393364928909952,0.7109004739336493,0.7109004739336493,0.7109004739336493,0.7109004739336493,0.7014218009478673,0.6966824644549763,0.6966824644549763,0.6919431279620853,0.6919431279620853,0.6729857819905213,0.6682464454976303,0.6635071090047393,0.6635071090047393,0.6635071090047393,0.6635071090047393,0.6635071090047393,0.6635071090047393,0.6635071090047393,0.6635071090047393,0.6635071090047393,0.6587677725118484,0.6587677725118484,0.6540284360189573,0.6350710900473934,0.6303317535545023,0.6255924170616114,0.6255924170616114,0.6208530805687204,0.6208530805687204,0.6208530805687204,0.6113744075829384,0.6113744075829384,0.6066350710900474,0.6066350710900474,0.6066350710900474,0.6066350710900474,0.6018957345971564,0.5971563981042654,0.5971563981042654,0.5971563981042654,0.5924170616113744,0.5876777251184834,0.5876777251184834,0.5829383886255924,0.5829383886255924,0.5829383886255924,0.5829383886255924,0.5829383886255924,0.5829383886255924,0.5829383886255924,0.5829383886255924,0.5829383886255924,0.5829383886255924,0.5829383886255924,0.5829383886255924,0.5829383886255924,0.5829383886255924,0.5829383886255924,0.5781990521327014,0.5734597156398105,0.5687203791469194,0.5687203791469194,0.5687203791469194,0.5687203791469194,0.5687203791469194,0.5687203791469194,0.5639810426540285,0.5639810426540285,0.5639810426540285,0.5639810426540285,0.5639810426540285,0.5639810426540285,0.5592417061611374,0.5592417061611374,0.5592417061611374,0.5592417061611374,0.5545023696682464,0.5545023696682464,0.5545023696682464,0.5545023696682464,0.5545023696682464,0.5545023696682464,0.5545023696682464,0.5545023696682464,0.5545023696682464,0.5497630331753555,0.5497630331753555,0.5497630331753555,0.5497630331753555,0.5497630331753555,0.5497630331753555,0.5497630331753555,0.5497630331753555,0.5497630331753555,0.5497630331753555,0.5497630331753555,0.5450236966824644,0.5450236966824644,0.5450236966824644,0.5450236966824644,0.5450236966824644,0.5450236966824644,0.5450236966824644,0.5450236966824644,0.5402843601895735,0.5402843601895735,0.5402843601895735,0.5402843601895735,0.5402843601895735,0.5402843601895735,0.5355450236966824,0.5355450236966824,0.5355450236966824,0.5355450236966824,0.5355450236966824,0.5355450236966824,0.5308056872037915,0.5260663507109005,0.5260663507109005,0.5260663507109005,0.5260663507109005,0.5260663507109005,0.5260663507109005,0.5260663507109005,0.5213270142180095,0.5213270142180095,0.5213270142180095,0.5213270142180095,0.5213270142180095,0.5213270142180095,0.5213270142180095,0.5213270142180095,0.5213270142180095,0.5213270142180095,0.5165876777251185,0.5118483412322274,0.5118483412322274,0.5023696682464455,0.5023696682464455,0.5023696682464455,0.4928909952606635,0.4928909952606635,0.4928909952606635,0.4881516587677725,0.4881516587677725,0.4881516587677725,0.4881516587677725,0.4881516587677725,0.4881516587677725,0.4881516587677725,0.4881516587677725,0.4881516587677725,0.4881516587677725,0.4786729857819905,0.47393364928909953,0.47393364928909953,0.47393364928909953,0.46919431279620855,0.46919431279620855,0.46919431279620855,0.46919431279620855,0.46445497630331756,0.46445497630331756,0.4597156398104265,0.4597156398104265,0.45023696682464454,0.44549763033175355,0.44075829383886256,0.43601895734597157,0.43601895734597157,0.43601895734597157,0.43601895734597157,0.43601895734597157,0.43601895734597157,0.43601895734597157,0.4312796208530806,0.4312796208530806,0.4312796208530806,0.4312796208530806,0.4312796208530806,0.4312796208530806,0.4312796208530806,0.4312796208530806,0.4312796208530806,0.4312796208530806,0.4312796208530806,0.4312796208530806,0.4312796208530806,0.4312796208530806,0.4265402843601896,0.4265402843601896,0.4265402843601896,0.4265402843601896,0.4265402843601896,0.4265402843601896,0.4265402843601896,0.41706161137440756,0.41706161137440756,0.41706161137440756,0.41706161137440756,0.41706161137440756,0.41706161137440756,0.41232227488151657,0.41232227488151657,0.41232227488151657,0.4075829383886256,0.4075829383886256,0.4075829383886256,0.4075829383886256,0.4028436018957346,0.4028436018957346,0.4028436018957346,0.4028436018957346,0.4028436018957346,0.4028436018957346,0.4028436018957346,0.4028436018957346,0.4028436018957346,0.4028436018957346,0.4028436018957346,0.4028436018957346,0.4028436018957346,0.3981042654028436,0.3981042654028436,0.3981042654028436,0.3981042654028436,0.3886255924170616,0.38388625592417064,0.38388625592417064,0.38388625592417064,0.3791469194312796,0.3744075829383886,0.3744075829383886,0.3744075829383886,0.3744075829383886,0.3696682464454976,0.3696682464454976,0.3696682464454976,0.36018957345971564,0.36018957345971564,0.35545023696682465,0.35545023696682465,0.3459715639810427,0.3412322274881517,0.33649289099526064,0.33649289099526064,0.33175355450236965,0.33175355450236965,0.33175355450236965,0.33175355450236965,0.33175355450236965,0.33175355450236965,0.3175355450236967,0.3127962085308057,0.3033175355450237,0.3033175355450237,0.2938388625592417,0.2890995260663507,0.2843601895734597,0.2843601895734597,0.2796208530805687,0.2796208530805687,0.2796208530805687,0.27488151658767773,0.27488151658767773,0.27488151658767773,0.27014218009478674,0.27014218009478674,0.27014218009478674,0.26540284360189575,0.26540284360189575,0.26066350710900477,0.26066350710900477,0.2559241706161137,0.2559241706161137,0.2559241706161137,0.2559241706161137,0.2559241706161137,0.2559241706161137,0.2559241706161137,0.24170616113744076,0.24170616113744076,0.24170616113744076,0.24170616113744076,0.24170616113744076,0.24170616113744076,0.24170616113744076,0.24170616113744076,0.23696682464454977,0.23696682464454977,0.23696682464454977,0.23696682464454977,0.23696682464454977,0.23696682464454977,0.23696682464454977,0.23696682464454977,0.23696682464454977,0.23696682464454977,0.23696682464454977,0.23696682464454977,0.23696682464454977,0.23222748815165878,0.22748815165876776,0.22748815165876776,0.22748815165876776,0.22274881516587677,0.22274881516587677,0.22274881516587677,0.22274881516587677,0.22274881516587677,0.21800947867298578,0.21800947867298578,0.21800947867298578,0.21800947867298578,0.21800947867298578,0.21800947867298578,0.2132701421800948,0.2132701421800948,0.2132701421800948,0.2132701421800948,0.2132701421800948,0.1943127962085308,0.1943127962085308,0.1943127962085308,0.1895734597156398,0.1895734597156398,0.1895734597156398,0.1848341232227488,0.1848341232227488,0.1848341232227488,0.1848341232227488,0.17535545023696683,0.17535545023696683,0.17061611374407584,0.16587677725118483,0.16113744075829384,0.16113744075829384,0.16113744075829384,0.16113744075829384,0.16113744075829384,0.15639810426540285,0.14691943127962084,0.14691943127962084,0.14218009478672985,0.14218009478672985,0.14218009478672985,0.13270142180094788,0.12796208530805686,0.11848341232227488,0.10900473933649289,0.0995260663507109,0.0995260663507109,0.0947867298578199,0.0947867298578199,0.09004739336492891,0.09004739336492891,0.08530805687203792,0.08056872037914692,0.08056872037914692,0.07582938388625593,0.07109004739336493,0.06635071090047394,0.061611374407582936,0.052132701421800945,0.04739336492890995,0.04265402843601896,0.037914691943127965,0.03317535545023697,0.03317535545023697,0.03317535545023697,0.02843601895734597,0.023696682464454975,0.023696682464454975,0.023696682464454975,0.018957345971563982,0.014218009478672985,0.004739336492890996,0.004739336492890996,0.004739336492890996,0.004739336492890996,0.004739336492890996,0.004739336492890996,0.0,0.0,0.0,0.0,0.0,0.0],\"xaxis\":\"x2\",\"y\":[0.0735191637630662,0.07354478912513071,0.07357043235704323,0.0737246680642907,0.07375043691017127,0.07382785164450664,0.07387955182072829,0.07393132445690259,0.07395723799509288,0.07406107406107407,0.07378777231201687,0.07389162561576355,0.07396970764353646,0.07402185407120197,0.07407407407407407,0.07410021171489062,0.0741263678079774,0.07417873542917697,0.07425742574257425,0.07430997876857749,0.07446808510638298,0.07457386363636363,0.07460035523978685,0.07465339495200853,0.07467994310099574,0.07473309608540925,0.07475970096119615,0.07481296758104738,0.07489300998573467,0.07491972886193364,0.0749732238486255,0.075,0.07502679528403002,0.07505360972122944,0.07508044333214157,0.07510729613733906,0.07513416815742398,0.07521489971346705,0.07526881720430108,0.07532281205164992,0.07534983853606028,0.07540394973070018,0.07553956834532374,0.07556675062972293,0.0755939524838013,0.07564841498559077,0.07575757575757576,0.07603186097031137,0.07586206896551724,0.076,0.07611070648215586,0.07624954396205764,0.07647274057811929,0.07661290322580645,0.07672540381791483,0.07680999632488056,0.07695139911634757,0.07717872968980798,0.076980014803849,0.07703703703703704,0.0771227289581016,0.07720861172976985,0.07726597325408618,0.07735217552993678,0.07749627421758569,0.07755406413124534,0.07761194029850746,0.07764091078760732,0.07766990291262135,0.07769891669779604,0.07772795216741404,0.0777570093457944,0.07778608825729244,0.07781518892630004,0.07784431137724551,0.07793180966654177,0.07799025121859768,0.0777027027027027,0.07738542449286251,0.0774436090225564,0.07750188111361926,0.07753105005645465,0.07756024096385543,0.07761868877166542,0.07767722473604827,0.07770652583930593,0.07776519441298603,0.07779456193353475,0.07747543461829176,0.07750472589792061,0.0771850170261067,0.07721423164269493,0.07736063708759955,0.07738998482549317,0.0774487471526196,0.07753705815279362,0.07756653992395438,0.0776255707762557,0.07768469154607768,0.07771428571428571,0.07774390243902439,0.07780320366132723,0.07745135444486836,0.07748091603053435,0.07754010695187166,0.0775993883792049,0.0776884806735553,0.07771822358346095,0.07777777777777778,0.07783742331288343,0.07795698924731183,0.07798693814829043,0.07801691006917756,0.07804690503652441,0.07807692307692307,0.0781370284834488,0.07816711590296496,0.07822736030828516,0.07825751734772551,0.07828769764751253,0.0783179012345679,0.07837837837837838,0.07840865198918501,0.07843894899536322,0.0784692694240433,0.07849961330239752,0.07852998065764023,0.07856037151702787,0.07862122385747483,0.07865168539325842,0.07874321179208689,0.07877376794722546,0.07917316692667707,0.079296875,0.07948316366483947,0.07967032967032966,0.08001576665352779,0.08033240997229917,0.08065156932856575,0.0812,0.08132045088566828,0.08188082691528172,0.08248264597795019,0.08275010292301359,0.08322981366459627,0.08417085427135679,0.08488175675675676,0.08491761723700887,0.08528784648187633,0.08532423208191127,0.08639308855291576,0.08661417322834646,0.08705258506407423,0.08664898320070734,0.08765652951699464,0.08779828905898245,0.0883552333484368,0.08916323731138547,0.08944213923467036,0.0903586399627387,0.09069548872180451,0.0903471231573942,0.09077878643096035,0.09165460684997588,0.09268292682926829,0.09272816007808687,0.09301181102362205,0.09384309831181728,0.09435846230654019,0.0944055944055944,0.09456740442655935,0.09461499748364369,0.09468354430379747,0.09473150962512665,0.09489795918367347,0.09494640122511486,0.09553158705701079,0.095311695002576,0.09536082474226804,0.09541000515729757,0.09528741584671155,0.09511434511434512,0.09571129707112971,0.09576138147566719,0.09596224436287362,0.09606299212598425,0.0966209081309398,0.0968766543144521,0.09718534253850239,0.09739222990952634,0.09765208110992529,0.09796573875802998,0.09828141783029001,0.09838709677419355,0.09865229110512129,0.09907958852192746,0.0991869918699187,0.09961894393032118,0.09994538503549973,0.10005467468562056,0.09972602739726028,0.09989023051591657,0.10022026431718062,0.10027548209366391,0.10060807075732449,0.100942872989462,0.10111111111111111,0.10122358175750834,0.10139275766016713,0.10106085985482971,0.10140056022408964,0.10179977502812149,0.10197183098591549,0.1020868584320361,0.10214446952595936,0.10175240248728094,0.10180995475113122,0.10198300283286119,0.10164679159568427,0.10176236498010233,0.10193621867881549,0.10205245153933866,0.10222729868646488,0.10263761467889908,0.10275545350172216,0.10281447443997703,0.10311059907834101,0.10340843443096476,0.10358796296296297,0.10376811594202899,0.10394889663182347,0.10419091967403958,0.10425160163075131,0.1044340723453909,0.1044950379451255,0.10461718293395675,0.10467836257309941,0.10498533724340176,0.10446009389671361,0.1045828437132785,0.10464432686654909,0.10495283018867925,0.10501474926253687,0.10513880685174247,0.10526315789473684,0.10532544378698225,0.1055127445168939,0.10498220640569395,0.10504451038575667,0.10510688836104513,0.10523186682520809,0.10529446757882213,0.10541989279332936,0.10554561717352415,0.10567164179104478,0.1057347670250896,0.10579796772265392,0.10586124401913875,0.1059880239520958,0.1060515278609946,0.10611510791366907,0.10617876424715057,0.1057057057057057,0.10576923076923077,0.105832832230908,0.10589651022864019,0.10596026490066225,0.10602409638554217,0.10615199034981906,0.10621605310802655,0.10628019323671498,0.10634441087613293,0.10640870616686819,0.10647307924984876,0.10653753026634383,0.10666666666666667,0.10679611650485436,0.10686095931997572,0.10692588092345079,0.10699088145896657,0.10712111990261716,0.1071863580998782,0.10725167580743449,0.10810810810810811,0.10817455439459127,0.10824108241082411,0.10837438423645321,0.10844115834873691,0.10857495373226403,0.10864197530864197,0.10870907967881409,0.10877626699629171,0.10884353741496598,0.10897832817337462,0.1090458488228005,0.10911345319280844,0.10943396226415095,0.10977917981072555,0.10984848484848485,0.10941475826972011,0.10962396430847673,0.1096938775510204,0.11018577834721333,0.1103938024531956,0.11046511627906977,0.11074918566775244,0.11118421052631579,0.11125916055962691,0.11193526635198921,0.11309115832762166,0.11388888888888889,0.11346018322762509,0.11349036402569593,0.11507647487254188,0.1151603498542274,0.11729769858945806,0.11899313501144165,0.12093023255813953,0.12102404965089217,0.11942675159235669,0.11952191235059761,0.12175324675324675,0.12325390304026294,0.12426532325776658,0.12618025751072962,0.12804878048780488,0.13012477718360071,0.13236627379873073,0.13027522935779817,0.13128491620111732,0.13333333333333333,0.1343570057581574,0.1360544217687075,0.1377952755905512,0.14,0.1402805611222445,0.1437371663244353,0.1446280991735537,0.14477766287487073,0.1452455590386625,0.14539748953974896,0.14665249734325186,0.14455231930960086,0.1437837837837838,0.14489571899012074,0.14505494505494507,0.1453940066592675,0.14555555555555555,0.14669652855543114,0.14543404735062007,0.1455981941309255,0.14562002275312855,0.1466208476517755,0.14849187935034802,0.148664343786295,0.14853801169590644,0.14754098360655737,0.1477139507620164,0.14858490566037735,0.14863258026159334,0.14850299401197606,0.1486810551558753,0.14819277108433734,0.14837153196622438,0.14909090909090908,0.14927184466019416,0.15036674816625917,0.15147783251231528,0.15185185185185185,0.15222772277227722,0.1524163568773234,0.15298507462686567,0.15355805243445692,0.15375,0.15491183879093198,0.15510718789407313,0.1553030303030303,0.1548223350253807,0.15414012738853503,0.1532567049808429,0.15384615384615385,0.15503875968992248,0.15523932729624837,0.15604681404421328,0.15645371577574968,0.15616797900262466,0.15637319316688567,0.15678524374176547,0.15699208443271767,0.1571994715984148,0.1574074074074074,0.15691489361702127,0.15733333333333333,0.157543391188251,0.15775401069518716,0.15704697986577182,0.15725806451612903,0.15768194070080863,0.15789473684210525,0.15853658536585366,0.1587516960651289,0.15896739130434784,0.15918367346938775,0.15940054495912806,0.15846994535519127,0.15868673050615595,0.1589041095890411,0.15912208504801098,0.15934065934065933,0.15955983493810177,0.15977961432506887,0.16,0.16022099447513813,0.16044260027662519,0.16066481994459833,0.15950069348127602,0.1599443671766342,0.16016713091922005,0.1603905160390516,0.16061452513966482,0.16106442577030813,0.16129032258064516,0.16151685393258428,0.16033755274261605,0.16056338028169015,0.1607898448519041,0.16101694915254236,0.16124469589816123,0.16147308781869688,0.16028368794326242,0.16073968705547653,0.16096866096866097,0.16119828815977175,0.16142857142857142,0.16165951359084407,0.16326530612244897,0.16251830161054173,0.1627565982404692,0.16299559471365638,0.16323529411764706,0.1634756995581738,0.16420118343195267,0.16468842729970326,0.1636904761904762,0.16417910447761194,0.16442451420029897,0.16566265060240964,0.16717325227963525,0.1676829268292683,0.16819571865443425,0.16923076923076924,0.17080745341614906,0.17133956386292834,0.17084639498432602,0.17115689381933438,0.1722488038277512,0.17014446227929375,0.17096774193548386,0.17124394184168013,0.16993464052287582,0.17077175697865354,0.1716171617161716,0.17109634551495018,0.173109243697479,0.1734006734006734,0.17487266553480477,0.17667238421955403,0.17789291882556132,0.1791304347826087,0.18101933216168717,0.18165784832451498,0.18327402135231316,0.18165467625899281,0.18181818181818182,0.18214936247723132,0.18248175182481752,0.18198529411764705,0.18232044198895028,0.1836734693877551,0.18401486988847585,0.1828358208955224,0.18386491557223264,0.1833648393194707,0.18371212121212122,0.18234165067178504,0.18076923076923077,0.17953667953667954,0.1786407766990291,0.17898832684824903,0.1793372319688109,0.1796875,0.18003913894324852,0.1807465618860511,0.18110236220472442,0.18055555555555555,0.18236472945891782,0.1827309236947791,0.18346774193548387,0.18383838383838383,0.18421052631578946,0.1845841784989858,0.18495934959349594,0.18533604887983707,0.18571428571428572,0.18609406952965235,0.1864754098360656,0.1868583162217659,0.18724279835390947,0.1859504132231405,0.18633540372670807,0.18672199170124482,0.18711018711018712,0.1875,0.18789144050104384,0.18828451882845187,0.18526315789473685,0.18604651162790697,0.1864406779661017,0.18683651804670912,0.18763326226012794,0.18803418803418803,0.18629550321199143,0.18669527896995708,0.1870967741935484,0.1857451403887689,0.18614718614718614,0.18655097613882862,0.18695652173913044,0.18518518518518517,0.185589519650655,0.18640350877192982,0.18722466960352424,0.18763796909492272,0.18805309734513273,0.188470066518847,0.18930957683741648,0.19015659955257272,0.1905829596412556,0.19101123595505617,0.19144144144144143,0.19187358916478556,0.19004524886877827,0.19047619047619047,0.19090909090909092,0.19134396355353075,0.18807339449541285,0.18620689655172415,0.18663594470046083,0.18925233644859812,0.18823529411764706,0.18632075471698112,0.18854415274463007,0.18899521531100477,0.19128329297820823,0.18932038834951456,0.1902439024390244,0.19070904645476772,0.18765432098765433,0.18858560794044665,0.1884422110552764,0.19083969465648856,0.18766066838046272,0.18798955613577023,0.18733509234828497,0.1883289124668435,0.18716577540106952,0.1897018970189702,0.1912568306010929,0.19230769230769232,0.19553072625698323,0.19830028328611898,0.19420289855072465,0.19298245614035087,0.1893491124260355,0.19047619047619047,0.18618618618618618,0.18711656441717792,0.1875,0.18867924528301888,0.1861198738170347,0.18670886075949367,0.18849840255591055,0.1864951768488746,0.1870967741935484,0.18770226537216828,0.18688524590163935,0.18874172185430463,0.19063545150501673,0.18855218855218855,0.18983050847457628,0.18900343642611683,0.1896551724137931,0.18815331010452963,0.1888111888111888,0.18947368421052632,0.19081272084805653,0.19148936170212766,0.19217081850533807,0.19285714285714287,0.18681318681318682,0.1875,0.18888888888888888,0.1895910780669145,0.19029850746268656,0.19172932330827067,0.1946564885496183,0.19540229885057472,0.19305019305019305,0.19455252918287938,0.1953125,0.1968503937007874,0.1976284584980237,0.199203187250996,0.2,0.20080321285140562,0.20161290322580644,0.20242914979757085,0.20408163265306123,0.20491803278688525,0.205761316872428,0.2024793388429752,0.2,0.200836820083682,0.20168067226890757,0.19831223628691982,0.19915254237288135,0.2,0.20085470085470086,0.2017167381974249,0.19827586206896552,0.19913419913419914,0.20175438596491227,0.2026431718061674,0.20353982300884957,0.20444444444444446,0.20089285714285715,0.20179372197309417,0.20270270270270271,0.20361990950226244,0.20454545454545456,0.19523809523809524,0.19617224880382775,0.1971153846153846,0.19607843137254902,0.19704433497536947,0.19801980198019803,0.195,0.19597989949748743,0.19796954314720813,0.20103092783505155,0.19786096256684493,0.1989247311827957,0.1978021978021978,0.1977401129943503,0.19540229885057472,0.19653179190751446,0.2,0.2125,0.21794871794871795,0.22,0.21678321678321677,0.2246376811594203,0.22727272727272727,0.22900763358778625,0.23809523809523808,0.23529411764705882,0.23684210526315788,0.22321428571428573,0.21495327102803738,0.21212121212121213,0.22580645161290322,0.23255813953488372,0.24390243902439024,0.25,0.25333333333333335,0.2465753424657534,0.2463768115942029,0.25,0.23880597014925373,0.24193548387096775,0.25,0.2549019607843137,0.2391304347826087,0.23809523809523808,0.24324324324324326,0.23529411764705882,0.21212121212121213,0.21875,0.22580645161290322,0.20689655172413793,0.2,0.20833333333333334,0.21739130434782608,0.19047619047619047,0.16666666666666666,0.0625,0.06666666666666667,0.08333333333333333,0.09090909090909091,0.1,0.1111111111111111,0.0,0.0,0.0,0.0,0.0,1.0],\"yaxis\":\"y2\",\"type\":\"scattergl\"},{\"hovertemplate\":\"method=Backward Selection\\u003cbr\\u003eRecall=%{x}\\u003cbr\\u003ePrecision=%{y}\\u003cextra\\u003e\\u003c\\u002fextra\\u003e\",\"legendgroup\":\"Backward Selection\",\"line\":{\"color\":\"#00cc96\",\"dash\":\"solid\"},\"marker\":{\"symbol\":\"circle\"},\"mode\":\"lines\",\"name\":\"Backward Selection\",\"showlegend\":true,\"x\":[1.0,0.995260663507109,0.995260663507109,0.995260663507109,0.995260663507109,0.995260663507109,0.995260663507109,0.995260663507109,0.995260663507109,0.995260663507109,0.995260663507109,0.995260663507109,0.995260663507109,0.995260663507109,0.995260663507109,0.995260663507109,0.995260663507109,0.990521327014218,0.990521327014218,0.990521327014218,0.985781990521327,0.985781990521327,0.985781990521327,0.985781990521327,0.976303317535545,0.976303317535545,0.976303317535545,0.9715639810426541,0.9715639810426541,0.966824644549763,0.966824644549763,0.966824644549763,0.966824644549763,0.966824644549763,0.966824644549763,0.9620853080568721,0.9620853080568721,0.9620853080568721,0.9620853080568721,0.9620853080568721,0.9620853080568721,0.9620853080568721,0.957345971563981,0.95260663507109,0.95260663507109,0.9478672985781991,0.9478672985781991,0.943127962085308,0.943127962085308,0.919431279620853,0.919431279620853,0.919431279620853,0.9004739336492891,0.9004739336492891,0.8957345971563981,0.8767772511848341,0.8767772511848341,0.8767772511848341,0.8672985781990521,0.8625592417061612,0.8530805687203792,0.8530805687203792,0.8530805687203792,0.8530805687203792,0.8530805687203792,0.8436018957345972,0.8436018957345972,0.8436018957345972,0.8436018957345972,0.8436018957345972,0.8436018957345972,0.8388625592417062,0.8341232227488151,0.8341232227488151,0.8341232227488151,0.8341232227488151,0.8341232227488151,0.8341232227488151,0.8341232227488151,0.8341232227488151,0.8293838862559242,0.8246445497630331,0.8151658767772512,0.8151658767772512,0.8009478672985783,0.7677725118483413,0.7677725118483413,0.7345971563981043,0.7345971563981043,0.7345971563981043,0.6919431279620853,0.6824644549763034,0.6635071090047393,0.6587677725118484,0.6587677725118484,0.6066350710900474,0.6066350710900474,0.6066350710900474,0.5829383886255924,0.5829383886255924,0.5687203791469194,0.5639810426540285,0.5592417061611374,0.5497630331753555,0.5450236966824644,0.5450236966824644,0.5402843601895735,0.5402843601895735,0.5402843601895735,0.5308056872037915,0.5308056872037915,0.5308056872037915,0.5308056872037915,0.5308056872037915,0.5308056872037915,0.5308056872037915,0.5308056872037915,0.5260663507109005,0.5260663507109005,0.5213270142180095,0.5165876777251185,0.5165876777251185,0.5118483412322274,0.5118483412322274,0.4976303317535545,0.4976303317535545,0.4786729857819905,0.4786729857819905,0.4597156398104265,0.4597156398104265,0.4549763033175355,0.44549763033175355,0.44075829383886256,0.43601895734597157,0.43601895734597157,0.43601895734597157,0.4265402843601896,0.4265402843601896,0.4265402843601896,0.4218009478672986,0.41706161137440756,0.4075829383886256,0.3981042654028436,0.3981042654028436,0.3981042654028436,0.3981042654028436,0.3886255924170616,0.3886255924170616,0.3886255924170616,0.38388625592417064,0.38388625592417064,0.3791469194312796,0.3696682464454976,0.36018957345971564,0.35071090047393366,0.35071090047393366,0.3175355450236967,0.3175355450236967,0.2890995260663507,0.2890995260663507,0.27488151658767773,0.27488151658767773,0.25118483412322273,0.25118483412322273,0.22748815165876776,0.22748815165876776,0.22274881516587677,0.22274881516587677,0.21800947867298578,0.2132701421800948,0.20853080568720378,0.2037914691943128,0.1990521327014218,0.1990521327014218,0.1943127962085308,0.1943127962085308,0.1943127962085308,0.1943127962085308,0.1943127962085308,0.1943127962085308,0.1943127962085308,0.1943127962085308,0.1895734597156398,0.17535545023696683,0.16113744075829384,0.13744075829383887,0.11848341232227488,0.061611374407582936,0.04265402843601896,0.03317535545023697,0.023696682464454975,0.009478672985781991,0.0,0.0,0.0,0.0,0.0],\"xaxis\":\"x3\",\"y\":[0.0735191637630662,0.07340090877315623,0.0734779566130161,0.07355516637478109,0.07371007371007371,0.07407407407407407,0.0744153082919915,0.07465339495200853,0.07489300998573467,0.0749732238486255,0.07502679528403002,0.07513416815742398,0.07518796992481203,0.07521489971346705,0.07534983853606028,0.07553956834532374,0.07592190889370933,0.07588961510530139,0.07647274057811929,0.07658482960791499,0.07717996289424861,0.07729468599033816,0.07787345563459379,0.07801950487621906,0.07782395164336985,0.07803030303030303,0.07829722538958571,0.07809523809523809,0.0782144219763449,0.07804131599081866,0.07834101382488479,0.07846153846153846,0.07861271676300578,0.0787037037037037,0.07876447876447877,0.0784692694240433,0.07852998065764023,0.07865168539325842,0.07868217054263565,0.07874321179208689,0.07877376794722546,0.07898832684824902,0.07959022852639874,0.0810483870967742,0.08117932148626818,0.08424599831508003,0.08431703204047218,0.08852313167259787,0.0889584264640143,0.09163911195087387,0.091725768321513,0.09255725190839695,0.0955253896430367,0.09581442259203228,0.09637939826619071,0.09783183500793231,0.09788359788359788,0.09940891993551854,0.10060472787245739,0.10111111111111111,0.1026811180832858,0.10279840091376356,0.10386612810155799,0.10582010582010581,0.10657193605683836,0.1063321385902031,0.10658682634730539,0.10703547805171378,0.10787878787878788,0.10820668693009118,0.10853658536585366,0.10858895705521472,0.10824108241082411,0.10844115834873691,0.10870907967881409,0.10884353741496598,0.10891089108910891,0.10897832817337462,0.1090458488228005,0.10911345319280844,0.10978670012547051,0.11040609137055837,0.11139896373056994,0.11154345006485085,0.11403508771929824,0.12071535022354694,0.1211667913238594,0.1272577996715928,0.12736236647493837,0.12746710526315788,0.13333333333333333,0.13247470101195952,0.14213197969543148,0.14126016260162602,0.14241803278688525,0.14317673378076062,0.1433370660694289,0.14414414414414414,0.1487303506650544,0.14945321992709598,0.1566579634464752,0.15637319316688567,0.155467720685112,0.1589041095890411,0.15862068965517243,0.1590594744121715,0.15988779803646563,0.1607898448519041,0.16170212765957448,0.1606886657101865,0.16115107913669063,0.16231884057971013,0.16302765647743814,0.16398243045387995,0.16422287390029325,0.1644640234948605,0.16470588235294117,0.1634756995581738,0.16395864106351551,0.16344725111441308,0.16415662650602408,0.1646525679758308,0.16640986132511557,0.16666666666666666,0.16666666666666666,0.1674641148325359,0.1672185430463576,0.16749585406301823,0.17137809187279152,0.17198581560283688,0.17204301075268819,0.17570093457943925,0.17613636363636365,0.18253968253968253,0.18326693227091634,0.184,0.18556701030927836,0.18672199170124482,0.18867924528301888,0.19017094017094016,0.1888412017167382,0.18818380743982493,0.18543046357615894,0.18666666666666668,0.18961625282167044,0.19004524886877827,0.1867881548974943,0.1872146118721461,0.18807339449541285,0.18620689655172415,0.18663594470046083,0.18561484918793503,0.18266978922716628,0.18095238095238095,0.18137254901960784,0.18181818181818182,0.17268041237113402,0.1731266149870801,0.17183098591549295,0.17329545454545456,0.17737003058103976,0.18125,0.18088737201365188,0.18466898954703834,0.183206106870229,0.18461538461538463,0.19421487603305784,0.1950207468879668,0.2,0.19736842105263158,0.19909502262443438,0.1963470319634703,0.1926605504587156,0.1935483870967742,0.19158878504672897,0.19248826291079812,0.19339622641509435,0.1943127962085308,0.19523809523809524,0.19617224880382775,0.1971153846153846,0.19806763285024154,0.1951219512195122,0.19170984455958548,0.2085889570552147,0.2248062015503876,0.24271844660194175,0.19402985074626866,0.18,0.2692307692307692,0.3333333333333333,0.2222222222222222,0.0,0.0,0.0,0.0,1.0],\"yaxis\":\"y3\",\"type\":\"scattergl\"}],                        {\"template\":{\"data\":{\"histogram2dcontour\":[{\"type\":\"histogram2dcontour\",\"colorbar\":{\"outlinewidth\":0,\"ticks\":\"\"},\"colorscale\":[[0.0,\"#0d0887\"],[0.1111111111111111,\"#46039f\"],[0.2222222222222222,\"#7201a8\"],[0.3333333333333333,\"#9c179e\"],[0.4444444444444444,\"#bd3786\"],[0.5555555555555556,\"#d8576b\"],[0.6666666666666666,\"#ed7953\"],[0.7777777777777778,\"#fb9f3a\"],[0.8888888888888888,\"#fdca26\"],[1.0,\"#f0f921\"]]}],\"choropleth\":[{\"type\":\"choropleth\",\"colorbar\":{\"outlinewidth\":0,\"ticks\":\"\"}}],\"histogram2d\":[{\"type\":\"histogram2d\",\"colorbar\":{\"outlinewidth\":0,\"ticks\":\"\"},\"colorscale\":[[0.0,\"#0d0887\"],[0.1111111111111111,\"#46039f\"],[0.2222222222222222,\"#7201a8\"],[0.3333333333333333,\"#9c179e\"],[0.4444444444444444,\"#bd3786\"],[0.5555555555555556,\"#d8576b\"],[0.6666666666666666,\"#ed7953\"],[0.7777777777777778,\"#fb9f3a\"],[0.8888888888888888,\"#fdca26\"],[1.0,\"#f0f921\"]]}],\"heatmap\":[{\"type\":\"heatmap\",\"colorbar\":{\"outlinewidth\":0,\"ticks\":\"\"},\"colorscale\":[[0.0,\"#0d0887\"],[0.1111111111111111,\"#46039f\"],[0.2222222222222222,\"#7201a8\"],[0.3333333333333333,\"#9c179e\"],[0.4444444444444444,\"#bd3786\"],[0.5555555555555556,\"#d8576b\"],[0.6666666666666666,\"#ed7953\"],[0.7777777777777778,\"#fb9f3a\"],[0.8888888888888888,\"#fdca26\"],[1.0,\"#f0f921\"]]}],\"heatmapgl\":[{\"type\":\"heatmapgl\",\"colorbar\":{\"outlinewidth\":0,\"ticks\":\"\"},\"colorscale\":[[0.0,\"#0d0887\"],[0.1111111111111111,\"#46039f\"],[0.2222222222222222,\"#7201a8\"],[0.3333333333333333,\"#9c179e\"],[0.4444444444444444,\"#bd3786\"],[0.5555555555555556,\"#d8576b\"],[0.6666666666666666,\"#ed7953\"],[0.7777777777777778,\"#fb9f3a\"],[0.8888888888888888,\"#fdca26\"],[1.0,\"#f0f921\"]]}],\"contourcarpet\":[{\"type\":\"contourcarpet\",\"colorbar\":{\"outlinewidth\":0,\"ticks\":\"\"}}],\"contour\":[{\"type\":\"contour\",\"colorbar\":{\"outlinewidth\":0,\"ticks\":\"\"},\"colorscale\":[[0.0,\"#0d0887\"],[0.1111111111111111,\"#46039f\"],[0.2222222222222222,\"#7201a8\"],[0.3333333333333333,\"#9c179e\"],[0.4444444444444444,\"#bd3786\"],[0.5555555555555556,\"#d8576b\"],[0.6666666666666666,\"#ed7953\"],[0.7777777777777778,\"#fb9f3a\"],[0.8888888888888888,\"#fdca26\"],[1.0,\"#f0f921\"]]}],\"surface\":[{\"type\":\"surface\",\"colorbar\":{\"outlinewidth\":0,\"ticks\":\"\"},\"colorscale\":[[0.0,\"#0d0887\"],[0.1111111111111111,\"#46039f\"],[0.2222222222222222,\"#7201a8\"],[0.3333333333333333,\"#9c179e\"],[0.4444444444444444,\"#bd3786\"],[0.5555555555555556,\"#d8576b\"],[0.6666666666666666,\"#ed7953\"],[0.7777777777777778,\"#fb9f3a\"],[0.8888888888888888,\"#fdca26\"],[1.0,\"#f0f921\"]]}],\"mesh3d\":[{\"type\":\"mesh3d\",\"colorbar\":{\"outlinewidth\":0,\"ticks\":\"\"}}],\"scatter\":[{\"fillpattern\":{\"fillmode\":\"overlay\",\"size\":10,\"solidity\":0.2},\"type\":\"scatter\"}],\"parcoords\":[{\"type\":\"parcoords\",\"line\":{\"colorbar\":{\"outlinewidth\":0,\"ticks\":\"\"}}}],\"scatterpolargl\":[{\"type\":\"scatterpolargl\",\"marker\":{\"colorbar\":{\"outlinewidth\":0,\"ticks\":\"\"}}}],\"bar\":[{\"error_x\":{\"color\":\"#2a3f5f\"},\"error_y\":{\"color\":\"#2a3f5f\"},\"marker\":{\"line\":{\"color\":\"#E5ECF6\",\"width\":0.5},\"pattern\":{\"fillmode\":\"overlay\",\"size\":10,\"solidity\":0.2}},\"type\":\"bar\"}],\"scattergeo\":[{\"type\":\"scattergeo\",\"marker\":{\"colorbar\":{\"outlinewidth\":0,\"ticks\":\"\"}}}],\"scatterpolar\":[{\"type\":\"scatterpolar\",\"marker\":{\"colorbar\":{\"outlinewidth\":0,\"ticks\":\"\"}}}],\"histogram\":[{\"marker\":{\"pattern\":{\"fillmode\":\"overlay\",\"size\":10,\"solidity\":0.2}},\"type\":\"histogram\"}],\"scattergl\":[{\"type\":\"scattergl\",\"marker\":{\"colorbar\":{\"outlinewidth\":0,\"ticks\":\"\"}}}],\"scatter3d\":[{\"type\":\"scatter3d\",\"line\":{\"colorbar\":{\"outlinewidth\":0,\"ticks\":\"\"}},\"marker\":{\"colorbar\":{\"outlinewidth\":0,\"ticks\":\"\"}}}],\"scattermapbox\":[{\"type\":\"scattermapbox\",\"marker\":{\"colorbar\":{\"outlinewidth\":0,\"ticks\":\"\"}}}],\"scatterternary\":[{\"type\":\"scatterternary\",\"marker\":{\"colorbar\":{\"outlinewidth\":0,\"ticks\":\"\"}}}],\"scattercarpet\":[{\"type\":\"scattercarpet\",\"marker\":{\"colorbar\":{\"outlinewidth\":0,\"ticks\":\"\"}}}],\"carpet\":[{\"aaxis\":{\"endlinecolor\":\"#2a3f5f\",\"gridcolor\":\"white\",\"linecolor\":\"white\",\"minorgridcolor\":\"white\",\"startlinecolor\":\"#2a3f5f\"},\"baxis\":{\"endlinecolor\":\"#2a3f5f\",\"gridcolor\":\"white\",\"linecolor\":\"white\",\"minorgridcolor\":\"white\",\"startlinecolor\":\"#2a3f5f\"},\"type\":\"carpet\"}],\"table\":[{\"cells\":{\"fill\":{\"color\":\"#EBF0F8\"},\"line\":{\"color\":\"white\"}},\"header\":{\"fill\":{\"color\":\"#C8D4E3\"},\"line\":{\"color\":\"white\"}},\"type\":\"table\"}],\"barpolar\":[{\"marker\":{\"line\":{\"color\":\"#E5ECF6\",\"width\":0.5},\"pattern\":{\"fillmode\":\"overlay\",\"size\":10,\"solidity\":0.2}},\"type\":\"barpolar\"}],\"pie\":[{\"automargin\":true,\"type\":\"pie\"}]},\"layout\":{\"autotypenumbers\":\"strict\",\"colorway\":[\"#636efa\",\"#EF553B\",\"#00cc96\",\"#ab63fa\",\"#FFA15A\",\"#19d3f3\",\"#FF6692\",\"#B6E880\",\"#FF97FF\",\"#FECB52\"],\"font\":{\"color\":\"#2a3f5f\"},\"hovermode\":\"closest\",\"hoverlabel\":{\"align\":\"left\"},\"paper_bgcolor\":\"white\",\"plot_bgcolor\":\"#E5ECF6\",\"polar\":{\"bgcolor\":\"#E5ECF6\",\"angularaxis\":{\"gridcolor\":\"white\",\"linecolor\":\"white\",\"ticks\":\"\"},\"radialaxis\":{\"gridcolor\":\"white\",\"linecolor\":\"white\",\"ticks\":\"\"}},\"ternary\":{\"bgcolor\":\"#E5ECF6\",\"aaxis\":{\"gridcolor\":\"white\",\"linecolor\":\"white\",\"ticks\":\"\"},\"baxis\":{\"gridcolor\":\"white\",\"linecolor\":\"white\",\"ticks\":\"\"},\"caxis\":{\"gridcolor\":\"white\",\"linecolor\":\"white\",\"ticks\":\"\"}},\"coloraxis\":{\"colorbar\":{\"outlinewidth\":0,\"ticks\":\"\"}},\"colorscale\":{\"sequential\":[[0.0,\"#0d0887\"],[0.1111111111111111,\"#46039f\"],[0.2222222222222222,\"#7201a8\"],[0.3333333333333333,\"#9c179e\"],[0.4444444444444444,\"#bd3786\"],[0.5555555555555556,\"#d8576b\"],[0.6666666666666666,\"#ed7953\"],[0.7777777777777778,\"#fb9f3a\"],[0.8888888888888888,\"#fdca26\"],[1.0,\"#f0f921\"]],\"sequentialminus\":[[0.0,\"#0d0887\"],[0.1111111111111111,\"#46039f\"],[0.2222222222222222,\"#7201a8\"],[0.3333333333333333,\"#9c179e\"],[0.4444444444444444,\"#bd3786\"],[0.5555555555555556,\"#d8576b\"],[0.6666666666666666,\"#ed7953\"],[0.7777777777777778,\"#fb9f3a\"],[0.8888888888888888,\"#fdca26\"],[1.0,\"#f0f921\"]],\"diverging\":[[0,\"#8e0152\"],[0.1,\"#c51b7d\"],[0.2,\"#de77ae\"],[0.3,\"#f1b6da\"],[0.4,\"#fde0ef\"],[0.5,\"#f7f7f7\"],[0.6,\"#e6f5d0\"],[0.7,\"#b8e186\"],[0.8,\"#7fbc41\"],[0.9,\"#4d9221\"],[1,\"#276419\"]]},\"xaxis\":{\"gridcolor\":\"white\",\"linecolor\":\"white\",\"ticks\":\"\",\"title\":{\"standoff\":15},\"zerolinecolor\":\"white\",\"automargin\":true,\"zerolinewidth\":2},\"yaxis\":{\"gridcolor\":\"white\",\"linecolor\":\"white\",\"ticks\":\"\",\"title\":{\"standoff\":15},\"zerolinecolor\":\"white\",\"automargin\":true,\"zerolinewidth\":2},\"scene\":{\"xaxis\":{\"backgroundcolor\":\"#E5ECF6\",\"gridcolor\":\"white\",\"linecolor\":\"white\",\"showbackground\":true,\"ticks\":\"\",\"zerolinecolor\":\"white\",\"gridwidth\":2},\"yaxis\":{\"backgroundcolor\":\"#E5ECF6\",\"gridcolor\":\"white\",\"linecolor\":\"white\",\"showbackground\":true,\"ticks\":\"\",\"zerolinecolor\":\"white\",\"gridwidth\":2},\"zaxis\":{\"backgroundcolor\":\"#E5ECF6\",\"gridcolor\":\"white\",\"linecolor\":\"white\",\"showbackground\":true,\"ticks\":\"\",\"zerolinecolor\":\"white\",\"gridwidth\":2}},\"shapedefaults\":{\"line\":{\"color\":\"#2a3f5f\"}},\"annotationdefaults\":{\"arrowcolor\":\"#2a3f5f\",\"arrowhead\":0,\"arrowwidth\":1},\"geo\":{\"bgcolor\":\"white\",\"landcolor\":\"#E5ECF6\",\"subunitcolor\":\"white\",\"showland\":true,\"showlakes\":true,\"lakecolor\":\"white\"},\"title\":{\"x\":0.05},\"mapbox\":{\"style\":\"light\"}}},\"xaxis\":{\"anchor\":\"y\",\"domain\":[0.0,0.31999999999999995],\"title\":{\"text\":\"Recall\"}},\"yaxis\":{\"anchor\":\"x\",\"domain\":[0.0,1.0],\"title\":{\"text\":\"Precision\"}},\"xaxis2\":{\"anchor\":\"y2\",\"domain\":[0.33999999999999997,0.6599999999999999],\"matches\":\"x\",\"title\":{\"text\":\"Recall\"}},\"yaxis2\":{\"anchor\":\"x2\",\"domain\":[0.0,1.0],\"matches\":\"y\",\"showticklabels\":false},\"xaxis3\":{\"anchor\":\"y3\",\"domain\":[0.6799999999999999,0.9999999999999999],\"matches\":\"x\",\"title\":{\"text\":\"Recall\"}},\"yaxis3\":{\"anchor\":\"x3\",\"domain\":[0.0,1.0],\"matches\":\"y\",\"showticklabels\":false},\"annotations\":[{\"font\":{},\"showarrow\":false,\"text\":\"method=Full Model\",\"x\":0.15999999999999998,\"xanchor\":\"center\",\"xref\":\"paper\",\"y\":1.0,\"yanchor\":\"bottom\",\"yref\":\"paper\"},{\"font\":{},\"showarrow\":false,\"text\":\"method=Forward Selection\",\"x\":0.49999999999999994,\"xanchor\":\"center\",\"xref\":\"paper\",\"y\":1.0,\"yanchor\":\"bottom\",\"yref\":\"paper\"},{\"font\":{},\"showarrow\":false,\"text\":\"method=Backward Selection\",\"x\":0.8399999999999999,\"xanchor\":\"center\",\"xref\":\"paper\",\"y\":1.0,\"yanchor\":\"bottom\",\"yref\":\"paper\"}],\"legend\":{\"title\":{\"text\":\"method\"},\"tracegroupgap\":0},\"margin\":{\"t\":60}},                        {\"responsive\": true}                    ).then(function(){\n",
              "                            \n",
              "var gd = document.getElementById('4b1176bf-2073-437a-98f8-f00140e71fbe');\n",
              "var x = new MutationObserver(function (mutations, observer) {{\n",
              "        var display = window.getComputedStyle(gd).display;\n",
              "        if (!display || display === 'none') {{\n",
              "            console.log([gd, 'removed!']);\n",
              "            Plotly.purge(gd);\n",
              "            observer.disconnect();\n",
              "        }}\n",
              "}});\n",
              "\n",
              "// Listen for the removal of the full notebook cells\n",
              "var notebookContainer = gd.closest('#notebook-container');\n",
              "if (notebookContainer) {{\n",
              "    x.observe(notebookContainer, {childList: true});\n",
              "}}\n",
              "\n",
              "// Listen for the clearing of the current output cell\n",
              "var outputEl = gd.closest('.output');\n",
              "if (outputEl) {{\n",
              "    x.observe(outputEl, {childList: true});\n",
              "}}\n",
              "\n",
              "                        })                };                            </script>        </div>\n",
              "</body>\n",
              "</html>"
            ]
          },
          "metadata": {}
        }
      ]
    },
    {
      "cell_type": "markdown",
      "metadata": {
        "id": "gLCCD5-TQ7cF"
      },
      "source": [
        "# Tree-Based Model\n",
        "\n",
        "\n",
        "\n",
        "*   Tree-based model on unbalanced dataset and balanced dataset\n",
        "\n",
        "\n",
        "\n"
      ]
    },
    {
      "cell_type": "code",
      "execution_count": 41,
      "metadata": {
        "id": "MKVYbg0rSLR5"
      },
      "outputs": [],
      "source": [
        "# Plotly plotting package\n",
        "import plotly.graph_objects as go\n",
        "import plotly.express as px\n",
        "\n",
        "# Tools in sklearn to select best model\n",
        "from sklearn.model_selection import StratifiedKFold, train_test_split, GridSearchCV\n",
        "\n",
        "# Decision tree classifier in sklearn\n",
        "from sklearn.tree import DecisionTreeClassifier as DTC, plot_tree\n",
        "\n",
        "# We use f1 score to test model performance\n",
        "from sklearn.metrics import f1_score, roc_auc_score"
      ]
    },
    {
      "cell_type": "markdown",
      "metadata": {
        "id": "37_U6yPHZoE2"
      },
      "source": [
        "Decision tree on balanced dataset"
      ]
    },
    {
      "cell_type": "code",
      "execution_count": 42,
      "metadata": {
        "colab": {
          "base_uri": "https://localhost:8080/",
          "height": 74
        },
        "id": "8FwLPUXXRZK5",
        "outputId": "e397d71a-793a-48ff-a5f5-1b6bb07da6e9"
      },
      "outputs": [
        {
          "output_type": "execute_result",
          "data": {
            "text/plain": [
              "DecisionTreeClassifier(criterion='entropy', max_depth=1, random_state=15)"
            ],
            "text/html": [
              "<style>#sk-container-id-1 {color: black;background-color: white;}#sk-container-id-1 pre{padding: 0;}#sk-container-id-1 div.sk-toggleable {background-color: white;}#sk-container-id-1 label.sk-toggleable__label {cursor: pointer;display: block;width: 100%;margin-bottom: 0;padding: 0.3em;box-sizing: border-box;text-align: center;}#sk-container-id-1 label.sk-toggleable__label-arrow:before {content: \"▸\";float: left;margin-right: 0.25em;color: #696969;}#sk-container-id-1 label.sk-toggleable__label-arrow:hover:before {color: black;}#sk-container-id-1 div.sk-estimator:hover label.sk-toggleable__label-arrow:before {color: black;}#sk-container-id-1 div.sk-toggleable__content {max-height: 0;max-width: 0;overflow: hidden;text-align: left;background-color: #f0f8ff;}#sk-container-id-1 div.sk-toggleable__content pre {margin: 0.2em;color: black;border-radius: 0.25em;background-color: #f0f8ff;}#sk-container-id-1 input.sk-toggleable__control:checked~div.sk-toggleable__content {max-height: 200px;max-width: 100%;overflow: auto;}#sk-container-id-1 input.sk-toggleable__control:checked~label.sk-toggleable__label-arrow:before {content: \"▾\";}#sk-container-id-1 div.sk-estimator input.sk-toggleable__control:checked~label.sk-toggleable__label {background-color: #d4ebff;}#sk-container-id-1 div.sk-label input.sk-toggleable__control:checked~label.sk-toggleable__label {background-color: #d4ebff;}#sk-container-id-1 input.sk-hidden--visually {border: 0;clip: rect(1px 1px 1px 1px);clip: rect(1px, 1px, 1px, 1px);height: 1px;margin: -1px;overflow: hidden;padding: 0;position: absolute;width: 1px;}#sk-container-id-1 div.sk-estimator {font-family: monospace;background-color: #f0f8ff;border: 1px dotted black;border-radius: 0.25em;box-sizing: border-box;margin-bottom: 0.5em;}#sk-container-id-1 div.sk-estimator:hover {background-color: #d4ebff;}#sk-container-id-1 div.sk-parallel-item::after {content: \"\";width: 100%;border-bottom: 1px solid gray;flex-grow: 1;}#sk-container-id-1 div.sk-label:hover label.sk-toggleable__label {background-color: #d4ebff;}#sk-container-id-1 div.sk-serial::before {content: \"\";position: absolute;border-left: 1px solid gray;box-sizing: border-box;top: 0;bottom: 0;left: 50%;z-index: 0;}#sk-container-id-1 div.sk-serial {display: flex;flex-direction: column;align-items: center;background-color: white;padding-right: 0.2em;padding-left: 0.2em;position: relative;}#sk-container-id-1 div.sk-item {position: relative;z-index: 1;}#sk-container-id-1 div.sk-parallel {display: flex;align-items: stretch;justify-content: center;background-color: white;position: relative;}#sk-container-id-1 div.sk-item::before, #sk-container-id-1 div.sk-parallel-item::before {content: \"\";position: absolute;border-left: 1px solid gray;box-sizing: border-box;top: 0;bottom: 0;left: 50%;z-index: -1;}#sk-container-id-1 div.sk-parallel-item {display: flex;flex-direction: column;z-index: 1;position: relative;background-color: white;}#sk-container-id-1 div.sk-parallel-item:first-child::after {align-self: flex-end;width: 50%;}#sk-container-id-1 div.sk-parallel-item:last-child::after {align-self: flex-start;width: 50%;}#sk-container-id-1 div.sk-parallel-item:only-child::after {width: 0;}#sk-container-id-1 div.sk-dashed-wrapped {border: 1px dashed gray;margin: 0 0.4em 0.5em 0.4em;box-sizing: border-box;padding-bottom: 0.4em;background-color: white;}#sk-container-id-1 div.sk-label label {font-family: monospace;font-weight: bold;display: inline-block;line-height: 1.2em;}#sk-container-id-1 div.sk-label-container {text-align: center;}#sk-container-id-1 div.sk-container {/* jupyter's `normalize.less` sets `[hidden] { display: none; }` but bootstrap.min.css set `[hidden] { display: none !important; }` so we also need the `!important` here to be able to override the default hidden behavior on the sphinx rendered scikit-learn.org. See: https://github.com/scikit-learn/scikit-learn/issues/21755 */display: inline-block !important;position: relative;}#sk-container-id-1 div.sk-text-repr-fallback {display: none;}</style><div id=\"sk-container-id-1\" class=\"sk-top-container\"><div class=\"sk-text-repr-fallback\"><pre>DecisionTreeClassifier(criterion=&#x27;entropy&#x27;, max_depth=1, random_state=15)</pre><b>In a Jupyter environment, please rerun this cell to show the HTML representation or trust the notebook. <br />On GitHub, the HTML representation is unable to render, please try loading this page with nbviewer.org.</b></div><div class=\"sk-container\" hidden><div class=\"sk-item\"><div class=\"sk-estimator sk-toggleable\"><input class=\"sk-toggleable__control sk-hidden--visually\" id=\"sk-estimator-id-1\" type=\"checkbox\" checked><label for=\"sk-estimator-id-1\" class=\"sk-toggleable__label sk-toggleable__label-arrow\">DecisionTreeClassifier</label><div class=\"sk-toggleable__content\"><pre>DecisionTreeClassifier(criterion=&#x27;entropy&#x27;, max_depth=1, random_state=15)</pre></div></div></div></div></div>"
            ]
          },
          "metadata": {},
          "execution_count": 42
        }
      ],
      "source": [
        "# Decision tree on balanced dataset\n",
        "\n",
        "# We first build a shallow decision tree. DTC = decision tree classifier\n",
        "# criteria to build the decision tree is entropy, max depth is how many times\n",
        "# the decision tree can split (so below example, tree split once)\n",
        "\n",
        "TreeModel = DTC(criterion='entropy',max_depth=1,random_state=15)\n",
        "TreeModel.fit(X_df_SMOTE, y_df_SMOTE)"
      ]
    },
    {
      "cell_type": "code",
      "execution_count": 43,
      "metadata": {
        "colab": {
          "base_uri": "https://localhost:8080/",
          "height": 807
        },
        "id": "OGq4xe13TOuX",
        "outputId": "2e6dd470-3902-46e4-dc8d-865817fd0f48"
      },
      "outputs": [
        {
          "output_type": "display_data",
          "data": {
            "text/plain": [
              "<Figure size 1400x1000 with 1 Axes>"
            ],
            "image/png": "[encoded data removed]"
          },
          "metadata": {}
        }
      ],
      "source": [
        "# Splitting rules can be visualized by using plot_tree in sklearn\n",
        "df_feature_names = list(X_df_SMOTE.columns)\n",
        "\n",
        "plt.figure(figsize=(14,10))\n",
        "plot_tree(\n",
        "    TreeModel,\n",
        "    filled=True,\n",
        "    feature_names=df_feature_names,\n",
        "    class_names=['Did not Intubate','Intubated']\n",
        ")\n",
        "plt.show()"
      ]
    },
    {
      "cell_type": "code",
      "execution_count": 44,
      "metadata": {
        "id": "m9KeeNLyX3YT"
      },
      "outputs": [],
      "source": [
        "# The `max_depth` parameter is important for decision tree.\n",
        "# We use `GridSearchCV` to select the best `max_depth`.\n",
        "# If shallow --> tree is easy to explain but the model is not expressive and performance not good\n",
        "# if large depth --> not easy to explain and may overfit\n",
        "\n",
        "#try depths from 1 to 10\n",
        "parameters = {'max_depth':np.arange(start=1,stop=10,step=1)}\n",
        "stratifiedCV = StratifiedKFold(n_splits=8) #uses 8 fold cross validation\n",
        "TreeModel = DTC(criterion='entropy')\n",
        "\n",
        "# Gridsearch CV uses cross validation to try a bunch of values for the parameters u are interested it\n",
        "BestTree = GridSearchCV(\n",
        "    TreeModel,\n",
        "    param_grid=parameters,\n",
        "    scoring='average_precision', # what is the score to use to pick the best parameter\n",
        "    cv=stratifiedCV #cross validation structure to be used\n",
        ")\n",
        "model = BestTree.fit(X_df_SMOTE, y_df_SMOTE)\n",
        "\n",
        "#this block of code will run cross validation on each possible depth"
      ]
    },
    {
      "cell_type": "code",
      "execution_count": 45,
      "metadata": {
        "colab": {
          "base_uri": "https://localhost:8080/",
          "height": 74
        },
        "id": "XJfU1qliYGsT",
        "outputId": "27206e92-0260-4d8d-9cae-1b49939b90c3"
      },
      "outputs": [
        {
          "output_type": "execute_result",
          "data": {
            "text/plain": [
              "DecisionTreeClassifier(criterion='entropy', max_depth=8)"
            ],
            "text/html": [
              "<style>#sk-container-id-2 {color: black;background-color: white;}#sk-container-id-2 pre{padding: 0;}#sk-container-id-2 div.sk-toggleable {background-color: white;}#sk-container-id-2 label.sk-toggleable__label {cursor: pointer;display: block;width: 100%;margin-bottom: 0;padding: 0.3em;box-sizing: border-box;text-align: center;}#sk-container-id-2 label.sk-toggleable__label-arrow:before {content: \"▸\";float: left;margin-right: 0.25em;color: #696969;}#sk-container-id-2 label.sk-toggleable__label-arrow:hover:before {color: black;}#sk-container-id-2 div.sk-estimator:hover label.sk-toggleable__label-arrow:before {color: black;}#sk-container-id-2 div.sk-toggleable__content {max-height: 0;max-width: 0;overflow: hidden;text-align: left;background-color: #f0f8ff;}#sk-container-id-2 div.sk-toggleable__content pre {margin: 0.2em;color: black;border-radius: 0.25em;background-color: #f0f8ff;}#sk-container-id-2 input.sk-toggleable__control:checked~div.sk-toggleable__content {max-height: 200px;max-width: 100%;overflow: auto;}#sk-container-id-2 input.sk-toggleable__control:checked~label.sk-toggleable__label-arrow:before {content: \"▾\";}#sk-container-id-2 div.sk-estimator input.sk-toggleable__control:checked~label.sk-toggleable__label {background-color: #d4ebff;}#sk-container-id-2 div.sk-label input.sk-toggleable__control:checked~label.sk-toggleable__label {background-color: #d4ebff;}#sk-container-id-2 input.sk-hidden--visually {border: 0;clip: rect(1px 1px 1px 1px);clip: rect(1px, 1px, 1px, 1px);height: 1px;margin: -1px;overflow: hidden;padding: 0;position: absolute;width: 1px;}#sk-container-id-2 div.sk-estimator {font-family: monospace;background-color: #f0f8ff;border: 1px dotted black;border-radius: 0.25em;box-sizing: border-box;margin-bottom: 0.5em;}#sk-container-id-2 div.sk-estimator:hover {background-color: #d4ebff;}#sk-container-id-2 div.sk-parallel-item::after {content: \"\";width: 100%;border-bottom: 1px solid gray;flex-grow: 1;}#sk-container-id-2 div.sk-label:hover label.sk-toggleable__label {background-color: #d4ebff;}#sk-container-id-2 div.sk-serial::before {content: \"\";position: absolute;border-left: 1px solid gray;box-sizing: border-box;top: 0;bottom: 0;left: 50%;z-index: 0;}#sk-container-id-2 div.sk-serial {display: flex;flex-direction: column;align-items: center;background-color: white;padding-right: 0.2em;padding-left: 0.2em;position: relative;}#sk-container-id-2 div.sk-item {position: relative;z-index: 1;}#sk-container-id-2 div.sk-parallel {display: flex;align-items: stretch;justify-content: center;background-color: white;position: relative;}#sk-container-id-2 div.sk-item::before, #sk-container-id-2 div.sk-parallel-item::before {content: \"\";position: absolute;border-left: 1px solid gray;box-sizing: border-box;top: 0;bottom: 0;left: 50%;z-index: -1;}#sk-container-id-2 div.sk-parallel-item {display: flex;flex-direction: column;z-index: 1;position: relative;background-color: white;}#sk-container-id-2 div.sk-parallel-item:first-child::after {align-self: flex-end;width: 50%;}#sk-container-id-2 div.sk-parallel-item:last-child::after {align-self: flex-start;width: 50%;}#sk-container-id-2 div.sk-parallel-item:only-child::after {width: 0;}#sk-container-id-2 div.sk-dashed-wrapped {border: 1px dashed gray;margin: 0 0.4em 0.5em 0.4em;box-sizing: border-box;padding-bottom: 0.4em;background-color: white;}#sk-container-id-2 div.sk-label label {font-family: monospace;font-weight: bold;display: inline-block;line-height: 1.2em;}#sk-container-id-2 div.sk-label-container {text-align: center;}#sk-container-id-2 div.sk-container {/* jupyter's `normalize.less` sets `[hidden] { display: none; }` but bootstrap.min.css set `[hidden] { display: none !important; }` so we also need the `!important` here to be able to override the default hidden behavior on the sphinx rendered scikit-learn.org. See: https://github.com/scikit-learn/scikit-learn/issues/21755 */display: inline-block !important;position: relative;}#sk-container-id-2 div.sk-text-repr-fallback {display: none;}</style><div id=\"sk-container-id-2\" class=\"sk-top-container\"><div class=\"sk-text-repr-fallback\"><pre>DecisionTreeClassifier(criterion=&#x27;entropy&#x27;, max_depth=8)</pre><b>In a Jupyter environment, please rerun this cell to show the HTML representation or trust the notebook. <br />On GitHub, the HTML representation is unable to render, please try loading this page with nbviewer.org.</b></div><div class=\"sk-container\" hidden><div class=\"sk-item\"><div class=\"sk-estimator sk-toggleable\"><input class=\"sk-toggleable__control sk-hidden--visually\" id=\"sk-estimator-id-2\" type=\"checkbox\" checked><label for=\"sk-estimator-id-2\" class=\"sk-toggleable__label sk-toggleable__label-arrow\">DecisionTreeClassifier</label><div class=\"sk-toggleable__content\"><pre>DecisionTreeClassifier(criterion=&#x27;entropy&#x27;, max_depth=8)</pre></div></div></div></div></div>"
            ]
          },
          "metadata": {},
          "execution_count": 45
        }
      ],
      "source": [
        "BestTree.best_estimator_"
      ]
    },
    {
      "cell_type": "code",
      "execution_count": 46,
      "metadata": {
        "colab": {
          "base_uri": "https://localhost:8080/"
        },
        "id": "c-23ju-sYI_J",
        "outputId": "0e581415-0e16-4631-b4fd-9322f8739ae8"
      },
      "outputs": [
        {
          "output_type": "execute_result",
          "data": {
            "text/plain": [
              "0.9380747292167457"
            ]
          },
          "metadata": {},
          "execution_count": 46
        }
      ],
      "source": [
        "BestTree.best_score_"
      ]
    },
    {
      "cell_type": "code",
      "execution_count": 47,
      "metadata": {
        "colab": {
          "base_uri": "https://localhost:8080/",
          "height": 160
        },
        "id": "bdyX3Lv5YL6I",
        "outputId": "55ce5d38-e28d-4c7e-d981-619bc20cd9fd"
      },
      "outputs": [
        {
          "output_type": "stream",
          "name": "stdout",
          "text": [
            "DT AUC score on test dataset: AUROC 0.587, AP 0.098, F1 0.204 \n"
          ]
        },
        {
          "output_type": "execute_result",
          "data": {
            "text/plain": [
              "col_0       0    1\n",
              "outcome           \n",
              "0        2288  371\n",
              "1         145   66"
            ],
            "text/html": [
              "\n",
              "\n",
              "  <div id=\"df-1e17fe0c-8ff5-4864-b719-90a3917125e0\">\n",
              "    <div class=\"colab-df-container\">\n",
              "      <div>\n",
              "<style scoped>\n",
              "    .dataframe tbody tr th:only-of-type {\n",
              "        vertical-align: middle;\n",
              "    }\n",
              "\n",
              "    .dataframe tbody tr th {\n",
              "        vertical-align: top;\n",
              "    }\n",
              "\n",
              "    .dataframe thead th {\n",
              "        text-align: right;\n",
              "    }\n",
              "</style>\n",
              "<table border=\"1\" class=\"dataframe\">\n",
              "  <thead>\n",
              "    <tr style=\"text-align: right;\">\n",
              "      <th>col_0</th>\n",
              "      <th>0</th>\n",
              "      <th>1</th>\n",
              "    </tr>\n",
              "    <tr>\n",
              "      <th>outcome</th>\n",
              "      <th></th>\n",
              "      <th></th>\n",
              "    </tr>\n",
              "  </thead>\n",
              "  <tbody>\n",
              "    <tr>\n",
              "      <th>0</th>\n",
              "      <td>2288</td>\n",
              "      <td>371</td>\n",
              "    </tr>\n",
              "    <tr>\n",
              "      <th>1</th>\n",
              "      <td>145</td>\n",
              "      <td>66</td>\n",
              "    </tr>\n",
              "  </tbody>\n",
              "</table>\n",
              "</div>\n",
              "      <button class=\"colab-df-convert\" onclick=\"convertToInteractive('df-1e17fe0c-8ff5-4864-b719-90a3917125e0')\"\n",
              "              title=\"Convert this dataframe to an interactive table.\"\n",
              "              style=\"display:none;\">\n",
              "\n",
              "  <svg xmlns=\"http://www.w3.org/2000/svg\" height=\"24px\"viewBox=\"0 0 24 24\"\n",
              "       width=\"24px\">\n",
              "    <path d=\"M0 0h24v24H0V0z\" fill=\"none\"/>\n",
              "    <path d=\"M18.56 5.44l.94 2.06.94-2.06 2.06-.94-2.06-.94-.94-2.06-.94 2.06-2.06.94zm-11 1L8.5 8.5l.94-2.06 2.06-.94-2.06-.94L8.5 2.5l-.94 2.06-2.06.94zm10 10l.94 2.06.94-2.06 2.06-.94-2.06-.94-.94-2.06-.94 2.06-2.06.94z\"/><path d=\"M17.41 7.96l-1.37-1.37c-.4-.4-.92-.59-1.43-.59-.52 0-1.04.2-1.43.59L10.3 9.45l-7.72 7.72c-.78.78-.78 2.05 0 2.83L4 21.41c.39.39.9.59 1.41.59.51 0 1.02-.2 1.41-.59l7.78-7.78 2.81-2.81c.8-.78.8-2.07 0-2.86zM5.41 20L4 18.59l7.72-7.72 1.47 1.35L5.41 20z\"/>\n",
              "  </svg>\n",
              "      </button>\n",
              "\n",
              "\n",
              "\n",
              "    <div id=\"df-d5744620-c6b8-42de-b8aa-fad632f3cb38\">\n",
              "      <button class=\"colab-df-quickchart\" onclick=\"quickchart('df-d5744620-c6b8-42de-b8aa-fad632f3cb38')\"\n",
              "              title=\"Suggest charts.\"\n",
              "              style=\"display:none;\">\n",
              "\n",
              "<svg xmlns=\"http://www.w3.org/2000/svg\" height=\"24px\"viewBox=\"0 0 24 24\"\n",
              "     width=\"24px\">\n",
              "    <g>\n",
              "        <path d=\"M19 3H5c-1.1 0-2 .9-2 2v14c0 1.1.9 2 2 2h14c1.1 0 2-.9 2-2V5c0-1.1-.9-2-2-2zM9 17H7v-7h2v7zm4 0h-2V7h2v10zm4 0h-2v-4h2v4z\"/>\n",
              "    </g>\n",
              "</svg>\n",
              "      </button>\n",
              "    </div>\n",
              "\n",
              "<style>\n",
              "  .colab-df-quickchart {\n",
              "    background-color: #E8F0FE;\n",
              "    border: none;\n",
              "    border-radius: 50%;\n",
              "    cursor: pointer;\n",
              "    display: none;\n",
              "    fill: #1967D2;\n",
              "    height: 32px;\n",
              "    padding: 0 0 0 0;\n",
              "    width: 32px;\n",
              "  }\n",
              "\n",
              "  .colab-df-quickchart:hover {\n",
              "    background-color: #E2EBFA;\n",
              "    box-shadow: 0px 1px 2px rgba(60, 64, 67, 0.3), 0px 1px 3px 1px rgba(60, 64, 67, 0.15);\n",
              "    fill: #174EA6;\n",
              "  }\n",
              "\n",
              "  [theme=dark] .colab-df-quickchart {\n",
              "    background-color: #3B4455;\n",
              "    fill: #D2E3FC;\n",
              "  }\n",
              "\n",
              "  [theme=dark] .colab-df-quickchart:hover {\n",
              "    background-color: #434B5C;\n",
              "    box-shadow: 0px 1px 3px 1px rgba(0, 0, 0, 0.15);\n",
              "    filter: drop-shadow(0px 1px 2px rgba(0, 0, 0, 0.3));\n",
              "    fill: #FFFFFF;\n",
              "  }\n",
              "</style>\n",
              "\n",
              "    <script>\n",
              "      async function quickchart(key) {\n",
              "        const containerElement = document.querySelector('#' + key);\n",
              "        const charts = await google.colab.kernel.invokeFunction(\n",
              "            'suggestCharts', [key], {});\n",
              "      }\n",
              "    </script>\n",
              "\n",
              "      <script>\n",
              "\n",
              "function displayQuickchartButton(domScope) {\n",
              "  let quickchartButtonEl =\n",
              "    domScope.querySelector('#df-d5744620-c6b8-42de-b8aa-fad632f3cb38 button.colab-df-quickchart');\n",
              "  quickchartButtonEl.style.display =\n",
              "    google.colab.kernel.accessAllowed ? 'block' : 'none';\n",
              "}\n",
              "\n",
              "        displayQuickchartButton(document);\n",
              "      </script>\n",
              "      <style>\n",
              "    .colab-df-container {\n",
              "      display:flex;\n",
              "      flex-wrap:wrap;\n",
              "      gap: 12px;\n",
              "    }\n",
              "\n",
              "    .colab-df-convert {\n",
              "      background-color: #E8F0FE;\n",
              "      border: none;\n",
              "      border-radius: 50%;\n",
              "      cursor: pointer;\n",
              "      display: none;\n",
              "      fill: #1967D2;\n",
              "      height: 32px;\n",
              "      padding: 0 0 0 0;\n",
              "      width: 32px;\n",
              "    }\n",
              "\n",
              "    .colab-df-convert:hover {\n",
              "      background-color: #E2EBFA;\n",
              "      box-shadow: 0px 1px 2px rgba(60, 64, 67, 0.3), 0px 1px 3px 1px rgba(60, 64, 67, 0.15);\n",
              "      fill: #174EA6;\n",
              "    }\n",
              "\n",
              "    [theme=dark] .colab-df-convert {\n",
              "      background-color: #3B4455;\n",
              "      fill: #D2E3FC;\n",
              "    }\n",
              "\n",
              "    [theme=dark] .colab-df-convert:hover {\n",
              "      background-color: #434B5C;\n",
              "      box-shadow: 0px 1px 3px 1px rgba(0, 0, 0, 0.15);\n",
              "      filter: drop-shadow(0px 1px 2px rgba(0, 0, 0, 0.3));\n",
              "      fill: #FFFFFF;\n",
              "    }\n",
              "  </style>\n",
              "\n",
              "      <script>\n",
              "        const buttonEl =\n",
              "          document.querySelector('#df-1e17fe0c-8ff5-4864-b719-90a3917125e0 button.colab-df-convert');\n",
              "        buttonEl.style.display =\n",
              "          google.colab.kernel.accessAllowed ? 'block' : 'none';\n",
              "\n",
              "        async function convertToInteractive(key) {\n",
              "          const element = document.querySelector('#df-1e17fe0c-8ff5-4864-b719-90a3917125e0');\n",
              "          const dataTable =\n",
              "            await google.colab.kernel.invokeFunction('convertToInteractive',\n",
              "                                                     [key], {});\n",
              "          if (!dataTable) return;\n",
              "\n",
              "          const docLinkHtml = 'Like what you see? Visit the ' +\n",
              "            '<a target=\"_blank\" href=https://colab.research.google.com/notebooks/data_table.ipynb>data table notebook</a>'\n",
              "            + ' to learn more about interactive tables.';\n",
              "          element.innerHTML = '';\n",
              "          dataTable['output_type'] = 'display_data';\n",
              "          await google.colab.output.renderOutput(dataTable, element);\n",
              "          const docLink = document.createElement('div');\n",
              "          docLink.innerHTML = docLinkHtml;\n",
              "          element.appendChild(docLink);\n",
              "        }\n",
              "      </script>\n",
              "    </div>\n",
              "  </div>\n"
            ]
          },
          "metadata": {},
          "execution_count": 47
        }
      ],
      "source": [
        "y_pred = BestTree.predict(X_df_Test)\n",
        "\n",
        "auroc_DT = roc_auc_score(y_df_Test,y_pred)\n",
        "ap_DT = average_precision_score(y_df_Test,y_pred)\n",
        "f1_DT = f1_score(y_df_Test,y_pred)\n",
        "\n",
        "print('DT AUC score on test dataset: AUROC {:.3f}, AP {:.3f}, F1 {:.3f} '.format(auroc_DT,ap_DT,f1_DT))\n",
        "\n",
        "pd.crosstab(y_df_Test[\"outcome\"],y_pred)"
      ]
    },
    {
      "cell_type": "markdown",
      "source": [
        "Random Forest"
      ],
      "metadata": {
        "id": "x_biYIwVFuFj"
      }
    },
    {
      "cell_type": "code",
      "source": [
        "from sklearn.ensemble import RandomForestClassifier\n",
        "\n",
        "parameters = {'n_estimators':np.arange(start=2,stop=20,step=2),\n",
        "              'max_depth':np.arange(start=1,stop=10,step=1)}\n",
        "stratifiedCV = StratifiedKFold(n_splits=8) #uses 8 fold cross validation\n",
        "RFCTreeModel = RandomForestClassifier(criterion='entropy')\n",
        "\n",
        "# Gridsearch CV uses cross validation to try a bunch of values for the parameters u are interested it\n",
        "RFCBestTree = GridSearchCV(\n",
        "    RFCTreeModel,\n",
        "    param_grid=parameters,\n",
        "    scoring='average_precision', # what is the score to use to pick the best parameter\n",
        "    cv=stratifiedCV #cross validation structure to be used\n",
        ")\n",
        "RFCBestTree.fit(X_df_SMOTE, np.ravel(y_df_SMOTE))"
      ],
      "metadata": {
        "colab": {
          "base_uri": "https://localhost:8080/",
          "height": 116
        },
        "id": "sMway4j7Fvlx",
        "outputId": "2de0cdb4-9887-48a4-a756-c4d391d95299"
      },
      "execution_count": 48,
      "outputs": [
        {
          "output_type": "execute_result",
          "data": {
            "text/plain": [
              "GridSearchCV(cv=StratifiedKFold(n_splits=8, random_state=None, shuffle=False),\n",
              "             estimator=RandomForestClassifier(criterion='entropy'),\n",
              "             param_grid={'max_depth': array([1, 2, 3, 4, 5, 6, 7, 8, 9]),\n",
              "                         'n_estimators': array([ 2,  4,  6,  8, 10, 12, 14, 16, 18])},\n",
              "             scoring='average_precision')"
            ],
            "text/html": [
              "<style>#sk-container-id-3 {color: black;background-color: white;}#sk-container-id-3 pre{padding: 0;}#sk-container-id-3 div.sk-toggleable {background-color: white;}#sk-container-id-3 label.sk-toggleable__label {cursor: pointer;display: block;width: 100%;margin-bottom: 0;padding: 0.3em;box-sizing: border-box;text-align: center;}#sk-container-id-3 label.sk-toggleable__label-arrow:before {content: \"▸\";float: left;margin-right: 0.25em;color: #696969;}#sk-container-id-3 label.sk-toggleable__label-arrow:hover:before {color: black;}#sk-container-id-3 div.sk-estimator:hover label.sk-toggleable__label-arrow:before {color: black;}#sk-container-id-3 div.sk-toggleable__content {max-height: 0;max-width: 0;overflow: hidden;text-align: left;background-color: #f0f8ff;}#sk-container-id-3 div.sk-toggleable__content pre {margin: 0.2em;color: black;border-radius: 0.25em;background-color: #f0f8ff;}#sk-container-id-3 input.sk-toggleable__control:checked~div.sk-toggleable__content {max-height: 200px;max-width: 100%;overflow: auto;}#sk-container-id-3 input.sk-toggleable__control:checked~label.sk-toggleable__label-arrow:before {content: \"▾\";}#sk-container-id-3 div.sk-estimator input.sk-toggleable__control:checked~label.sk-toggleable__label {background-color: #d4ebff;}#sk-container-id-3 div.sk-label input.sk-toggleable__control:checked~label.sk-toggleable__label {background-color: #d4ebff;}#sk-container-id-3 input.sk-hidden--visually {border: 0;clip: rect(1px 1px 1px 1px);clip: rect(1px, 1px, 1px, 1px);height: 1px;margin: -1px;overflow: hidden;padding: 0;position: absolute;width: 1px;}#sk-container-id-3 div.sk-estimator {font-family: monospace;background-color: #f0f8ff;border: 1px dotted black;border-radius: 0.25em;box-sizing: border-box;margin-bottom: 0.5em;}#sk-container-id-3 div.sk-estimator:hover {background-color: #d4ebff;}#sk-container-id-3 div.sk-parallel-item::after {content: \"\";width: 100%;border-bottom: 1px solid gray;flex-grow: 1;}#sk-container-id-3 div.sk-label:hover label.sk-toggleable__label {background-color: #d4ebff;}#sk-container-id-3 div.sk-serial::before {content: \"\";position: absolute;border-left: 1px solid gray;box-sizing: border-box;top: 0;bottom: 0;left: 50%;z-index: 0;}#sk-container-id-3 div.sk-serial {display: flex;flex-direction: column;align-items: center;background-color: white;padding-right: 0.2em;padding-left: 0.2em;position: relative;}#sk-container-id-3 div.sk-item {position: relative;z-index: 1;}#sk-container-id-3 div.sk-parallel {display: flex;align-items: stretch;justify-content: center;background-color: white;position: relative;}#sk-container-id-3 div.sk-item::before, #sk-container-id-3 div.sk-parallel-item::before {content: \"\";position: absolute;border-left: 1px solid gray;box-sizing: border-box;top: 0;bottom: 0;left: 50%;z-index: -1;}#sk-container-id-3 div.sk-parallel-item {display: flex;flex-direction: column;z-index: 1;position: relative;background-color: white;}#sk-container-id-3 div.sk-parallel-item:first-child::after {align-self: flex-end;width: 50%;}#sk-container-id-3 div.sk-parallel-item:last-child::after {align-self: flex-start;width: 50%;}#sk-container-id-3 div.sk-parallel-item:only-child::after {width: 0;}#sk-container-id-3 div.sk-dashed-wrapped {border: 1px dashed gray;margin: 0 0.4em 0.5em 0.4em;box-sizing: border-box;padding-bottom: 0.4em;background-color: white;}#sk-container-id-3 div.sk-label label {font-family: monospace;font-weight: bold;display: inline-block;line-height: 1.2em;}#sk-container-id-3 div.sk-label-container {text-align: center;}#sk-container-id-3 div.sk-container {/* jupyter's `normalize.less` sets `[hidden] { display: none; }` but bootstrap.min.css set `[hidden] { display: none !important; }` so we also need the `!important` here to be able to override the default hidden behavior on the sphinx rendered scikit-learn.org. See: https://github.com/scikit-learn/scikit-learn/issues/21755 */display: inline-block !important;position: relative;}#sk-container-id-3 div.sk-text-repr-fallback {display: none;}</style><div id=\"sk-container-id-3\" class=\"sk-top-container\"><div class=\"sk-text-repr-fallback\"><pre>GridSearchCV(cv=StratifiedKFold(n_splits=8, random_state=None, shuffle=False),\n",
              "             estimator=RandomForestClassifier(criterion=&#x27;entropy&#x27;),\n",
              "             param_grid={&#x27;max_depth&#x27;: array([1, 2, 3, 4, 5, 6, 7, 8, 9]),\n",
              "                         &#x27;n_estimators&#x27;: array([ 2,  4,  6,  8, 10, 12, 14, 16, 18])},\n",
              "             scoring=&#x27;average_precision&#x27;)</pre><b>In a Jupyter environment, please rerun this cell to show the HTML representation or trust the notebook. <br />On GitHub, the HTML representation is unable to render, please try loading this page with nbviewer.org.</b></div><div class=\"sk-container\" hidden><div class=\"sk-item sk-dashed-wrapped\"><div class=\"sk-label-container\"><div class=\"sk-label sk-toggleable\"><input class=\"sk-toggleable__control sk-hidden--visually\" id=\"sk-estimator-id-3\" type=\"checkbox\" ><label for=\"sk-estimator-id-3\" class=\"sk-toggleable__label sk-toggleable__label-arrow\">GridSearchCV</label><div class=\"sk-toggleable__content\"><pre>GridSearchCV(cv=StratifiedKFold(n_splits=8, random_state=None, shuffle=False),\n",
              "             estimator=RandomForestClassifier(criterion=&#x27;entropy&#x27;),\n",
              "             param_grid={&#x27;max_depth&#x27;: array([1, 2, 3, 4, 5, 6, 7, 8, 9]),\n",
              "                         &#x27;n_estimators&#x27;: array([ 2,  4,  6,  8, 10, 12, 14, 16, 18])},\n",
              "             scoring=&#x27;average_precision&#x27;)</pre></div></div></div><div class=\"sk-parallel\"><div class=\"sk-parallel-item\"><div class=\"sk-item\"><div class=\"sk-label-container\"><div class=\"sk-label sk-toggleable\"><input class=\"sk-toggleable__control sk-hidden--visually\" id=\"sk-estimator-id-4\" type=\"checkbox\" ><label for=\"sk-estimator-id-4\" class=\"sk-toggleable__label sk-toggleable__label-arrow\">estimator: RandomForestClassifier</label><div class=\"sk-toggleable__content\"><pre>RandomForestClassifier(criterion=&#x27;entropy&#x27;)</pre></div></div></div><div class=\"sk-serial\"><div class=\"sk-item\"><div class=\"sk-estimator sk-toggleable\"><input class=\"sk-toggleable__control sk-hidden--visually\" id=\"sk-estimator-id-5\" type=\"checkbox\" ><label for=\"sk-estimator-id-5\" class=\"sk-toggleable__label sk-toggleable__label-arrow\">RandomForestClassifier</label><div class=\"sk-toggleable__content\"><pre>RandomForestClassifier(criterion=&#x27;entropy&#x27;)</pre></div></div></div></div></div></div></div></div></div></div>"
            ]
          },
          "metadata": {},
          "execution_count": 48
        }
      ]
    },
    {
      "cell_type": "code",
      "source": [
        "RFCBestTree.best_estimator_"
      ],
      "metadata": {
        "colab": {
          "base_uri": "https://localhost:8080/",
          "height": 74
        },
        "id": "Q3yo6gOMGoDc",
        "outputId": "97c7e521-31e3-4405-e8cb-fa8a5cdbb476"
      },
      "execution_count": 49,
      "outputs": [
        {
          "output_type": "execute_result",
          "data": {
            "text/plain": [
              "RandomForestClassifier(criterion='entropy', max_depth=9, n_estimators=18)"
            ],
            "text/html": [
              "<style>#sk-container-id-4 {color: black;background-color: white;}#sk-container-id-4 pre{padding: 0;}#sk-container-id-4 div.sk-toggleable {background-color: white;}#sk-container-id-4 label.sk-toggleable__label {cursor: pointer;display: block;width: 100%;margin-bottom: 0;padding: 0.3em;box-sizing: border-box;text-align: center;}#sk-container-id-4 label.sk-toggleable__label-arrow:before {content: \"▸\";float: left;margin-right: 0.25em;color: #696969;}#sk-container-id-4 label.sk-toggleable__label-arrow:hover:before {color: black;}#sk-container-id-4 div.sk-estimator:hover label.sk-toggleable__label-arrow:before {color: black;}#sk-container-id-4 div.sk-toggleable__content {max-height: 0;max-width: 0;overflow: hidden;text-align: left;background-color: #f0f8ff;}#sk-container-id-4 div.sk-toggleable__content pre {margin: 0.2em;color: black;border-radius: 0.25em;background-color: #f0f8ff;}#sk-container-id-4 input.sk-toggleable__control:checked~div.sk-toggleable__content {max-height: 200px;max-width: 100%;overflow: auto;}#sk-container-id-4 input.sk-toggleable__control:checked~label.sk-toggleable__label-arrow:before {content: \"▾\";}#sk-container-id-4 div.sk-estimator input.sk-toggleable__control:checked~label.sk-toggleable__label {background-color: #d4ebff;}#sk-container-id-4 div.sk-label input.sk-toggleable__control:checked~label.sk-toggleable__label {background-color: #d4ebff;}#sk-container-id-4 input.sk-hidden--visually {border: 0;clip: rect(1px 1px 1px 1px);clip: rect(1px, 1px, 1px, 1px);height: 1px;margin: -1px;overflow: hidden;padding: 0;position: absolute;width: 1px;}#sk-container-id-4 div.sk-estimator {font-family: monospace;background-color: #f0f8ff;border: 1px dotted black;border-radius: 0.25em;box-sizing: border-box;margin-bottom: 0.5em;}#sk-container-id-4 div.sk-estimator:hover {background-color: #d4ebff;}#sk-container-id-4 div.sk-parallel-item::after {content: \"\";width: 100%;border-bottom: 1px solid gray;flex-grow: 1;}#sk-container-id-4 div.sk-label:hover label.sk-toggleable__label {background-color: #d4ebff;}#sk-container-id-4 div.sk-serial::before {content: \"\";position: absolute;border-left: 1px solid gray;box-sizing: border-box;top: 0;bottom: 0;left: 50%;z-index: 0;}#sk-container-id-4 div.sk-serial {display: flex;flex-direction: column;align-items: center;background-color: white;padding-right: 0.2em;padding-left: 0.2em;position: relative;}#sk-container-id-4 div.sk-item {position: relative;z-index: 1;}#sk-container-id-4 div.sk-parallel {display: flex;align-items: stretch;justify-content: center;background-color: white;position: relative;}#sk-container-id-4 div.sk-item::before, #sk-container-id-4 div.sk-parallel-item::before {content: \"\";position: absolute;border-left: 1px solid gray;box-sizing: border-box;top: 0;bottom: 0;left: 50%;z-index: -1;}#sk-container-id-4 div.sk-parallel-item {display: flex;flex-direction: column;z-index: 1;position: relative;background-color: white;}#sk-container-id-4 div.sk-parallel-item:first-child::after {align-self: flex-end;width: 50%;}#sk-container-id-4 div.sk-parallel-item:last-child::after {align-self: flex-start;width: 50%;}#sk-container-id-4 div.sk-parallel-item:only-child::after {width: 0;}#sk-container-id-4 div.sk-dashed-wrapped {border: 1px dashed gray;margin: 0 0.4em 0.5em 0.4em;box-sizing: border-box;padding-bottom: 0.4em;background-color: white;}#sk-container-id-4 div.sk-label label {font-family: monospace;font-weight: bold;display: inline-block;line-height: 1.2em;}#sk-container-id-4 div.sk-label-container {text-align: center;}#sk-container-id-4 div.sk-container {/* jupyter's `normalize.less` sets `[hidden] { display: none; }` but bootstrap.min.css set `[hidden] { display: none !important; }` so we also need the `!important` here to be able to override the default hidden behavior on the sphinx rendered scikit-learn.org. See: https://github.com/scikit-learn/scikit-learn/issues/21755 */display: inline-block !important;position: relative;}#sk-container-id-4 div.sk-text-repr-fallback {display: none;}</style><div id=\"sk-container-id-4\" class=\"sk-top-container\"><div class=\"sk-text-repr-fallback\"><pre>RandomForestClassifier(criterion=&#x27;entropy&#x27;, max_depth=9, n_estimators=18)</pre><b>In a Jupyter environment, please rerun this cell to show the HTML representation or trust the notebook. <br />On GitHub, the HTML representation is unable to render, please try loading this page with nbviewer.org.</b></div><div class=\"sk-container\" hidden><div class=\"sk-item\"><div class=\"sk-estimator sk-toggleable\"><input class=\"sk-toggleable__control sk-hidden--visually\" id=\"sk-estimator-id-6\" type=\"checkbox\" checked><label for=\"sk-estimator-id-6\" class=\"sk-toggleable__label sk-toggleable__label-arrow\">RandomForestClassifier</label><div class=\"sk-toggleable__content\"><pre>RandomForestClassifier(criterion=&#x27;entropy&#x27;, max_depth=9, n_estimators=18)</pre></div></div></div></div></div>"
            ]
          },
          "metadata": {},
          "execution_count": 49
        }
      ]
    },
    {
      "cell_type": "code",
      "source": [
        "RFCBestTree.best_score_"
      ],
      "metadata": {
        "colab": {
          "base_uri": "https://localhost:8080/"
        },
        "id": "DtcRWvtFGrbJ",
        "outputId": "9e0014be-d494-447b-be69-01de5027fe5a"
      },
      "execution_count": 50,
      "outputs": [
        {
          "output_type": "execute_result",
          "data": {
            "text/plain": [
              "0.9706900707827186"
            ]
          },
          "metadata": {},
          "execution_count": 50
        }
      ]
    },
    {
      "cell_type": "code",
      "source": [
        "y_pred = RFCBestTree.predict(X_df_Test)\n",
        "\n",
        "auroc_RFC = roc_auc_score(y_df_Test,y_pred)\n",
        "ap_RFC = average_precision_score(y_df_Test,y_pred)\n",
        "f1_RFC = f1_score(y_df_Test,y_pred)\n",
        "\n",
        "print('RFC AUC score on test dataset: AUROC {:.3f}, AP {:.3f}, F1 {:.3f} '.format(auroc_RFC,ap_RFC,f1_RFC))\n",
        "\n",
        "pd.crosstab(y_df_Test[\"outcome\"],y_pred)"
      ],
      "metadata": {
        "colab": {
          "base_uri": "https://localhost:8080/",
          "height": 160
        },
        "id": "Ncijm0wdGvdS",
        "outputId": "35a4a0a6-ab2b-46bd-d222-a9a13f78976b"
      },
      "execution_count": 51,
      "outputs": [
        {
          "output_type": "stream",
          "name": "stdout",
          "text": [
            "RFC AUC score on test dataset: AUROC 0.628, AP 0.118, F1 0.253 \n"
          ]
        },
        {
          "output_type": "execute_result",
          "data": {
            "text/plain": [
              "col_0       0    1\n",
              "outcome           \n",
              "0        2305  354\n",
              "1         129   82"
            ],
            "text/html": [
              "\n",
              "\n",
              "  <div id=\"df-5237767e-cc0b-447c-b724-b7aeab85c53d\">\n",
              "    <div class=\"colab-df-container\">\n",
              "      <div>\n",
              "<style scoped>\n",
              "    .dataframe tbody tr th:only-of-type {\n",
              "        vertical-align: middle;\n",
              "    }\n",
              "\n",
              "    .dataframe tbody tr th {\n",
              "        vertical-align: top;\n",
              "    }\n",
              "\n",
              "    .dataframe thead th {\n",
              "        text-align: right;\n",
              "    }\n",
              "</style>\n",
              "<table border=\"1\" class=\"dataframe\">\n",
              "  <thead>\n",
              "    <tr style=\"text-align: right;\">\n",
              "      <th>col_0</th>\n",
              "      <th>0</th>\n",
              "      <th>1</th>\n",
              "    </tr>\n",
              "    <tr>\n",
              "      <th>outcome</th>\n",
              "      <th></th>\n",
              "      <th></th>\n",
              "    </tr>\n",
              "  </thead>\n",
              "  <tbody>\n",
              "    <tr>\n",
              "      <th>0</th>\n",
              "      <td>2305</td>\n",
              "      <td>354</td>\n",
              "    </tr>\n",
              "    <tr>\n",
              "      <th>1</th>\n",
              "      <td>129</td>\n",
              "      <td>82</td>\n",
              "    </tr>\n",
              "  </tbody>\n",
              "</table>\n",
              "</div>\n",
              "      <button class=\"colab-df-convert\" onclick=\"convertToInteractive('df-5237767e-cc0b-447c-b724-b7aeab85c53d')\"\n",
              "              title=\"Convert this dataframe to an interactive table.\"\n",
              "              style=\"display:none;\">\n",
              "\n",
              "  <svg xmlns=\"http://www.w3.org/2000/svg\" height=\"24px\"viewBox=\"0 0 24 24\"\n",
              "       width=\"24px\">\n",
              "    <path d=\"M0 0h24v24H0V0z\" fill=\"none\"/>\n",
              "    <path d=\"M18.56 5.44l.94 2.06.94-2.06 2.06-.94-2.06-.94-.94-2.06-.94 2.06-2.06.94zm-11 1L8.5 8.5l.94-2.06 2.06-.94-2.06-.94L8.5 2.5l-.94 2.06-2.06.94zm10 10l.94 2.06.94-2.06 2.06-.94-2.06-.94-.94-2.06-.94 2.06-2.06.94z\"/><path d=\"M17.41 7.96l-1.37-1.37c-.4-.4-.92-.59-1.43-.59-.52 0-1.04.2-1.43.59L10.3 9.45l-7.72 7.72c-.78.78-.78 2.05 0 2.83L4 21.41c.39.39.9.59 1.41.59.51 0 1.02-.2 1.41-.59l7.78-7.78 2.81-2.81c.8-.78.8-2.07 0-2.86zM5.41 20L4 18.59l7.72-7.72 1.47 1.35L5.41 20z\"/>\n",
              "  </svg>\n",
              "      </button>\n",
              "\n",
              "\n",
              "\n",
              "    <div id=\"df-c5e363a0-aede-4345-9594-88b0a16229f3\">\n",
              "      <button class=\"colab-df-quickchart\" onclick=\"quickchart('df-c5e363a0-aede-4345-9594-88b0a16229f3')\"\n",
              "              title=\"Suggest charts.\"\n",
              "              style=\"display:none;\">\n",
              "\n",
              "<svg xmlns=\"http://www.w3.org/2000/svg\" height=\"24px\"viewBox=\"0 0 24 24\"\n",
              "     width=\"24px\">\n",
              "    <g>\n",
              "        <path d=\"M19 3H5c-1.1 0-2 .9-2 2v14c0 1.1.9 2 2 2h14c1.1 0 2-.9 2-2V5c0-1.1-.9-2-2-2zM9 17H7v-7h2v7zm4 0h-2V7h2v10zm4 0h-2v-4h2v4z\"/>\n",
              "    </g>\n",
              "</svg>\n",
              "      </button>\n",
              "    </div>\n",
              "\n",
              "<style>\n",
              "  .colab-df-quickchart {\n",
              "    background-color: #E8F0FE;\n",
              "    border: none;\n",
              "    border-radius: 50%;\n",
              "    cursor: pointer;\n",
              "    display: none;\n",
              "    fill: #1967D2;\n",
              "    height: 32px;\n",
              "    padding: 0 0 0 0;\n",
              "    width: 32px;\n",
              "  }\n",
              "\n",
              "  .colab-df-quickchart:hover {\n",
              "    background-color: #E2EBFA;\n",
              "    box-shadow: 0px 1px 2px rgba(60, 64, 67, 0.3), 0px 1px 3px 1px rgba(60, 64, 67, 0.15);\n",
              "    fill: #174EA6;\n",
              "  }\n",
              "\n",
              "  [theme=dark] .colab-df-quickchart {\n",
              "    background-color: #3B4455;\n",
              "    fill: #D2E3FC;\n",
              "  }\n",
              "\n",
              "  [theme=dark] .colab-df-quickchart:hover {\n",
              "    background-color: #434B5C;\n",
              "    box-shadow: 0px 1px 3px 1px rgba(0, 0, 0, 0.15);\n",
              "    filter: drop-shadow(0px 1px 2px rgba(0, 0, 0, 0.3));\n",
              "    fill: #FFFFFF;\n",
              "  }\n",
              "</style>\n",
              "\n",
              "    <script>\n",
              "      async function quickchart(key) {\n",
              "        const containerElement = document.querySelector('#' + key);\n",
              "        const charts = await google.colab.kernel.invokeFunction(\n",
              "            'suggestCharts', [key], {});\n",
              "      }\n",
              "    </script>\n",
              "\n",
              "      <script>\n",
              "\n",
              "function displayQuickchartButton(domScope) {\n",
              "  let quickchartButtonEl =\n",
              "    domScope.querySelector('#df-c5e363a0-aede-4345-9594-88b0a16229f3 button.colab-df-quickchart');\n",
              "  quickchartButtonEl.style.display =\n",
              "    google.colab.kernel.accessAllowed ? 'block' : 'none';\n",
              "}\n",
              "\n",
              "        displayQuickchartButton(document);\n",
              "      </script>\n",
              "      <style>\n",
              "    .colab-df-container {\n",
              "      display:flex;\n",
              "      flex-wrap:wrap;\n",
              "      gap: 12px;\n",
              "    }\n",
              "\n",
              "    .colab-df-convert {\n",
              "      background-color: #E8F0FE;\n",
              "      border: none;\n",
              "      border-radius: 50%;\n",
              "      cursor: pointer;\n",
              "      display: none;\n",
              "      fill: #1967D2;\n",
              "      height: 32px;\n",
              "      padding: 0 0 0 0;\n",
              "      width: 32px;\n",
              "    }\n",
              "\n",
              "    .colab-df-convert:hover {\n",
              "      background-color: #E2EBFA;\n",
              "      box-shadow: 0px 1px 2px rgba(60, 64, 67, 0.3), 0px 1px 3px 1px rgba(60, 64, 67, 0.15);\n",
              "      fill: #174EA6;\n",
              "    }\n",
              "\n",
              "    [theme=dark] .colab-df-convert {\n",
              "      background-color: #3B4455;\n",
              "      fill: #D2E3FC;\n",
              "    }\n",
              "\n",
              "    [theme=dark] .colab-df-convert:hover {\n",
              "      background-color: #434B5C;\n",
              "      box-shadow: 0px 1px 3px 1px rgba(0, 0, 0, 0.15);\n",
              "      filter: drop-shadow(0px 1px 2px rgba(0, 0, 0, 0.3));\n",
              "      fill: #FFFFFF;\n",
              "    }\n",
              "  </style>\n",
              "\n",
              "      <script>\n",
              "        const buttonEl =\n",
              "          document.querySelector('#df-5237767e-cc0b-447c-b724-b7aeab85c53d button.colab-df-convert');\n",
              "        buttonEl.style.display =\n",
              "          google.colab.kernel.accessAllowed ? 'block' : 'none';\n",
              "\n",
              "        async function convertToInteractive(key) {\n",
              "          const element = document.querySelector('#df-5237767e-cc0b-447c-b724-b7aeab85c53d');\n",
              "          const dataTable =\n",
              "            await google.colab.kernel.invokeFunction('convertToInteractive',\n",
              "                                                     [key], {});\n",
              "          if (!dataTable) return;\n",
              "\n",
              "          const docLinkHtml = 'Like what you see? Visit the ' +\n",
              "            '<a target=\"_blank\" href=https://colab.research.google.com/notebooks/data_table.ipynb>data table notebook</a>'\n",
              "            + ' to learn more about interactive tables.';\n",
              "          element.innerHTML = '';\n",
              "          dataTable['output_type'] = 'display_data';\n",
              "          await google.colab.output.renderOutput(dataTable, element);\n",
              "          const docLink = document.createElement('div');\n",
              "          docLink.innerHTML = docLinkHtml;\n",
              "          element.appendChild(docLink);\n",
              "        }\n",
              "      </script>\n",
              "    </div>\n",
              "  </div>\n"
            ]
          },
          "metadata": {},
          "execution_count": 51
        }
      ]
    },
    {
      "cell_type": "markdown",
      "metadata": {
        "id": "yTdXpGCrai3f"
      },
      "source": [
        "XGBoost Tree Model"
      ]
    },
    {
      "cell_type": "markdown",
      "metadata": {
        "id": "mKbM7sMqnViV"
      },
      "source": [
        "XGBoost on balanced dataset"
      ]
    },
    {
      "cell_type": "code",
      "execution_count": 52,
      "metadata": {
        "id": "I_YrDyMGamL5"
      },
      "outputs": [],
      "source": [
        "from xgboost import XGBClassifier as XGBC"
      ]
    },
    {
      "cell_type": "code",
      "execution_count": 53,
      "metadata": {
        "colab": {
          "base_uri": "https://localhost:8080/",
          "height": 133
        },
        "id": "JEz27V0xaoSp",
        "outputId": "6f55efb0-37e7-4eb6-f327-671c826d7f62"
      },
      "outputs": [
        {
          "output_type": "stream",
          "name": "stdout",
          "text": [
            "Fitting 8 folds for each of 252 candidates, totalling 2016 fits\n"
          ]
        },
        {
          "output_type": "execute_result",
          "data": {
            "text/plain": [
              "GridSearchCV(cv=StratifiedKFold(n_splits=8, random_state=None, shuffle=False),\n",
              "             estimator=XGBClassifier(base_score=None, booster=None,\n",
              "                                     callbacks=None, colsample_bylevel=None,\n",
              "                                     colsample_bynode=None,\n",
              "                                     colsample_bytree=None,\n",
              "                                     early_stopping_rounds=None,\n",
              "                                     enable_categorical=False, eval_metric=None,\n",
              "                                     feature_types=None, gamma=None,\n",
              "                                     gpu_id=None, grow_policy=None,\n",
              "                                     importance_...\n",
              "                                     max_leaves=None, min_child_weight=None,\n",
              "                                     missing=nan, monotone_constraints=None,\n",
              "                                     n_estimators=100, n_jobs=None,\n",
              "                                     num_parallel_tree=None, predictor=None,\n",
              "                                     random_state=None, ...),\n",
              "             n_jobs=-1,\n",
              "             param_grid={'learning_rate': array([0.05, 0.1 , 0.15, 0.2 , 0.25, 0.3 , 0.35]),\n",
              "                         'max_depth': array([2, 3, 4, 5]),\n",
              "                         'n_estimators': array([ 2,  4,  6,  8, 10, 12, 14, 16, 18])},\n",
              "             scoring='average_precision', verbose=1)"
            ],
            "text/html": [
              "<style>#sk-container-id-5 {color: black;background-color: white;}#sk-container-id-5 pre{padding: 0;}#sk-container-id-5 div.sk-toggleable {background-color: white;}#sk-container-id-5 label.sk-toggleable__label {cursor: pointer;display: block;width: 100%;margin-bottom: 0;padding: 0.3em;box-sizing: border-box;text-align: center;}#sk-container-id-5 label.sk-toggleable__label-arrow:before {content: \"▸\";float: left;margin-right: 0.25em;color: #696969;}#sk-container-id-5 label.sk-toggleable__label-arrow:hover:before {color: black;}#sk-container-id-5 div.sk-estimator:hover label.sk-toggleable__label-arrow:before {color: black;}#sk-container-id-5 div.sk-toggleable__content {max-height: 0;max-width: 0;overflow: hidden;text-align: left;background-color: #f0f8ff;}#sk-container-id-5 div.sk-toggleable__content pre {margin: 0.2em;color: black;border-radius: 0.25em;background-color: #f0f8ff;}#sk-container-id-5 input.sk-toggleable__control:checked~div.sk-toggleable__content {max-height: 200px;max-width: 100%;overflow: auto;}#sk-container-id-5 input.sk-toggleable__control:checked~label.sk-toggleable__label-arrow:before {content: \"▾\";}#sk-container-id-5 div.sk-estimator input.sk-toggleable__control:checked~label.sk-toggleable__label {background-color: #d4ebff;}#sk-container-id-5 div.sk-label input.sk-toggleable__control:checked~label.sk-toggleable__label {background-color: #d4ebff;}#sk-container-id-5 input.sk-hidden--visually {border: 0;clip: rect(1px 1px 1px 1px);clip: rect(1px, 1px, 1px, 1px);height: 1px;margin: -1px;overflow: hidden;padding: 0;position: absolute;width: 1px;}#sk-container-id-5 div.sk-estimator {font-family: monospace;background-color: #f0f8ff;border: 1px dotted black;border-radius: 0.25em;box-sizing: border-box;margin-bottom: 0.5em;}#sk-container-id-5 div.sk-estimator:hover {background-color: #d4ebff;}#sk-container-id-5 div.sk-parallel-item::after {content: \"\";width: 100%;border-bottom: 1px solid gray;flex-grow: 1;}#sk-container-id-5 div.sk-label:hover label.sk-toggleable__label {background-color: #d4ebff;}#sk-container-id-5 div.sk-serial::before {content: \"\";position: absolute;border-left: 1px solid gray;box-sizing: border-box;top: 0;bottom: 0;left: 50%;z-index: 0;}#sk-container-id-5 div.sk-serial {display: flex;flex-direction: column;align-items: center;background-color: white;padding-right: 0.2em;padding-left: 0.2em;position: relative;}#sk-container-id-5 div.sk-item {position: relative;z-index: 1;}#sk-container-id-5 div.sk-parallel {display: flex;align-items: stretch;justify-content: center;background-color: white;position: relative;}#sk-container-id-5 div.sk-item::before, #sk-container-id-5 div.sk-parallel-item::before {content: \"\";position: absolute;border-left: 1px solid gray;box-sizing: border-box;top: 0;bottom: 0;left: 50%;z-index: -1;}#sk-container-id-5 div.sk-parallel-item {display: flex;flex-direction: column;z-index: 1;position: relative;background-color: white;}#sk-container-id-5 div.sk-parallel-item:first-child::after {align-self: flex-end;width: 50%;}#sk-container-id-5 div.sk-parallel-item:last-child::after {align-self: flex-start;width: 50%;}#sk-container-id-5 div.sk-parallel-item:only-child::after {width: 0;}#sk-container-id-5 div.sk-dashed-wrapped {border: 1px dashed gray;margin: 0 0.4em 0.5em 0.4em;box-sizing: border-box;padding-bottom: 0.4em;background-color: white;}#sk-container-id-5 div.sk-label label {font-family: monospace;font-weight: bold;display: inline-block;line-height: 1.2em;}#sk-container-id-5 div.sk-label-container {text-align: center;}#sk-container-id-5 div.sk-container {/* jupyter's `normalize.less` sets `[hidden] { display: none; }` but bootstrap.min.css set `[hidden] { display: none !important; }` so we also need the `!important` here to be able to override the default hidden behavior on the sphinx rendered scikit-learn.org. See: https://github.com/scikit-learn/scikit-learn/issues/21755 */display: inline-block !important;position: relative;}#sk-container-id-5 div.sk-text-repr-fallback {display: none;}</style><div id=\"sk-container-id-5\" class=\"sk-top-container\"><div class=\"sk-text-repr-fallback\"><pre>GridSearchCV(cv=StratifiedKFold(n_splits=8, random_state=None, shuffle=False),\n",
              "             estimator=XGBClassifier(base_score=None, booster=None,\n",
              "                                     callbacks=None, colsample_bylevel=None,\n",
              "                                     colsample_bynode=None,\n",
              "                                     colsample_bytree=None,\n",
              "                                     early_stopping_rounds=None,\n",
              "                                     enable_categorical=False, eval_metric=None,\n",
              "                                     feature_types=None, gamma=None,\n",
              "                                     gpu_id=None, grow_policy=None,\n",
              "                                     importance_...\n",
              "                                     max_leaves=None, min_child_weight=None,\n",
              "                                     missing=nan, monotone_constraints=None,\n",
              "                                     n_estimators=100, n_jobs=None,\n",
              "                                     num_parallel_tree=None, predictor=None,\n",
              "                                     random_state=None, ...),\n",
              "             n_jobs=-1,\n",
              "             param_grid={&#x27;learning_rate&#x27;: array([0.05, 0.1 , 0.15, 0.2 , 0.25, 0.3 , 0.35]),\n",
              "                         &#x27;max_depth&#x27;: array([2, 3, 4, 5]),\n",
              "                         &#x27;n_estimators&#x27;: array([ 2,  4,  6,  8, 10, 12, 14, 16, 18])},\n",
              "             scoring=&#x27;average_precision&#x27;, verbose=1)</pre><b>In a Jupyter environment, please rerun this cell to show the HTML representation or trust the notebook. <br />On GitHub, the HTML representation is unable to render, please try loading this page with nbviewer.org.</b></div><div class=\"sk-container\" hidden><div class=\"sk-item sk-dashed-wrapped\"><div class=\"sk-label-container\"><div class=\"sk-label sk-toggleable\"><input class=\"sk-toggleable__control sk-hidden--visually\" id=\"sk-estimator-id-7\" type=\"checkbox\" ><label for=\"sk-estimator-id-7\" class=\"sk-toggleable__label sk-toggleable__label-arrow\">GridSearchCV</label><div class=\"sk-toggleable__content\"><pre>GridSearchCV(cv=StratifiedKFold(n_splits=8, random_state=None, shuffle=False),\n",
              "             estimator=XGBClassifier(base_score=None, booster=None,\n",
              "                                     callbacks=None, colsample_bylevel=None,\n",
              "                                     colsample_bynode=None,\n",
              "                                     colsample_bytree=None,\n",
              "                                     early_stopping_rounds=None,\n",
              "                                     enable_categorical=False, eval_metric=None,\n",
              "                                     feature_types=None, gamma=None,\n",
              "                                     gpu_id=None, grow_policy=None,\n",
              "                                     importance_...\n",
              "                                     max_leaves=None, min_child_weight=None,\n",
              "                                     missing=nan, monotone_constraints=None,\n",
              "                                     n_estimators=100, n_jobs=None,\n",
              "                                     num_parallel_tree=None, predictor=None,\n",
              "                                     random_state=None, ...),\n",
              "             n_jobs=-1,\n",
              "             param_grid={&#x27;learning_rate&#x27;: array([0.05, 0.1 , 0.15, 0.2 , 0.25, 0.3 , 0.35]),\n",
              "                         &#x27;max_depth&#x27;: array([2, 3, 4, 5]),\n",
              "                         &#x27;n_estimators&#x27;: array([ 2,  4,  6,  8, 10, 12, 14, 16, 18])},\n",
              "             scoring=&#x27;average_precision&#x27;, verbose=1)</pre></div></div></div><div class=\"sk-parallel\"><div class=\"sk-parallel-item\"><div class=\"sk-item\"><div class=\"sk-label-container\"><div class=\"sk-label sk-toggleable\"><input class=\"sk-toggleable__control sk-hidden--visually\" id=\"sk-estimator-id-8\" type=\"checkbox\" ><label for=\"sk-estimator-id-8\" class=\"sk-toggleable__label sk-toggleable__label-arrow\">estimator: XGBClassifier</label><div class=\"sk-toggleable__content\"><pre>XGBClassifier(base_score=None, booster=None, callbacks=None,\n",
              "              colsample_bylevel=None, colsample_bynode=None,\n",
              "              colsample_bytree=None, early_stopping_rounds=None,\n",
              "              enable_categorical=False, eval_metric=None, feature_types=None,\n",
              "              gamma=None, gpu_id=None, grow_policy=None, importance_type=None,\n",
              "              interaction_constraints=None, learning_rate=None, max_bin=None,\n",
              "              max_cat_threshold=None, max_cat_to_onehot=None,\n",
              "              max_delta_step=None, max_depth=None, max_leaves=None,\n",
              "              min_child_weight=None, missing=nan, monotone_constraints=None,\n",
              "              n_estimators=100, n_jobs=None, num_parallel_tree=None,\n",
              "              predictor=None, random_state=None, ...)</pre></div></div></div><div class=\"sk-serial\"><div class=\"sk-item\"><div class=\"sk-estimator sk-toggleable\"><input class=\"sk-toggleable__control sk-hidden--visually\" id=\"sk-estimator-id-9\" type=\"checkbox\" ><label for=\"sk-estimator-id-9\" class=\"sk-toggleable__label sk-toggleable__label-arrow\">XGBClassifier</label><div class=\"sk-toggleable__content\"><pre>XGBClassifier(base_score=None, booster=None, callbacks=None,\n",
              "              colsample_bylevel=None, colsample_bynode=None,\n",
              "              colsample_bytree=None, early_stopping_rounds=None,\n",
              "              enable_categorical=False, eval_metric=None, feature_types=None,\n",
              "              gamma=None, gpu_id=None, grow_policy=None, importance_type=None,\n",
              "              interaction_constraints=None, learning_rate=None, max_bin=None,\n",
              "              max_cat_threshold=None, max_cat_to_onehot=None,\n",
              "              max_delta_step=None, max_depth=None, max_leaves=None,\n",
              "              min_child_weight=None, missing=nan, monotone_constraints=None,\n",
              "              n_estimators=100, n_jobs=None, num_parallel_tree=None,\n",
              "              predictor=None, random_state=None, ...)</pre></div></div></div></div></div></div></div></div></div></div>"
            ]
          },
          "metadata": {},
          "execution_count": 53
        }
      ],
      "source": [
        "parameters = {\n",
        "    'n_estimators':np.arange(start=2,stop=20,step=2),\n",
        "    'max_depth':np.arange(start=2,stop=6,step=1),\n",
        "    'learning_rate':np.arange(start=0.05,stop=0.4,step=0.05)\n",
        "}\n",
        "stratifiedCV = StratifiedKFold(n_splits=8)\n",
        "# XGBC: XGBoost classifier\n",
        "XGBoostModel = XGBC()\n",
        "BestXGBoost = GridSearchCV(\n",
        "    XGBoostModel,\n",
        "    param_grid=parameters,\n",
        "    scoring='average_precision',\n",
        "    cv=stratifiedCV,\n",
        "    verbose=1,\n",
        "    n_jobs=-1\n",
        ")\n",
        "BestXGBoost.fit(X_df_SMOTE,np.ravel(y_df_SMOTE))"
      ]
    },
    {
      "cell_type": "code",
      "execution_count": 54,
      "metadata": {
        "colab": {
          "base_uri": "https://localhost:8080/"
        },
        "id": "S7lqHo5Wa2e0",
        "outputId": "359321e4-354f-4a6c-9c31-6bf077359ebc"
      },
      "outputs": [
        {
          "output_type": "execute_result",
          "data": {
            "text/plain": [
              "{'learning_rate': 0.35000000000000003, 'max_depth': 5, 'n_estimators': 18}"
            ]
          },
          "metadata": {},
          "execution_count": 54
        }
      ],
      "source": [
        "BestXGBoost.best_params_"
      ]
    },
    {
      "cell_type": "code",
      "execution_count": 55,
      "metadata": {
        "colab": {
          "base_uri": "https://localhost:8080/"
        },
        "id": "u_hbKsNOa4ej",
        "outputId": "6598eb28-de7a-451d-9097-e1af023bb2f6"
      },
      "outputs": [
        {
          "output_type": "execute_result",
          "data": {
            "text/plain": [
              "0.9872203640650375"
            ]
          },
          "metadata": {},
          "execution_count": 55
        }
      ],
      "source": [
        "BestXGBoost.best_score_"
      ]
    },
    {
      "cell_type": "code",
      "execution_count": 56,
      "metadata": {
        "colab": {
          "base_uri": "https://localhost:8080/",
          "height": 160
        },
        "id": "WBQSqgFRa6X_",
        "outputId": "a307d369-300a-4ce8-ca51-5ed381cc2e77"
      },
      "outputs": [
        {
          "output_type": "stream",
          "name": "stdout",
          "text": [
            "XGB AUC score on test dataset: AUROC 0.567, AP 0.099, F1 0.199 \n"
          ]
        },
        {
          "output_type": "execute_result",
          "data": {
            "text/plain": [
              "col_0       0    1\n",
              "outcome           \n",
              "0        2498  161\n",
              "1         170   41"
            ],
            "text/html": [
              "\n",
              "\n",
              "  <div id=\"df-8095cd6e-b694-410d-a4a4-cd7b76ac3194\">\n",
              "    <div class=\"colab-df-container\">\n",
              "      <div>\n",
              "<style scoped>\n",
              "    .dataframe tbody tr th:only-of-type {\n",
              "        vertical-align: middle;\n",
              "    }\n",
              "\n",
              "    .dataframe tbody tr th {\n",
              "        vertical-align: top;\n",
              "    }\n",
              "\n",
              "    .dataframe thead th {\n",
              "        text-align: right;\n",
              "    }\n",
              "</style>\n",
              "<table border=\"1\" class=\"dataframe\">\n",
              "  <thead>\n",
              "    <tr style=\"text-align: right;\">\n",
              "      <th>col_0</th>\n",
              "      <th>0</th>\n",
              "      <th>1</th>\n",
              "    </tr>\n",
              "    <tr>\n",
              "      <th>outcome</th>\n",
              "      <th></th>\n",
              "      <th></th>\n",
              "    </tr>\n",
              "  </thead>\n",
              "  <tbody>\n",
              "    <tr>\n",
              "      <th>0</th>\n",
              "      <td>2498</td>\n",
              "      <td>161</td>\n",
              "    </tr>\n",
              "    <tr>\n",
              "      <th>1</th>\n",
              "      <td>170</td>\n",
              "      <td>41</td>\n",
              "    </tr>\n",
              "  </tbody>\n",
              "</table>\n",
              "</div>\n",
              "      <button class=\"colab-df-convert\" onclick=\"convertToInteractive('df-8095cd6e-b694-410d-a4a4-cd7b76ac3194')\"\n",
              "              title=\"Convert this dataframe to an interactive table.\"\n",
              "              style=\"display:none;\">\n",
              "\n",
              "  <svg xmlns=\"http://www.w3.org/2000/svg\" height=\"24px\"viewBox=\"0 0 24 24\"\n",
              "       width=\"24px\">\n",
              "    <path d=\"M0 0h24v24H0V0z\" fill=\"none\"/>\n",
              "    <path d=\"M18.56 5.44l.94 2.06.94-2.06 2.06-.94-2.06-.94-.94-2.06-.94 2.06-2.06.94zm-11 1L8.5 8.5l.94-2.06 2.06-.94-2.06-.94L8.5 2.5l-.94 2.06-2.06.94zm10 10l.94 2.06.94-2.06 2.06-.94-2.06-.94-.94-2.06-.94 2.06-2.06.94z\"/><path d=\"M17.41 7.96l-1.37-1.37c-.4-.4-.92-.59-1.43-.59-.52 0-1.04.2-1.43.59L10.3 9.45l-7.72 7.72c-.78.78-.78 2.05 0 2.83L4 21.41c.39.39.9.59 1.41.59.51 0 1.02-.2 1.41-.59l7.78-7.78 2.81-2.81c.8-.78.8-2.07 0-2.86zM5.41 20L4 18.59l7.72-7.72 1.47 1.35L5.41 20z\"/>\n",
              "  </svg>\n",
              "      </button>\n",
              "\n",
              "\n",
              "\n",
              "    <div id=\"df-fe58b76e-418f-4b69-a164-d5a79ac7947a\">\n",
              "      <button class=\"colab-df-quickchart\" onclick=\"quickchart('df-fe58b76e-418f-4b69-a164-d5a79ac7947a')\"\n",
              "              title=\"Suggest charts.\"\n",
              "              style=\"display:none;\">\n",
              "\n",
              "<svg xmlns=\"http://www.w3.org/2000/svg\" height=\"24px\"viewBox=\"0 0 24 24\"\n",
              "     width=\"24px\">\n",
              "    <g>\n",
              "        <path d=\"M19 3H5c-1.1 0-2 .9-2 2v14c0 1.1.9 2 2 2h14c1.1 0 2-.9 2-2V5c0-1.1-.9-2-2-2zM9 17H7v-7h2v7zm4 0h-2V7h2v10zm4 0h-2v-4h2v4z\"/>\n",
              "    </g>\n",
              "</svg>\n",
              "      </button>\n",
              "    </div>\n",
              "\n",
              "<style>\n",
              "  .colab-df-quickchart {\n",
              "    background-color: #E8F0FE;\n",
              "    border: none;\n",
              "    border-radius: 50%;\n",
              "    cursor: pointer;\n",
              "    display: none;\n",
              "    fill: #1967D2;\n",
              "    height: 32px;\n",
              "    padding: 0 0 0 0;\n",
              "    width: 32px;\n",
              "  }\n",
              "\n",
              "  .colab-df-quickchart:hover {\n",
              "    background-color: #E2EBFA;\n",
              "    box-shadow: 0px 1px 2px rgba(60, 64, 67, 0.3), 0px 1px 3px 1px rgba(60, 64, 67, 0.15);\n",
              "    fill: #174EA6;\n",
              "  }\n",
              "\n",
              "  [theme=dark] .colab-df-quickchart {\n",
              "    background-color: #3B4455;\n",
              "    fill: #D2E3FC;\n",
              "  }\n",
              "\n",
              "  [theme=dark] .colab-df-quickchart:hover {\n",
              "    background-color: #434B5C;\n",
              "    box-shadow: 0px 1px 3px 1px rgba(0, 0, 0, 0.15);\n",
              "    filter: drop-shadow(0px 1px 2px rgba(0, 0, 0, 0.3));\n",
              "    fill: #FFFFFF;\n",
              "  }\n",
              "</style>\n",
              "\n",
              "    <script>\n",
              "      async function quickchart(key) {\n",
              "        const containerElement = document.querySelector('#' + key);\n",
              "        const charts = await google.colab.kernel.invokeFunction(\n",
              "            'suggestCharts', [key], {});\n",
              "      }\n",
              "    </script>\n",
              "\n",
              "      <script>\n",
              "\n",
              "function displayQuickchartButton(domScope) {\n",
              "  let quickchartButtonEl =\n",
              "    domScope.querySelector('#df-fe58b76e-418f-4b69-a164-d5a79ac7947a button.colab-df-quickchart');\n",
              "  quickchartButtonEl.style.display =\n",
              "    google.colab.kernel.accessAllowed ? 'block' : 'none';\n",
              "}\n",
              "\n",
              "        displayQuickchartButton(document);\n",
              "      </script>\n",
              "      <style>\n",
              "    .colab-df-container {\n",
              "      display:flex;\n",
              "      flex-wrap:wrap;\n",
              "      gap: 12px;\n",
              "    }\n",
              "\n",
              "    .colab-df-convert {\n",
              "      background-color: #E8F0FE;\n",
              "      border: none;\n",
              "      border-radius: 50%;\n",
              "      cursor: pointer;\n",
              "      display: none;\n",
              "      fill: #1967D2;\n",
              "      height: 32px;\n",
              "      padding: 0 0 0 0;\n",
              "      width: 32px;\n",
              "    }\n",
              "\n",
              "    .colab-df-convert:hover {\n",
              "      background-color: #E2EBFA;\n",
              "      box-shadow: 0px 1px 2px rgba(60, 64, 67, 0.3), 0px 1px 3px 1px rgba(60, 64, 67, 0.15);\n",
              "      fill: #174EA6;\n",
              "    }\n",
              "\n",
              "    [theme=dark] .colab-df-convert {\n",
              "      background-color: #3B4455;\n",
              "      fill: #D2E3FC;\n",
              "    }\n",
              "\n",
              "    [theme=dark] .colab-df-convert:hover {\n",
              "      background-color: #434B5C;\n",
              "      box-shadow: 0px 1px 3px 1px rgba(0, 0, 0, 0.15);\n",
              "      filter: drop-shadow(0px 1px 2px rgba(0, 0, 0, 0.3));\n",
              "      fill: #FFFFFF;\n",
              "    }\n",
              "  </style>\n",
              "\n",
              "      <script>\n",
              "        const buttonEl =\n",
              "          document.querySelector('#df-8095cd6e-b694-410d-a4a4-cd7b76ac3194 button.colab-df-convert');\n",
              "        buttonEl.style.display =\n",
              "          google.colab.kernel.accessAllowed ? 'block' : 'none';\n",
              "\n",
              "        async function convertToInteractive(key) {\n",
              "          const element = document.querySelector('#df-8095cd6e-b694-410d-a4a4-cd7b76ac3194');\n",
              "          const dataTable =\n",
              "            await google.colab.kernel.invokeFunction('convertToInteractive',\n",
              "                                                     [key], {});\n",
              "          if (!dataTable) return;\n",
              "\n",
              "          const docLinkHtml = 'Like what you see? Visit the ' +\n",
              "            '<a target=\"_blank\" href=https://colab.research.google.com/notebooks/data_table.ipynb>data table notebook</a>'\n",
              "            + ' to learn more about interactive tables.';\n",
              "          element.innerHTML = '';\n",
              "          dataTable['output_type'] = 'display_data';\n",
              "          await google.colab.output.renderOutput(dataTable, element);\n",
              "          const docLink = document.createElement('div');\n",
              "          docLink.innerHTML = docLinkHtml;\n",
              "          element.appendChild(docLink);\n",
              "        }\n",
              "      </script>\n",
              "    </div>\n",
              "  </div>\n"
            ]
          },
          "metadata": {},
          "execution_count": 56
        }
      ],
      "source": [
        "y_pred = BestXGBoost.predict(X_df_Test)\n",
        "\n",
        "auroc_XGB = roc_auc_score(y_df_Test,y_pred)\n",
        "ap_XGB = average_precision_score(y_df_Test,y_pred)\n",
        "f1_XGB = f1_score(y_df_Test,y_pred)\n",
        "\n",
        "print('XGB AUC score on test dataset: AUROC {:.3f}, AP {:.3f}, F1 {:.3f} '.format(auroc_XGB,ap_XGB,f1_XGB))\n",
        "\n",
        "pd.crosstab(y_df_Test[\"outcome\"],y_pred)"
      ]
    },
    {
      "cell_type": "markdown",
      "metadata": {
        "id": "F_x_mEtFr061"
      },
      "source": [
        "Adaboost"
      ]
    },
    {
      "cell_type": "code",
      "execution_count": 57,
      "metadata": {
        "id": "KMrbfAOkr25a"
      },
      "outputs": [],
      "source": [
        "from sklearn.ensemble import AdaBoostClassifier"
      ]
    },
    {
      "cell_type": "code",
      "execution_count": 58,
      "metadata": {
        "colab": {
          "base_uri": "https://localhost:8080/",
          "height": 133
        },
        "id": "BPzTs4H2r4a8",
        "outputId": "1d4a2819-08a5-4338-e9cc-209189b75655"
      },
      "outputs": [
        {
          "output_type": "stream",
          "name": "stdout",
          "text": [
            "Fitting 8 folds for each of 63 candidates, totalling 504 fits\n"
          ]
        },
        {
          "output_type": "execute_result",
          "data": {
            "text/plain": [
              "GridSearchCV(cv=StratifiedKFold(n_splits=8, random_state=None, shuffle=False),\n",
              "             estimator=AdaBoostClassifier(), n_jobs=-1,\n",
              "             param_grid={'learning_rate': array([0.05, 0.1 , 0.15, 0.2 , 0.25, 0.3 , 0.35]),\n",
              "                         'n_estimators': array([ 2,  4,  6,  8, 10, 12, 14, 16, 18])},\n",
              "             scoring='average_precision', verbose=1)"
            ],
            "text/html": [
              "<style>#sk-container-id-6 {color: black;background-color: white;}#sk-container-id-6 pre{padding: 0;}#sk-container-id-6 div.sk-toggleable {background-color: white;}#sk-container-id-6 label.sk-toggleable__label {cursor: pointer;display: block;width: 100%;margin-bottom: 0;padding: 0.3em;box-sizing: border-box;text-align: center;}#sk-container-id-6 label.sk-toggleable__label-arrow:before {content: \"▸\";float: left;margin-right: 0.25em;color: #696969;}#sk-container-id-6 label.sk-toggleable__label-arrow:hover:before {color: black;}#sk-container-id-6 div.sk-estimator:hover label.sk-toggleable__label-arrow:before {color: black;}#sk-container-id-6 div.sk-toggleable__content {max-height: 0;max-width: 0;overflow: hidden;text-align: left;background-color: #f0f8ff;}#sk-container-id-6 div.sk-toggleable__content pre {margin: 0.2em;color: black;border-radius: 0.25em;background-color: #f0f8ff;}#sk-container-id-6 input.sk-toggleable__control:checked~div.sk-toggleable__content {max-height: 200px;max-width: 100%;overflow: auto;}#sk-container-id-6 input.sk-toggleable__control:checked~label.sk-toggleable__label-arrow:before {content: \"▾\";}#sk-container-id-6 div.sk-estimator input.sk-toggleable__control:checked~label.sk-toggleable__label {background-color: #d4ebff;}#sk-container-id-6 div.sk-label input.sk-toggleable__control:checked~label.sk-toggleable__label {background-color: #d4ebff;}#sk-container-id-6 input.sk-hidden--visually {border: 0;clip: rect(1px 1px 1px 1px);clip: rect(1px, 1px, 1px, 1px);height: 1px;margin: -1px;overflow: hidden;padding: 0;position: absolute;width: 1px;}#sk-container-id-6 div.sk-estimator {font-family: monospace;background-color: #f0f8ff;border: 1px dotted black;border-radius: 0.25em;box-sizing: border-box;margin-bottom: 0.5em;}#sk-container-id-6 div.sk-estimator:hover {background-color: #d4ebff;}#sk-container-id-6 div.sk-parallel-item::after {content: \"\";width: 100%;border-bottom: 1px solid gray;flex-grow: 1;}#sk-container-id-6 div.sk-label:hover label.sk-toggleable__label {background-color: #d4ebff;}#sk-container-id-6 div.sk-serial::before {content: \"\";position: absolute;border-left: 1px solid gray;box-sizing: border-box;top: 0;bottom: 0;left: 50%;z-index: 0;}#sk-container-id-6 div.sk-serial {display: flex;flex-direction: column;align-items: center;background-color: white;padding-right: 0.2em;padding-left: 0.2em;position: relative;}#sk-container-id-6 div.sk-item {position: relative;z-index: 1;}#sk-container-id-6 div.sk-parallel {display: flex;align-items: stretch;justify-content: center;background-color: white;position: relative;}#sk-container-id-6 div.sk-item::before, #sk-container-id-6 div.sk-parallel-item::before {content: \"\";position: absolute;border-left: 1px solid gray;box-sizing: border-box;top: 0;bottom: 0;left: 50%;z-index: -1;}#sk-container-id-6 div.sk-parallel-item {display: flex;flex-direction: column;z-index: 1;position: relative;background-color: white;}#sk-container-id-6 div.sk-parallel-item:first-child::after {align-self: flex-end;width: 50%;}#sk-container-id-6 div.sk-parallel-item:last-child::after {align-self: flex-start;width: 50%;}#sk-container-id-6 div.sk-parallel-item:only-child::after {width: 0;}#sk-container-id-6 div.sk-dashed-wrapped {border: 1px dashed gray;margin: 0 0.4em 0.5em 0.4em;box-sizing: border-box;padding-bottom: 0.4em;background-color: white;}#sk-container-id-6 div.sk-label label {font-family: monospace;font-weight: bold;display: inline-block;line-height: 1.2em;}#sk-container-id-6 div.sk-label-container {text-align: center;}#sk-container-id-6 div.sk-container {/* jupyter's `normalize.less` sets `[hidden] { display: none; }` but bootstrap.min.css set `[hidden] { display: none !important; }` so we also need the `!important` here to be able to override the default hidden behavior on the sphinx rendered scikit-learn.org. See: https://github.com/scikit-learn/scikit-learn/issues/21755 */display: inline-block !important;position: relative;}#sk-container-id-6 div.sk-text-repr-fallback {display: none;}</style><div id=\"sk-container-id-6\" class=\"sk-top-container\"><div class=\"sk-text-repr-fallback\"><pre>GridSearchCV(cv=StratifiedKFold(n_splits=8, random_state=None, shuffle=False),\n",
              "             estimator=AdaBoostClassifier(), n_jobs=-1,\n",
              "             param_grid={&#x27;learning_rate&#x27;: array([0.05, 0.1 , 0.15, 0.2 , 0.25, 0.3 , 0.35]),\n",
              "                         &#x27;n_estimators&#x27;: array([ 2,  4,  6,  8, 10, 12, 14, 16, 18])},\n",
              "             scoring=&#x27;average_precision&#x27;, verbose=1)</pre><b>In a Jupyter environment, please rerun this cell to show the HTML representation or trust the notebook. <br />On GitHub, the HTML representation is unable to render, please try loading this page with nbviewer.org.</b></div><div class=\"sk-container\" hidden><div class=\"sk-item sk-dashed-wrapped\"><div class=\"sk-label-container\"><div class=\"sk-label sk-toggleable\"><input class=\"sk-toggleable__control sk-hidden--visually\" id=\"sk-estimator-id-10\" type=\"checkbox\" ><label for=\"sk-estimator-id-10\" class=\"sk-toggleable__label sk-toggleable__label-arrow\">GridSearchCV</label><div class=\"sk-toggleable__content\"><pre>GridSearchCV(cv=StratifiedKFold(n_splits=8, random_state=None, shuffle=False),\n",
              "             estimator=AdaBoostClassifier(), n_jobs=-1,\n",
              "             param_grid={&#x27;learning_rate&#x27;: array([0.05, 0.1 , 0.15, 0.2 , 0.25, 0.3 , 0.35]),\n",
              "                         &#x27;n_estimators&#x27;: array([ 2,  4,  6,  8, 10, 12, 14, 16, 18])},\n",
              "             scoring=&#x27;average_precision&#x27;, verbose=1)</pre></div></div></div><div class=\"sk-parallel\"><div class=\"sk-parallel-item\"><div class=\"sk-item\"><div class=\"sk-label-container\"><div class=\"sk-label sk-toggleable\"><input class=\"sk-toggleable__control sk-hidden--visually\" id=\"sk-estimator-id-11\" type=\"checkbox\" ><label for=\"sk-estimator-id-11\" class=\"sk-toggleable__label sk-toggleable__label-arrow\">estimator: AdaBoostClassifier</label><div class=\"sk-toggleable__content\"><pre>AdaBoostClassifier()</pre></div></div></div><div class=\"sk-serial\"><div class=\"sk-item\"><div class=\"sk-estimator sk-toggleable\"><input class=\"sk-toggleable__control sk-hidden--visually\" id=\"sk-estimator-id-12\" type=\"checkbox\" ><label for=\"sk-estimator-id-12\" class=\"sk-toggleable__label sk-toggleable__label-arrow\">AdaBoostClassifier</label><div class=\"sk-toggleable__content\"><pre>AdaBoostClassifier()</pre></div></div></div></div></div></div></div></div></div></div>"
            ]
          },
          "metadata": {},
          "execution_count": 58
        }
      ],
      "source": [
        "parameters = {\n",
        "    'n_estimators':np.arange(start=2,stop=20,step=2),\n",
        "    'learning_rate':np.arange(start=0.05,stop=0.4,step=0.05)\n",
        "}\n",
        "stratifiedCV = StratifiedKFold(n_splits=8)\n",
        "\n",
        "AdaModel = AdaBoostClassifier()\n",
        "\n",
        "BestAdaModel = GridSearchCV(\n",
        "    estimator = AdaModel,\n",
        "    param_grid=parameters,\n",
        "    scoring='average_precision',\n",
        "    cv=stratifiedCV,\n",
        "    verbose=1,\n",
        "    n_jobs=-1\n",
        ")\n",
        "\n",
        "BestAdaModel.fit(X_df_SMOTE,np.ravel(y_df_SMOTE))"
      ]
    },
    {
      "cell_type": "code",
      "execution_count": 59,
      "metadata": {
        "colab": {
          "base_uri": "https://localhost:8080/"
        },
        "id": "b95T2lHnut-O",
        "outputId": "b97c709d-7e23-4b48-b777-0a9b0cf24c16"
      },
      "outputs": [
        {
          "output_type": "execute_result",
          "data": {
            "text/plain": [
              "{'learning_rate': 0.35000000000000003, 'n_estimators': 18}"
            ]
          },
          "metadata": {},
          "execution_count": 59
        }
      ],
      "source": [
        "BestAdaModel.best_params_"
      ]
    },
    {
      "cell_type": "code",
      "execution_count": 60,
      "metadata": {
        "colab": {
          "base_uri": "https://localhost:8080/"
        },
        "id": "xCHSUFrEuyms",
        "outputId": "cf143fdb-496e-4576-e664-1d6addcceb1b"
      },
      "outputs": [
        {
          "output_type": "execute_result",
          "data": {
            "text/plain": [
              "0.8285323787897951"
            ]
          },
          "metadata": {},
          "execution_count": 60
        }
      ],
      "source": [
        "BestAdaModel.best_score_"
      ]
    },
    {
      "cell_type": "code",
      "execution_count": 61,
      "metadata": {
        "colab": {
          "base_uri": "https://localhost:8080/",
          "height": 160
        },
        "id": "mlEr-ukftgIQ",
        "outputId": "107e8dbe-6370-4033-adb9-9a59553fe993"
      },
      "outputs": [
        {
          "output_type": "stream",
          "name": "stdout",
          "text": [
            "AB AUC score on test dataset: AUROC 0.692, AP 0.134, F1 0.267 \n"
          ]
        },
        {
          "output_type": "execute_result",
          "data": {
            "text/plain": [
              "col_0       0    1\n",
              "outcome           \n",
              "0        2015  644\n",
              "1          79  132"
            ],
            "text/html": [
              "\n",
              "\n",
              "  <div id=\"df-e6a35ffc-8b0c-46ff-a9ec-d088be7e8117\">\n",
              "    <div class=\"colab-df-container\">\n",
              "      <div>\n",
              "<style scoped>\n",
              "    .dataframe tbody tr th:only-of-type {\n",
              "        vertical-align: middle;\n",
              "    }\n",
              "\n",
              "    .dataframe tbody tr th {\n",
              "        vertical-align: top;\n",
              "    }\n",
              "\n",
              "    .dataframe thead th {\n",
              "        text-align: right;\n",
              "    }\n",
              "</style>\n",
              "<table border=\"1\" class=\"dataframe\">\n",
              "  <thead>\n",
              "    <tr style=\"text-align: right;\">\n",
              "      <th>col_0</th>\n",
              "      <th>0</th>\n",
              "      <th>1</th>\n",
              "    </tr>\n",
              "    <tr>\n",
              "      <th>outcome</th>\n",
              "      <th></th>\n",
              "      <th></th>\n",
              "    </tr>\n",
              "  </thead>\n",
              "  <tbody>\n",
              "    <tr>\n",
              "      <th>0</th>\n",
              "      <td>2015</td>\n",
              "      <td>644</td>\n",
              "    </tr>\n",
              "    <tr>\n",
              "      <th>1</th>\n",
              "      <td>79</td>\n",
              "      <td>132</td>\n",
              "    </tr>\n",
              "  </tbody>\n",
              "</table>\n",
              "</div>\n",
              "      <button class=\"colab-df-convert\" onclick=\"convertToInteractive('df-e6a35ffc-8b0c-46ff-a9ec-d088be7e8117')\"\n",
              "              title=\"Convert this dataframe to an interactive table.\"\n",
              "              style=\"display:none;\">\n",
              "\n",
              "  <svg xmlns=\"http://www.w3.org/2000/svg\" height=\"24px\"viewBox=\"0 0 24 24\"\n",
              "       width=\"24px\">\n",
              "    <path d=\"M0 0h24v24H0V0z\" fill=\"none\"/>\n",
              "    <path d=\"M18.56 5.44l.94 2.06.94-2.06 2.06-.94-2.06-.94-.94-2.06-.94 2.06-2.06.94zm-11 1L8.5 8.5l.94-2.06 2.06-.94-2.06-.94L8.5 2.5l-.94 2.06-2.06.94zm10 10l.94 2.06.94-2.06 2.06-.94-2.06-.94-.94-2.06-.94 2.06-2.06.94z\"/><path d=\"M17.41 7.96l-1.37-1.37c-.4-.4-.92-.59-1.43-.59-.52 0-1.04.2-1.43.59L10.3 9.45l-7.72 7.72c-.78.78-.78 2.05 0 2.83L4 21.41c.39.39.9.59 1.41.59.51 0 1.02-.2 1.41-.59l7.78-7.78 2.81-2.81c.8-.78.8-2.07 0-2.86zM5.41 20L4 18.59l7.72-7.72 1.47 1.35L5.41 20z\"/>\n",
              "  </svg>\n",
              "      </button>\n",
              "\n",
              "\n",
              "\n",
              "    <div id=\"df-5122f1c4-d582-41f4-a3a5-88ccca618483\">\n",
              "      <button class=\"colab-df-quickchart\" onclick=\"quickchart('df-5122f1c4-d582-41f4-a3a5-88ccca618483')\"\n",
              "              title=\"Suggest charts.\"\n",
              "              style=\"display:none;\">\n",
              "\n",
              "<svg xmlns=\"http://www.w3.org/2000/svg\" height=\"24px\"viewBox=\"0 0 24 24\"\n",
              "     width=\"24px\">\n",
              "    <g>\n",
              "        <path d=\"M19 3H5c-1.1 0-2 .9-2 2v14c0 1.1.9 2 2 2h14c1.1 0 2-.9 2-2V5c0-1.1-.9-2-2-2zM9 17H7v-7h2v7zm4 0h-2V7h2v10zm4 0h-2v-4h2v4z\"/>\n",
              "    </g>\n",
              "</svg>\n",
              "      </button>\n",
              "    </div>\n",
              "\n",
              "<style>\n",
              "  .colab-df-quickchart {\n",
              "    background-color: #E8F0FE;\n",
              "    border: none;\n",
              "    border-radius: 50%;\n",
              "    cursor: pointer;\n",
              "    display: none;\n",
              "    fill: #1967D2;\n",
              "    height: 32px;\n",
              "    padding: 0 0 0 0;\n",
              "    width: 32px;\n",
              "  }\n",
              "\n",
              "  .colab-df-quickchart:hover {\n",
              "    background-color: #E2EBFA;\n",
              "    box-shadow: 0px 1px 2px rgba(60, 64, 67, 0.3), 0px 1px 3px 1px rgba(60, 64, 67, 0.15);\n",
              "    fill: #174EA6;\n",
              "  }\n",
              "\n",
              "  [theme=dark] .colab-df-quickchart {\n",
              "    background-color: #3B4455;\n",
              "    fill: #D2E3FC;\n",
              "  }\n",
              "\n",
              "  [theme=dark] .colab-df-quickchart:hover {\n",
              "    background-color: #434B5C;\n",
              "    box-shadow: 0px 1px 3px 1px rgba(0, 0, 0, 0.15);\n",
              "    filter: drop-shadow(0px 1px 2px rgba(0, 0, 0, 0.3));\n",
              "    fill: #FFFFFF;\n",
              "  }\n",
              "</style>\n",
              "\n",
              "    <script>\n",
              "      async function quickchart(key) {\n",
              "        const containerElement = document.querySelector('#' + key);\n",
              "        const charts = await google.colab.kernel.invokeFunction(\n",
              "            'suggestCharts', [key], {});\n",
              "      }\n",
              "    </script>\n",
              "\n",
              "      <script>\n",
              "\n",
              "function displayQuickchartButton(domScope) {\n",
              "  let quickchartButtonEl =\n",
              "    domScope.querySelector('#df-5122f1c4-d582-41f4-a3a5-88ccca618483 button.colab-df-quickchart');\n",
              "  quickchartButtonEl.style.display =\n",
              "    google.colab.kernel.accessAllowed ? 'block' : 'none';\n",
              "}\n",
              "\n",
              "        displayQuickchartButton(document);\n",
              "      </script>\n",
              "      <style>\n",
              "    .colab-df-container {\n",
              "      display:flex;\n",
              "      flex-wrap:wrap;\n",
              "      gap: 12px;\n",
              "    }\n",
              "\n",
              "    .colab-df-convert {\n",
              "      background-color: #E8F0FE;\n",
              "      border: none;\n",
              "      border-radius: 50%;\n",
              "      cursor: pointer;\n",
              "      display: none;\n",
              "      fill: #1967D2;\n",
              "      height: 32px;\n",
              "      padding: 0 0 0 0;\n",
              "      width: 32px;\n",
              "    }\n",
              "\n",
              "    .colab-df-convert:hover {\n",
              "      background-color: #E2EBFA;\n",
              "      box-shadow: 0px 1px 2px rgba(60, 64, 67, 0.3), 0px 1px 3px 1px rgba(60, 64, 67, 0.15);\n",
              "      fill: #174EA6;\n",
              "    }\n",
              "\n",
              "    [theme=dark] .colab-df-convert {\n",
              "      background-color: #3B4455;\n",
              "      fill: #D2E3FC;\n",
              "    }\n",
              "\n",
              "    [theme=dark] .colab-df-convert:hover {\n",
              "      background-color: #434B5C;\n",
              "      box-shadow: 0px 1px 3px 1px rgba(0, 0, 0, 0.15);\n",
              "      filter: drop-shadow(0px 1px 2px rgba(0, 0, 0, 0.3));\n",
              "      fill: #FFFFFF;\n",
              "    }\n",
              "  </style>\n",
              "\n",
              "      <script>\n",
              "        const buttonEl =\n",
              "          document.querySelector('#df-e6a35ffc-8b0c-46ff-a9ec-d088be7e8117 button.colab-df-convert');\n",
              "        buttonEl.style.display =\n",
              "          google.colab.kernel.accessAllowed ? 'block' : 'none';\n",
              "\n",
              "        async function convertToInteractive(key) {\n",
              "          const element = document.querySelector('#df-e6a35ffc-8b0c-46ff-a9ec-d088be7e8117');\n",
              "          const dataTable =\n",
              "            await google.colab.kernel.invokeFunction('convertToInteractive',\n",
              "                                                     [key], {});\n",
              "          if (!dataTable) return;\n",
              "\n",
              "          const docLinkHtml = 'Like what you see? Visit the ' +\n",
              "            '<a target=\"_blank\" href=https://colab.research.google.com/notebooks/data_table.ipynb>data table notebook</a>'\n",
              "            + ' to learn more about interactive tables.';\n",
              "          element.innerHTML = '';\n",
              "          dataTable['output_type'] = 'display_data';\n",
              "          await google.colab.output.renderOutput(dataTable, element);\n",
              "          const docLink = document.createElement('div');\n",
              "          docLink.innerHTML = docLinkHtml;\n",
              "          element.appendChild(docLink);\n",
              "        }\n",
              "      </script>\n",
              "    </div>\n",
              "  </div>\n"
            ]
          },
          "metadata": {},
          "execution_count": 61
        }
      ],
      "source": [
        "y_pred = BestAdaModel.predict(X_df_Test)\n",
        "\n",
        "auroc_AB = roc_auc_score(y_df_Test,y_pred)\n",
        "ap_AB = average_precision_score(y_df_Test,y_pred)\n",
        "f1_AB = f1_score(y_df_Test,y_pred)\n",
        "\n",
        "print('AB AUC score on test dataset: AUROC {:.3f}, AP {:.3f}, F1 {:.3f} '.format(auroc_AB,ap_AB,f1_AB))\n",
        "\n",
        "pd.crosstab(y_df_Test[\"outcome\"],y_pred)"
      ]
    },
    {
      "cell_type": "markdown",
      "metadata": {
        "id": "8dAkPSc_a7qg"
      },
      "source": [
        "# SVM"
      ]
    },
    {
      "cell_type": "markdown",
      "metadata": {
        "id": "xYYrpbjVbLf3"
      },
      "source": [
        "Linear SVM"
      ]
    },
    {
      "cell_type": "code",
      "execution_count": 62,
      "metadata": {
        "id": "qIVYmKdHbBGi"
      },
      "outputs": [],
      "source": [
        "from sklearn.svm import SVC"
      ]
    },
    {
      "cell_type": "code",
      "execution_count": 63,
      "metadata": {
        "colab": {
          "base_uri": "https://localhost:8080/",
          "height": 133
        },
        "id": "UmXptrDobQEp",
        "outputId": "5ddc868f-ed6c-499b-e264-d0b590ece25a"
      },
      "outputs": [
        {
          "output_type": "stream",
          "name": "stdout",
          "text": [
            "Fitting 8 folds for each of 4 candidates, totalling 32 fits\n"
          ]
        },
        {
          "output_type": "execute_result",
          "data": {
            "text/plain": [
              "GridSearchCV(cv=StratifiedKFold(n_splits=8, random_state=None, shuffle=False),\n",
              "             estimator=SVC(kernel='linear'), n_jobs=-1,\n",
              "             param_grid={'C': array([ 1,  6, 11, 16])},\n",
              "             scoring='average_precision', verbose=1)"
            ],
            "text/html": [
              "<style>#sk-container-id-7 {color: black;background-color: white;}#sk-container-id-7 pre{padding: 0;}#sk-container-id-7 div.sk-toggleable {background-color: white;}#sk-container-id-7 label.sk-toggleable__label {cursor: pointer;display: block;width: 100%;margin-bottom: 0;padding: 0.3em;box-sizing: border-box;text-align: center;}#sk-container-id-7 label.sk-toggleable__label-arrow:before {content: \"▸\";float: left;margin-right: 0.25em;color: #696969;}#sk-container-id-7 label.sk-toggleable__label-arrow:hover:before {color: black;}#sk-container-id-7 div.sk-estimator:hover label.sk-toggleable__label-arrow:before {color: black;}#sk-container-id-7 div.sk-toggleable__content {max-height: 0;max-width: 0;overflow: hidden;text-align: left;background-color: #f0f8ff;}#sk-container-id-7 div.sk-toggleable__content pre {margin: 0.2em;color: black;border-radius: 0.25em;background-color: #f0f8ff;}#sk-container-id-7 input.sk-toggleable__control:checked~div.sk-toggleable__content {max-height: 200px;max-width: 100%;overflow: auto;}#sk-container-id-7 input.sk-toggleable__control:checked~label.sk-toggleable__label-arrow:before {content: \"▾\";}#sk-container-id-7 div.sk-estimator input.sk-toggleable__control:checked~label.sk-toggleable__label {background-color: #d4ebff;}#sk-container-id-7 div.sk-label input.sk-toggleable__control:checked~label.sk-toggleable__label {background-color: #d4ebff;}#sk-container-id-7 input.sk-hidden--visually {border: 0;clip: rect(1px 1px 1px 1px);clip: rect(1px, 1px, 1px, 1px);height: 1px;margin: -1px;overflow: hidden;padding: 0;position: absolute;width: 1px;}#sk-container-id-7 div.sk-estimator {font-family: monospace;background-color: #f0f8ff;border: 1px dotted black;border-radius: 0.25em;box-sizing: border-box;margin-bottom: 0.5em;}#sk-container-id-7 div.sk-estimator:hover {background-color: #d4ebff;}#sk-container-id-7 div.sk-parallel-item::after {content: \"\";width: 100%;border-bottom: 1px solid gray;flex-grow: 1;}#sk-container-id-7 div.sk-label:hover label.sk-toggleable__label {background-color: #d4ebff;}#sk-container-id-7 div.sk-serial::before {content: \"\";position: absolute;border-left: 1px solid gray;box-sizing: border-box;top: 0;bottom: 0;left: 50%;z-index: 0;}#sk-container-id-7 div.sk-serial {display: flex;flex-direction: column;align-items: center;background-color: white;padding-right: 0.2em;padding-left: 0.2em;position: relative;}#sk-container-id-7 div.sk-item {position: relative;z-index: 1;}#sk-container-id-7 div.sk-parallel {display: flex;align-items: stretch;justify-content: center;background-color: white;position: relative;}#sk-container-id-7 div.sk-item::before, #sk-container-id-7 div.sk-parallel-item::before {content: \"\";position: absolute;border-left: 1px solid gray;box-sizing: border-box;top: 0;bottom: 0;left: 50%;z-index: -1;}#sk-container-id-7 div.sk-parallel-item {display: flex;flex-direction: column;z-index: 1;position: relative;background-color: white;}#sk-container-id-7 div.sk-parallel-item:first-child::after {align-self: flex-end;width: 50%;}#sk-container-id-7 div.sk-parallel-item:last-child::after {align-self: flex-start;width: 50%;}#sk-container-id-7 div.sk-parallel-item:only-child::after {width: 0;}#sk-container-id-7 div.sk-dashed-wrapped {border: 1px dashed gray;margin: 0 0.4em 0.5em 0.4em;box-sizing: border-box;padding-bottom: 0.4em;background-color: white;}#sk-container-id-7 div.sk-label label {font-family: monospace;font-weight: bold;display: inline-block;line-height: 1.2em;}#sk-container-id-7 div.sk-label-container {text-align: center;}#sk-container-id-7 div.sk-container {/* jupyter's `normalize.less` sets `[hidden] { display: none; }` but bootstrap.min.css set `[hidden] { display: none !important; }` so we also need the `!important` here to be able to override the default hidden behavior on the sphinx rendered scikit-learn.org. See: https://github.com/scikit-learn/scikit-learn/issues/21755 */display: inline-block !important;position: relative;}#sk-container-id-7 div.sk-text-repr-fallback {display: none;}</style><div id=\"sk-container-id-7\" class=\"sk-top-container\"><div class=\"sk-text-repr-fallback\"><pre>GridSearchCV(cv=StratifiedKFold(n_splits=8, random_state=None, shuffle=False),\n",
              "             estimator=SVC(kernel=&#x27;linear&#x27;), n_jobs=-1,\n",
              "             param_grid={&#x27;C&#x27;: array([ 1,  6, 11, 16])},\n",
              "             scoring=&#x27;average_precision&#x27;, verbose=1)</pre><b>In a Jupyter environment, please rerun this cell to show the HTML representation or trust the notebook. <br />On GitHub, the HTML representation is unable to render, please try loading this page with nbviewer.org.</b></div><div class=\"sk-container\" hidden><div class=\"sk-item sk-dashed-wrapped\"><div class=\"sk-label-container\"><div class=\"sk-label sk-toggleable\"><input class=\"sk-toggleable__control sk-hidden--visually\" id=\"sk-estimator-id-13\" type=\"checkbox\" ><label for=\"sk-estimator-id-13\" class=\"sk-toggleable__label sk-toggleable__label-arrow\">GridSearchCV</label><div class=\"sk-toggleable__content\"><pre>GridSearchCV(cv=StratifiedKFold(n_splits=8, random_state=None, shuffle=False),\n",
              "             estimator=SVC(kernel=&#x27;linear&#x27;), n_jobs=-1,\n",
              "             param_grid={&#x27;C&#x27;: array([ 1,  6, 11, 16])},\n",
              "             scoring=&#x27;average_precision&#x27;, verbose=1)</pre></div></div></div><div class=\"sk-parallel\"><div class=\"sk-parallel-item\"><div class=\"sk-item\"><div class=\"sk-label-container\"><div class=\"sk-label sk-toggleable\"><input class=\"sk-toggleable__control sk-hidden--visually\" id=\"sk-estimator-id-14\" type=\"checkbox\" ><label for=\"sk-estimator-id-14\" class=\"sk-toggleable__label sk-toggleable__label-arrow\">estimator: SVC</label><div class=\"sk-toggleable__content\"><pre>SVC(kernel=&#x27;linear&#x27;)</pre></div></div></div><div class=\"sk-serial\"><div class=\"sk-item\"><div class=\"sk-estimator sk-toggleable\"><input class=\"sk-toggleable__control sk-hidden--visually\" id=\"sk-estimator-id-15\" type=\"checkbox\" ><label for=\"sk-estimator-id-15\" class=\"sk-toggleable__label sk-toggleable__label-arrow\">SVC</label><div class=\"sk-toggleable__content\"><pre>SVC(kernel=&#x27;linear&#x27;)</pre></div></div></div></div></div></div></div></div></div></div>"
            ]
          },
          "metadata": {},
          "execution_count": 63
        }
      ],
      "source": [
        "# 'C': strength of L2 regularization on linear SVM. Larger 'C' --> smaller regularization.\n",
        "parameters = {\n",
        "    'C':np.arange(start=1,stop=20,step=5)\n",
        "}\n",
        "stratifiedCV = StratifiedKFold(n_splits=8)\n",
        "SVCModel = SVC(kernel='linear')\n",
        "BestSVC = GridSearchCV(\n",
        "    SVCModel,\n",
        "    param_grid=parameters,\n",
        "    scoring='average_precision',\n",
        "    cv=stratifiedCV,\n",
        "    verbose=1,\n",
        "    n_jobs=-1\n",
        ")\n",
        "BestSVC.fit(X_df_SMOTE,np.ravel(y_df_SMOTE))"
      ]
    },
    {
      "cell_type": "code",
      "execution_count": 64,
      "metadata": {
        "colab": {
          "base_uri": "https://localhost:8080/",
          "height": 74
        },
        "id": "y0T1_g3dbfNU",
        "outputId": "0573529a-2a38-401d-9ef3-c8194865792b"
      },
      "outputs": [
        {
          "output_type": "execute_result",
          "data": {
            "text/plain": [
              "SVC(C=1, kernel='linear')"
            ],
            "text/html": [
              "<style>#sk-container-id-8 {color: black;background-color: white;}#sk-container-id-8 pre{padding: 0;}#sk-container-id-8 div.sk-toggleable {background-color: white;}#sk-container-id-8 label.sk-toggleable__label {cursor: pointer;display: block;width: 100%;margin-bottom: 0;padding: 0.3em;box-sizing: border-box;text-align: center;}#sk-container-id-8 label.sk-toggleable__label-arrow:before {content: \"▸\";float: left;margin-right: 0.25em;color: #696969;}#sk-container-id-8 label.sk-toggleable__label-arrow:hover:before {color: black;}#sk-container-id-8 div.sk-estimator:hover label.sk-toggleable__label-arrow:before {color: black;}#sk-container-id-8 div.sk-toggleable__content {max-height: 0;max-width: 0;overflow: hidden;text-align: left;background-color: #f0f8ff;}#sk-container-id-8 div.sk-toggleable__content pre {margin: 0.2em;color: black;border-radius: 0.25em;background-color: #f0f8ff;}#sk-container-id-8 input.sk-toggleable__control:checked~div.sk-toggleable__content {max-height: 200px;max-width: 100%;overflow: auto;}#sk-container-id-8 input.sk-toggleable__control:checked~label.sk-toggleable__label-arrow:before {content: \"▾\";}#sk-container-id-8 div.sk-estimator input.sk-toggleable__control:checked~label.sk-toggleable__label {background-color: #d4ebff;}#sk-container-id-8 div.sk-label input.sk-toggleable__control:checked~label.sk-toggleable__label {background-color: #d4ebff;}#sk-container-id-8 input.sk-hidden--visually {border: 0;clip: rect(1px 1px 1px 1px);clip: rect(1px, 1px, 1px, 1px);height: 1px;margin: -1px;overflow: hidden;padding: 0;position: absolute;width: 1px;}#sk-container-id-8 div.sk-estimator {font-family: monospace;background-color: #f0f8ff;border: 1px dotted black;border-radius: 0.25em;box-sizing: border-box;margin-bottom: 0.5em;}#sk-container-id-8 div.sk-estimator:hover {background-color: #d4ebff;}#sk-container-id-8 div.sk-parallel-item::after {content: \"\";width: 100%;border-bottom: 1px solid gray;flex-grow: 1;}#sk-container-id-8 div.sk-label:hover label.sk-toggleable__label {background-color: #d4ebff;}#sk-container-id-8 div.sk-serial::before {content: \"\";position: absolute;border-left: 1px solid gray;box-sizing: border-box;top: 0;bottom: 0;left: 50%;z-index: 0;}#sk-container-id-8 div.sk-serial {display: flex;flex-direction: column;align-items: center;background-color: white;padding-right: 0.2em;padding-left: 0.2em;position: relative;}#sk-container-id-8 div.sk-item {position: relative;z-index: 1;}#sk-container-id-8 div.sk-parallel {display: flex;align-items: stretch;justify-content: center;background-color: white;position: relative;}#sk-container-id-8 div.sk-item::before, #sk-container-id-8 div.sk-parallel-item::before {content: \"\";position: absolute;border-left: 1px solid gray;box-sizing: border-box;top: 0;bottom: 0;left: 50%;z-index: -1;}#sk-container-id-8 div.sk-parallel-item {display: flex;flex-direction: column;z-index: 1;position: relative;background-color: white;}#sk-container-id-8 div.sk-parallel-item:first-child::after {align-self: flex-end;width: 50%;}#sk-container-id-8 div.sk-parallel-item:last-child::after {align-self: flex-start;width: 50%;}#sk-container-id-8 div.sk-parallel-item:only-child::after {width: 0;}#sk-container-id-8 div.sk-dashed-wrapped {border: 1px dashed gray;margin: 0 0.4em 0.5em 0.4em;box-sizing: border-box;padding-bottom: 0.4em;background-color: white;}#sk-container-id-8 div.sk-label label {font-family: monospace;font-weight: bold;display: inline-block;line-height: 1.2em;}#sk-container-id-8 div.sk-label-container {text-align: center;}#sk-container-id-8 div.sk-container {/* jupyter's `normalize.less` sets `[hidden] { display: none; }` but bootstrap.min.css set `[hidden] { display: none !important; }` so we also need the `!important` here to be able to override the default hidden behavior on the sphinx rendered scikit-learn.org. See: https://github.com/scikit-learn/scikit-learn/issues/21755 */display: inline-block !important;position: relative;}#sk-container-id-8 div.sk-text-repr-fallback {display: none;}</style><div id=\"sk-container-id-8\" class=\"sk-top-container\"><div class=\"sk-text-repr-fallback\"><pre>SVC(C=1, kernel=&#x27;linear&#x27;)</pre><b>In a Jupyter environment, please rerun this cell to show the HTML representation or trust the notebook. <br />On GitHub, the HTML representation is unable to render, please try loading this page with nbviewer.org.</b></div><div class=\"sk-container\" hidden><div class=\"sk-item\"><div class=\"sk-estimator sk-toggleable\"><input class=\"sk-toggleable__control sk-hidden--visually\" id=\"sk-estimator-id-16\" type=\"checkbox\" checked><label for=\"sk-estimator-id-16\" class=\"sk-toggleable__label sk-toggleable__label-arrow\">SVC</label><div class=\"sk-toggleable__content\"><pre>SVC(C=1, kernel=&#x27;linear&#x27;)</pre></div></div></div></div></div>"
            ]
          },
          "metadata": {},
          "execution_count": 64
        }
      ],
      "source": [
        "BestSVC.best_estimator_"
      ]
    },
    {
      "cell_type": "code",
      "execution_count": 65,
      "metadata": {
        "colab": {
          "base_uri": "https://localhost:8080/"
        },
        "id": "cXMDEdKobiDV",
        "outputId": "ef9d5fd5-206a-4b09-84ac-e00eb98e7cde"
      },
      "outputs": [
        {
          "output_type": "execute_result",
          "data": {
            "text/plain": [
              "0.731078879491803"
            ]
          },
          "metadata": {},
          "execution_count": 65
        }
      ],
      "source": [
        "BestSVC.best_score_"
      ]
    },
    {
      "cell_type": "code",
      "execution_count": 71,
      "metadata": {
        "colab": {
          "base_uri": "https://localhost:8080/",
          "height": 160
        },
        "id": "Qi3kN7wgbkCW",
        "outputId": "2cc1f834-e44f-475e-a76f-0c9a1d9d61e0"
      },
      "outputs": [
        {
          "output_type": "stream",
          "name": "stdout",
          "text": [
            "SVM score on test dataset: AUROC 0.683, AP 0.127, F1 0.251 \n"
          ]
        },
        {
          "output_type": "execute_result",
          "data": {
            "text/plain": [
              "col_0       0    1\n",
              "outcome           \n",
              "0        1931  728\n",
              "1          76  135"
            ],
            "text/html": [
              "\n",
              "\n",
              "  <div id=\"df-84ed9805-9973-4997-8e0a-00602808b69d\">\n",
              "    <div class=\"colab-df-container\">\n",
              "      <div>\n",
              "<style scoped>\n",
              "    .dataframe tbody tr th:only-of-type {\n",
              "        vertical-align: middle;\n",
              "    }\n",
              "\n",
              "    .dataframe tbody tr th {\n",
              "        vertical-align: top;\n",
              "    }\n",
              "\n",
              "    .dataframe thead th {\n",
              "        text-align: right;\n",
              "    }\n",
              "</style>\n",
              "<table border=\"1\" class=\"dataframe\">\n",
              "  <thead>\n",
              "    <tr style=\"text-align: right;\">\n",
              "      <th>col_0</th>\n",
              "      <th>0</th>\n",
              "      <th>1</th>\n",
              "    </tr>\n",
              "    <tr>\n",
              "      <th>outcome</th>\n",
              "      <th></th>\n",
              "      <th></th>\n",
              "    </tr>\n",
              "  </thead>\n",
              "  <tbody>\n",
              "    <tr>\n",
              "      <th>0</th>\n",
              "      <td>1931</td>\n",
              "      <td>728</td>\n",
              "    </tr>\n",
              "    <tr>\n",
              "      <th>1</th>\n",
              "      <td>76</td>\n",
              "      <td>135</td>\n",
              "    </tr>\n",
              "  </tbody>\n",
              "</table>\n",
              "</div>\n",
              "      <button class=\"colab-df-convert\" onclick=\"convertToInteractive('df-84ed9805-9973-4997-8e0a-00602808b69d')\"\n",
              "              title=\"Convert this dataframe to an interactive table.\"\n",
              "              style=\"display:none;\">\n",
              "\n",
              "  <svg xmlns=\"http://www.w3.org/2000/svg\" height=\"24px\"viewBox=\"0 0 24 24\"\n",
              "       width=\"24px\">\n",
              "    <path d=\"M0 0h24v24H0V0z\" fill=\"none\"/>\n",
              "    <path d=\"M18.56 5.44l.94 2.06.94-2.06 2.06-.94-2.06-.94-.94-2.06-.94 2.06-2.06.94zm-11 1L8.5 8.5l.94-2.06 2.06-.94-2.06-.94L8.5 2.5l-.94 2.06-2.06.94zm10 10l.94 2.06.94-2.06 2.06-.94-2.06-.94-.94-2.06-.94 2.06-2.06.94z\"/><path d=\"M17.41 7.96l-1.37-1.37c-.4-.4-.92-.59-1.43-.59-.52 0-1.04.2-1.43.59L10.3 9.45l-7.72 7.72c-.78.78-.78 2.05 0 2.83L4 21.41c.39.39.9.59 1.41.59.51 0 1.02-.2 1.41-.59l7.78-7.78 2.81-2.81c.8-.78.8-2.07 0-2.86zM5.41 20L4 18.59l7.72-7.72 1.47 1.35L5.41 20z\"/>\n",
              "  </svg>\n",
              "      </button>\n",
              "\n",
              "\n",
              "\n",
              "    <div id=\"df-6e997c27-36b3-483d-98e8-729f490b717c\">\n",
              "      <button class=\"colab-df-quickchart\" onclick=\"quickchart('df-6e997c27-36b3-483d-98e8-729f490b717c')\"\n",
              "              title=\"Suggest charts.\"\n",
              "              style=\"display:none;\">\n",
              "\n",
              "<svg xmlns=\"http://www.w3.org/2000/svg\" height=\"24px\"viewBox=\"0 0 24 24\"\n",
              "     width=\"24px\">\n",
              "    <g>\n",
              "        <path d=\"M19 3H5c-1.1 0-2 .9-2 2v14c0 1.1.9 2 2 2h14c1.1 0 2-.9 2-2V5c0-1.1-.9-2-2-2zM9 17H7v-7h2v7zm4 0h-2V7h2v10zm4 0h-2v-4h2v4z\"/>\n",
              "    </g>\n",
              "</svg>\n",
              "      </button>\n",
              "    </div>\n",
              "\n",
              "<style>\n",
              "  .colab-df-quickchart {\n",
              "    background-color: #E8F0FE;\n",
              "    border: none;\n",
              "    border-radius: 50%;\n",
              "    cursor: pointer;\n",
              "    display: none;\n",
              "    fill: #1967D2;\n",
              "    height: 32px;\n",
              "    padding: 0 0 0 0;\n",
              "    width: 32px;\n",
              "  }\n",
              "\n",
              "  .colab-df-quickchart:hover {\n",
              "    background-color: #E2EBFA;\n",
              "    box-shadow: 0px 1px 2px rgba(60, 64, 67, 0.3), 0px 1px 3px 1px rgba(60, 64, 67, 0.15);\n",
              "    fill: #174EA6;\n",
              "  }\n",
              "\n",
              "  [theme=dark] .colab-df-quickchart {\n",
              "    background-color: #3B4455;\n",
              "    fill: #D2E3FC;\n",
              "  }\n",
              "\n",
              "  [theme=dark] .colab-df-quickchart:hover {\n",
              "    background-color: #434B5C;\n",
              "    box-shadow: 0px 1px 3px 1px rgba(0, 0, 0, 0.15);\n",
              "    filter: drop-shadow(0px 1px 2px rgba(0, 0, 0, 0.3));\n",
              "    fill: #FFFFFF;\n",
              "  }\n",
              "</style>\n",
              "\n",
              "    <script>\n",
              "      async function quickchart(key) {\n",
              "        const containerElement = document.querySelector('#' + key);\n",
              "        const charts = await google.colab.kernel.invokeFunction(\n",
              "            'suggestCharts', [key], {});\n",
              "      }\n",
              "    </script>\n",
              "\n",
              "      <script>\n",
              "\n",
              "function displayQuickchartButton(domScope) {\n",
              "  let quickchartButtonEl =\n",
              "    domScope.querySelector('#df-6e997c27-36b3-483d-98e8-729f490b717c button.colab-df-quickchart');\n",
              "  quickchartButtonEl.style.display =\n",
              "    google.colab.kernel.accessAllowed ? 'block' : 'none';\n",
              "}\n",
              "\n",
              "        displayQuickchartButton(document);\n",
              "      </script>\n",
              "      <style>\n",
              "    .colab-df-container {\n",
              "      display:flex;\n",
              "      flex-wrap:wrap;\n",
              "      gap: 12px;\n",
              "    }\n",
              "\n",
              "    .colab-df-convert {\n",
              "      background-color: #E8F0FE;\n",
              "      border: none;\n",
              "      border-radius: 50%;\n",
              "      cursor: pointer;\n",
              "      display: none;\n",
              "      fill: #1967D2;\n",
              "      height: 32px;\n",
              "      padding: 0 0 0 0;\n",
              "      width: 32px;\n",
              "    }\n",
              "\n",
              "    .colab-df-convert:hover {\n",
              "      background-color: #E2EBFA;\n",
              "      box-shadow: 0px 1px 2px rgba(60, 64, 67, 0.3), 0px 1px 3px 1px rgba(60, 64, 67, 0.15);\n",
              "      fill: #174EA6;\n",
              "    }\n",
              "\n",
              "    [theme=dark] .colab-df-convert {\n",
              "      background-color: #3B4455;\n",
              "      fill: #D2E3FC;\n",
              "    }\n",
              "\n",
              "    [theme=dark] .colab-df-convert:hover {\n",
              "      background-color: #434B5C;\n",
              "      box-shadow: 0px 1px 3px 1px rgba(0, 0, 0, 0.15);\n",
              "      filter: drop-shadow(0px 1px 2px rgba(0, 0, 0, 0.3));\n",
              "      fill: #FFFFFF;\n",
              "    }\n",
              "  </style>\n",
              "\n",
              "      <script>\n",
              "        const buttonEl =\n",
              "          document.querySelector('#df-84ed9805-9973-4997-8e0a-00602808b69d button.colab-df-convert');\n",
              "        buttonEl.style.display =\n",
              "          google.colab.kernel.accessAllowed ? 'block' : 'none';\n",
              "\n",
              "        async function convertToInteractive(key) {\n",
              "          const element = document.querySelector('#df-84ed9805-9973-4997-8e0a-00602808b69d');\n",
              "          const dataTable =\n",
              "            await google.colab.kernel.invokeFunction('convertToInteractive',\n",
              "                                                     [key], {});\n",
              "          if (!dataTable) return;\n",
              "\n",
              "          const docLinkHtml = 'Like what you see? Visit the ' +\n",
              "            '<a target=\"_blank\" href=https://colab.research.google.com/notebooks/data_table.ipynb>data table notebook</a>'\n",
              "            + ' to learn more about interactive tables.';\n",
              "          element.innerHTML = '';\n",
              "          dataTable['output_type'] = 'display_data';\n",
              "          await google.colab.output.renderOutput(dataTable, element);\n",
              "          const docLink = document.createElement('div');\n",
              "          docLink.innerHTML = docLinkHtml;\n",
              "          element.appendChild(docLink);\n",
              "        }\n",
              "      </script>\n",
              "    </div>\n",
              "  </div>\n"
            ]
          },
          "metadata": {},
          "execution_count": 71
        }
      ],
      "source": [
        "y_pred = BestSVC.predict(X_df_Test)\n",
        "\n",
        "auroc_SVM = roc_auc_score(y_df_Test,y_pred)\n",
        "ap_SVM = average_precision_score(y_df_Test,y_pred)\n",
        "f1_SVM = f1_score(y_df_Test,y_pred)\n",
        "\n",
        "print('SVM score on test dataset: AUROC {:.3f}, AP {:.3f}, F1 {:.3f} '.format(auroc_SVM,ap_SVM,f1_SVM))\n",
        "\n",
        "pd.crosstab(y_df_Test[\"outcome\"],y_pred)"
      ]
    },
    {
      "cell_type": "markdown",
      "metadata": {
        "id": "ls4INkaTb6Hp"
      },
      "source": [
        "Non-linear SVM"
      ]
    },
    {
      "cell_type": "code",
      "source": [
        "parameters = {\n",
        "    'C':np.arange(start=1,stop=20,step=5)\n",
        "}\n",
        "stratifiedCV = StratifiedKFold(n_splits=8)\n",
        "SVMrbfModel = SVC(kernel='rbf')\n",
        "BestSVMrbf = GridSearchCV(\n",
        "    SVMrbfModel,\n",
        "    param_grid=parameters,\n",
        "    scoring='average_precision',\n",
        "    cv=stratifiedCV,\n",
        "    verbose=1,\n",
        "    n_jobs=-1\n",
        ")\n",
        "BestSVMrbf.fit(X_df_SMOTE,np.ravel(y_df_SMOTE))"
      ],
      "metadata": {
        "colab": {
          "base_uri": "https://localhost:8080/"
        },
        "id": "VWsMyhRxwOV7",
        "outputId": "27509549-d421-44a2-9bcb-901a231f04e0"
      },
      "execution_count": null,
      "outputs": [
        {
          "output_type": "stream",
          "name": "stdout",
          "text": [
            "Fitting 8 folds for each of 4 candidates, totalling 32 fits\n"
          ]
        }
      ]
    },
    {
      "cell_type": "code",
      "source": [
        "BestSVMrbf.best_estimator_"
      ],
      "metadata": {
        "id": "NebLop-rw3Yc"
      },
      "execution_count": null,
      "outputs": []
    },
    {
      "cell_type": "code",
      "source": [
        "BestSVMrbf.best_score_"
      ],
      "metadata": {
        "id": "C5VVoz52w5J-"
      },
      "execution_count": null,
      "outputs": []
    },
    {
      "cell_type": "code",
      "source": [
        "y_pred = BestSVMrbf.predict(X_df_Test)\n",
        "\n",
        "auroc_SVMrbf = roc_auc_score(y_df_Test,y_pred)\n",
        "ap_SVMrbf = average_precision_score(y_df_Test,y_pred)\n",
        "f1_SVMrbf = f1_score(y_df_Test,y_pred)\n",
        "\n",
        "print('SVM score on test dataset: AUROC {:.3f}, AP {:.3f}, F1 {:.3f} '.format(auroc_SVMrbf,ap_SVMrbf,f1_SVMrbf))\n",
        "\n",
        "pd.crosstab(y_df_Test[\"outcome\"],y_pred)"
      ],
      "metadata": {
        "colab": {
          "base_uri": "https://localhost:8080/",
          "height": 160
        },
        "id": "FkVn7ew6w9J1",
        "outputId": "a1160ebe-355e-4b28-b1d5-6bf4293eae7c"
      },
      "execution_count": 72,
      "outputs": [
        {
          "output_type": "stream",
          "name": "stdout",
          "text": [
            "SVM score on test dataset: AUROC 0.537, AP 0.083, F1 0.142 \n"
          ]
        },
        {
          "output_type": "execute_result",
          "data": {
            "text/plain": [
              "col_0       0    1\n",
              "outcome           \n",
              "0        2478  181\n",
              "1         181   30"
            ],
            "text/html": [
              "\n",
              "\n",
              "  <div id=\"df-9cf02fc4-a86f-4eab-b0ae-63633d86ba3f\">\n",
              "    <div class=\"colab-df-container\">\n",
              "      <div>\n",
              "<style scoped>\n",
              "    .dataframe tbody tr th:only-of-type {\n",
              "        vertical-align: middle;\n",
              "    }\n",
              "\n",
              "    .dataframe tbody tr th {\n",
              "        vertical-align: top;\n",
              "    }\n",
              "\n",
              "    .dataframe thead th {\n",
              "        text-align: right;\n",
              "    }\n",
              "</style>\n",
              "<table border=\"1\" class=\"dataframe\">\n",
              "  <thead>\n",
              "    <tr style=\"text-align: right;\">\n",
              "      <th>col_0</th>\n",
              "      <th>0</th>\n",
              "      <th>1</th>\n",
              "    </tr>\n",
              "    <tr>\n",
              "      <th>outcome</th>\n",
              "      <th></th>\n",
              "      <th></th>\n",
              "    </tr>\n",
              "  </thead>\n",
              "  <tbody>\n",
              "    <tr>\n",
              "      <th>0</th>\n",
              "      <td>2478</td>\n",
              "      <td>181</td>\n",
              "    </tr>\n",
              "    <tr>\n",
              "      <th>1</th>\n",
              "      <td>181</td>\n",
              "      <td>30</td>\n",
              "    </tr>\n",
              "  </tbody>\n",
              "</table>\n",
              "</div>\n",
              "      <button class=\"colab-df-convert\" onclick=\"convertToInteractive('df-9cf02fc4-a86f-4eab-b0ae-63633d86ba3f')\"\n",
              "              title=\"Convert this dataframe to an interactive table.\"\n",
              "              style=\"display:none;\">\n",
              "\n",
              "  <svg xmlns=\"http://www.w3.org/2000/svg\" height=\"24px\"viewBox=\"0 0 24 24\"\n",
              "       width=\"24px\">\n",
              "    <path d=\"M0 0h24v24H0V0z\" fill=\"none\"/>\n",
              "    <path d=\"M18.56 5.44l.94 2.06.94-2.06 2.06-.94-2.06-.94-.94-2.06-.94 2.06-2.06.94zm-11 1L8.5 8.5l.94-2.06 2.06-.94-2.06-.94L8.5 2.5l-.94 2.06-2.06.94zm10 10l.94 2.06.94-2.06 2.06-.94-2.06-.94-.94-2.06-.94 2.06-2.06.94z\"/><path d=\"M17.41 7.96l-1.37-1.37c-.4-.4-.92-.59-1.43-.59-.52 0-1.04.2-1.43.59L10.3 9.45l-7.72 7.72c-.78.78-.78 2.05 0 2.83L4 21.41c.39.39.9.59 1.41.59.51 0 1.02-.2 1.41-.59l7.78-7.78 2.81-2.81c.8-.78.8-2.07 0-2.86zM5.41 20L4 18.59l7.72-7.72 1.47 1.35L5.41 20z\"/>\n",
              "  </svg>\n",
              "      </button>\n",
              "\n",
              "\n",
              "\n",
              "    <div id=\"df-0af6e454-b9e6-48fc-9364-b0f89f2067eb\">\n",
              "      <button class=\"colab-df-quickchart\" onclick=\"quickchart('df-0af6e454-b9e6-48fc-9364-b0f89f2067eb')\"\n",
              "              title=\"Suggest charts.\"\n",
              "              style=\"display:none;\">\n",
              "\n",
              "<svg xmlns=\"http://www.w3.org/2000/svg\" height=\"24px\"viewBox=\"0 0 24 24\"\n",
              "     width=\"24px\">\n",
              "    <g>\n",
              "        <path d=\"M19 3H5c-1.1 0-2 .9-2 2v14c0 1.1.9 2 2 2h14c1.1 0 2-.9 2-2V5c0-1.1-.9-2-2-2zM9 17H7v-7h2v7zm4 0h-2V7h2v10zm4 0h-2v-4h2v4z\"/>\n",
              "    </g>\n",
              "</svg>\n",
              "      </button>\n",
              "    </div>\n",
              "\n",
              "<style>\n",
              "  .colab-df-quickchart {\n",
              "    background-color: #E8F0FE;\n",
              "    border: none;\n",
              "    border-radius: 50%;\n",
              "    cursor: pointer;\n",
              "    display: none;\n",
              "    fill: #1967D2;\n",
              "    height: 32px;\n",
              "    padding: 0 0 0 0;\n",
              "    width: 32px;\n",
              "  }\n",
              "\n",
              "  .colab-df-quickchart:hover {\n",
              "    background-color: #E2EBFA;\n",
              "    box-shadow: 0px 1px 2px rgba(60, 64, 67, 0.3), 0px 1px 3px 1px rgba(60, 64, 67, 0.15);\n",
              "    fill: #174EA6;\n",
              "  }\n",
              "\n",
              "  [theme=dark] .colab-df-quickchart {\n",
              "    background-color: #3B4455;\n",
              "    fill: #D2E3FC;\n",
              "  }\n",
              "\n",
              "  [theme=dark] .colab-df-quickchart:hover {\n",
              "    background-color: #434B5C;\n",
              "    box-shadow: 0px 1px 3px 1px rgba(0, 0, 0, 0.15);\n",
              "    filter: drop-shadow(0px 1px 2px rgba(0, 0, 0, 0.3));\n",
              "    fill: #FFFFFF;\n",
              "  }\n",
              "</style>\n",
              "\n",
              "    <script>\n",
              "      async function quickchart(key) {\n",
              "        const containerElement = document.querySelector('#' + key);\n",
              "        const charts = await google.colab.kernel.invokeFunction(\n",
              "            'suggestCharts', [key], {});\n",
              "      }\n",
              "    </script>\n",
              "\n",
              "      <script>\n",
              "\n",
              "function displayQuickchartButton(domScope) {\n",
              "  let quickchartButtonEl =\n",
              "    domScope.querySelector('#df-0af6e454-b9e6-48fc-9364-b0f89f2067eb button.colab-df-quickchart');\n",
              "  quickchartButtonEl.style.display =\n",
              "    google.colab.kernel.accessAllowed ? 'block' : 'none';\n",
              "}\n",
              "\n",
              "        displayQuickchartButton(document);\n",
              "      </script>\n",
              "      <style>\n",
              "    .colab-df-container {\n",
              "      display:flex;\n",
              "      flex-wrap:wrap;\n",
              "      gap: 12px;\n",
              "    }\n",
              "\n",
              "    .colab-df-convert {\n",
              "      background-color: #E8F0FE;\n",
              "      border: none;\n",
              "      border-radius: 50%;\n",
              "      cursor: pointer;\n",
              "      display: none;\n",
              "      fill: #1967D2;\n",
              "      height: 32px;\n",
              "      padding: 0 0 0 0;\n",
              "      width: 32px;\n",
              "    }\n",
              "\n",
              "    .colab-df-convert:hover {\n",
              "      background-color: #E2EBFA;\n",
              "      box-shadow: 0px 1px 2px rgba(60, 64, 67, 0.3), 0px 1px 3px 1px rgba(60, 64, 67, 0.15);\n",
              "      fill: #174EA6;\n",
              "    }\n",
              "\n",
              "    [theme=dark] .colab-df-convert {\n",
              "      background-color: #3B4455;\n",
              "      fill: #D2E3FC;\n",
              "    }\n",
              "\n",
              "    [theme=dark] .colab-df-convert:hover {\n",
              "      background-color: #434B5C;\n",
              "      box-shadow: 0px 1px 3px 1px rgba(0, 0, 0, 0.15);\n",
              "      filter: drop-shadow(0px 1px 2px rgba(0, 0, 0, 0.3));\n",
              "      fill: #FFFFFF;\n",
              "    }\n",
              "  </style>\n",
              "\n",
              "      <script>\n",
              "        const buttonEl =\n",
              "          document.querySelector('#df-9cf02fc4-a86f-4eab-b0ae-63633d86ba3f button.colab-df-convert');\n",
              "        buttonEl.style.display =\n",
              "          google.colab.kernel.accessAllowed ? 'block' : 'none';\n",
              "\n",
              "        async function convertToInteractive(key) {\n",
              "          const element = document.querySelector('#df-9cf02fc4-a86f-4eab-b0ae-63633d86ba3f');\n",
              "          const dataTable =\n",
              "            await google.colab.kernel.invokeFunction('convertToInteractive',\n",
              "                                                     [key], {});\n",
              "          if (!dataTable) return;\n",
              "\n",
              "          const docLinkHtml = 'Like what you see? Visit the ' +\n",
              "            '<a target=\"_blank\" href=https://colab.research.google.com/notebooks/data_table.ipynb>data table notebook</a>'\n",
              "            + ' to learn more about interactive tables.';\n",
              "          element.innerHTML = '';\n",
              "          dataTable['output_type'] = 'display_data';\n",
              "          await google.colab.output.renderOutput(dataTable, element);\n",
              "          const docLink = document.createElement('div');\n",
              "          docLink.innerHTML = docLinkHtml;\n",
              "          element.appendChild(docLink);\n",
              "        }\n",
              "      </script>\n",
              "    </div>\n",
              "  </div>\n"
            ]
          },
          "metadata": {},
          "execution_count": 72
        }
      ]
    }
  ],
  "metadata": {
    "colab": {
      "provenance": []
    },
    "kernelspec": {
      "display_name": "Python 3",
      "language": "python",
      "name": "python3"
    },
    "language_info": {
      "codemirror_mode": {
        "name": "ipython",
        "version": 3
      },
      "file_extension": ".py",
      "mimetype": "text/x-python",
      "name": "python",
      "nbconvert_exporter": "python",
      "pygments_lexer": "ipython3",
      "version": "3.7.1"
    }
  },
  "nbformat": 4,
  "nbformat_minor": 0
}